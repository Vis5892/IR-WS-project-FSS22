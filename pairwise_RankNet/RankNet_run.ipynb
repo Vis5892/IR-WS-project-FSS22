{
 "cells": [
  {
   "cell_type": "code",
   "execution_count": 1,
   "id": "e87c2eb9",
   "metadata": {},
   "outputs": [
    {
     "name": "stdout",
     "output_type": "stream",
     "text": [
      "Loading label finished\n"
     ]
    }
   ],
   "source": [
    "# prepare train label\n",
    "label_list = {}\n",
    "label_file_path = 'label_2.tsv'\n",
    "label_file = open(label_file_path)\n",
    "\n",
    "#if there is header\n",
    "next(label_file)\n",
    "for line in label_file:\n",
    "    qid, pid, label = line.strip().split(\"\\t\")\n",
    "    label_list[qid, pid] = label\n",
    "\n",
    "print('Loading label finished')\n",
    "#print(label_list)"
   ]
  },
  {
   "cell_type": "code",
   "execution_count": 2,
   "id": "a943f3b6",
   "metadata": {},
   "outputs": [
    {
     "name": "stdout",
     "output_type": "stream",
     "text": [
      "Loading feature finished\n"
     ]
    }
   ],
   "source": [
    "# prepare feature data\n",
    "import pandas as pd\n",
    "feature = pd.read_csv('feature.tsv', sep = '\\t')\n",
    "#feature.drop(columns = '')\n",
    "print('Loading feature finished')"
   ]
  },
  {
   "cell_type": "code",
   "execution_count": null,
   "id": "11875e30",
   "metadata": {},
   "outputs": [],
   "source": []
  },
  {
   "cell_type": "code",
   "execution_count": 3,
   "id": "9ab04e39",
   "metadata": {},
   "outputs": [],
   "source": [
    "# make pairs for training\n",
    "from itertools import combinations\n",
    "def make_pairs(file_path, query_num, passage_num):\n",
    "\n",
    "    ## collect passages\n",
    "    qp = {}\n",
    "\n",
    "    file = open(file_path)\n",
    "    next(file)\n",
    "    for line in file:\n",
    "        #qid, pid, query, passage = line.strip().split(\"\\t\")\n",
    "        qid, pid1, pid2 = line.strip().split(\"\\t\")\n",
    "        if (qid not in qp) & (len(qp) < query_num):\n",
    "            qp[qid] = [pid1]\n",
    "            qp[qid].append(pid2)\n",
    "            \n",
    "        # collect specific passage\n",
    "        elif (qid in qp) & (len(qp[qid]) < passage_num):\n",
    "            if pid1 not in qp[qid]:\n",
    "                qp[qid].append(pid1)\n",
    "            if pid2 not in qp[qid]:\n",
    "                qp[qid].append(pid2)\n",
    "        elif (len(qp) == query_num) & (len(qp[qid]) == passage_num):\n",
    "            break\n",
    "        \n",
    "        \"\"\"collect all passages \n",
    "        else:\n",
    "            qp[qid].append(pid)\"\"\"\n",
    "\n",
    "\n",
    "    # all combination\n",
    "    comb_list = {}\n",
    "    \n",
    "    for q in qp.keys():\n",
    "        comb_list[q] = list(combinations(qp[q], 2))\n",
    "    #print(comb_list)\n",
    "    \n",
    "    \n",
    "    # make it as array\n",
    "    comb_array = []\n",
    "    for i, k in enumerate(comb_list.keys()):\n",
    "        for i, j in enumerate(comb_list[k]):\n",
    "        #print(k, j[0], j[1])\n",
    "            comb_array.append([k, j[0], j[1]])\n",
    "    \n",
    "    return comb_array\n"
   ]
  },
  {
   "cell_type": "code",
   "execution_count": 17,
   "id": "0b303fa4",
   "metadata": {},
   "outputs": [],
   "source": [
    "array = make_pairs('triple_test.tsv', 6000, 10)"
   ]
  },
  {
   "cell_type": "code",
   "execution_count": 5,
   "id": "588f807e",
   "metadata": {},
   "outputs": [],
   "source": [
    "import tensorflow as tf\n",
    "from tensorflow.keras import layers, activations, losses, Model, Input\n",
    "from tensorflow.nn import leaky_relu\n",
    "import numpy as np\n",
    "from itertools import combinations\n",
    "from tensorflow.keras.utils import plot_model, Progbar\n",
    "import matplotlib.pyplot as plt\n",
    "from sklearn.model_selection import train_test_split\n",
    "import numpy as np\n",
    "\n",
    "# model architecture\n",
    "class RankNet(Model):\n",
    "    def __init__(self):\n",
    "        super().__init__()\n",
    "        self.dense = [layers.Dense(16, activation=leaky_relu), layers.Dense(8, activation=leaky_relu)]\n",
    "        self.o = layers.Dense(1, activation='linear')\n",
    "        self.oi_minus_oj = layers.Subtract()\n",
    "    \n",
    "    def call(self, inputs):\n",
    "        xi, xj = inputs\n",
    "        densei = self.dense[0](xi)\n",
    "        densej = self.dense[0](xj)\n",
    "        for dense in self.dense[1:]:\n",
    "            densei = dense(densei)\n",
    "            densej = dense(densej)\n",
    "        oi = self.o(densei)\n",
    "        oj= self.o(densej)\n",
    "        oij = self.oi_minus_oj([oi, oj])\n",
    "        output = layers.Activation('sigmoid')(oij)\n",
    "        return output\n",
    "    \n",
    "    def build_graph(self):\n",
    "        x = [Input(shape=(200)), Input(shape=(200))]\n",
    "        return Model(inputs=x, outputs=self.call(x))"
   ]
  },
  {
   "cell_type": "code",
   "execution_count": 6,
   "id": "afda4540",
   "metadata": {},
   "outputs": [],
   "source": [
    "\n",
    "def get_label(label_data, qid, pid):\n",
    "    if (qid, pid) in label_data:\n",
    "        return 1\n",
    "    else:\n",
    "        return 0"
   ]
  },
  {
   "cell_type": "code",
   "execution_count": 18,
   "id": "23c4fbba",
   "metadata": {},
   "outputs": [
    {
     "data": {
      "text/plain": [
       "269373"
      ]
     },
     "execution_count": 18,
     "metadata": {},
     "output_type": "execute_result"
    }
   ],
   "source": [
    "len(array)"
   ]
  },
  {
   "cell_type": "code",
   "execution_count": 19,
   "id": "c4cf788c",
   "metadata": {},
   "outputs": [
    {
     "name": "stdout",
     "output_type": "stream",
     "text": [
      "Prepare data finished\n"
     ]
    }
   ],
   "source": [
    "xi = []\n",
    "xj = []\n",
    "pij = []\n",
    "pair_id = []\n",
    "pair_query_id = []\n",
    "\n",
    "\n",
    "\n",
    "\n",
    "\n",
    "for line in array:\n",
    "    qid = line[0]\n",
    "    pid1 = line[1]\n",
    "    pid2 = line[2]\n",
    "        \n",
    "    xi.append(list(np.float_(feature.loc[feature.pid == int(pid1),'passage'].values[0].strip('][').split(', '))))\n",
    "        #list(np.float_(feature.loc[feature.pid == 1811 ,'Feature_Vector'].values[0].strip('][').split(', ')))\n",
    "    xj.append(list(np.float_(feature.loc[feature.pid == int(pid2),'passage'].values[0].strip('][').split(', '))))\n",
    "    pair_id.append([pid1, pid2])\n",
    "    pair_query_id.append(qid)\n",
    "    \n",
    "    \n",
    "    label_data = label_list\n",
    "    label_pid1 = get_label(label_data, qid, pid1)\n",
    "    label_pid2 = get_label(label_data, qid, pid2)\n",
    "    \n",
    "    if label_pid1 == label_pid2:\n",
    "        _pij = 0.5\n",
    "    elif label_pid1 > label_pid2:\n",
    "        _pij = 1\n",
    "    else: \n",
    "         _pij = 0\n",
    "    pij.append(_pij)\n",
    "\n",
    "        \n",
    "\n",
    "\n",
    "\n",
    "xi = np.array(xi)\n",
    "xj = np.array(xj)\n",
    "pij = np.array(pij)\n",
    "pair_query_id = np.array(pair_query_id)\n",
    "\n",
    "print('Prepare data finished')"
   ]
  },
  {
   "cell_type": "code",
   "execution_count": 20,
   "id": "d7717710",
   "metadata": {},
   "outputs": [
    {
     "name": "stdout",
     "output_type": "stream",
     "text": [
      "Epoch 1/10\n",
      "6735/6735 [==============================] - 4s 542us/step - loss: 0.7020 - val_loss: 0.6894\n",
      "Epoch 2/10\n",
      "6735/6735 [==============================] - 3s 483us/step - loss: 0.6879 - val_loss: 0.6873\n",
      "Epoch 3/10\n",
      "6735/6735 [==============================] - 3s 473us/step - loss: 0.6849 - val_loss: 0.6850\n",
      "Epoch 4/10\n",
      "6735/6735 [==============================] - 3s 481us/step - loss: 0.6826 - val_loss: 0.6836\n",
      "Epoch 5/10\n",
      "6735/6735 [==============================] - 3s 486us/step - loss: 0.6809 - val_loss: 0.6822\n",
      "Epoch 6/10\n",
      "6735/6735 [==============================] - 3s 485us/step - loss: 0.6793 - val_loss: 0.6810\n",
      "Epoch 7/10\n",
      "6735/6735 [==============================] - 3s 485us/step - loss: 0.6781 - val_loss: 0.6799\n",
      "Epoch 8/10\n",
      "6735/6735 [==============================] - 3s 484us/step - loss: 0.6766 - val_loss: 0.6797\n",
      "Epoch 9/10\n",
      "6735/6735 [==============================] - 3s 485us/step - loss: 0.6757 - val_loss: 0.6781\n",
      "Epoch 10/10\n",
      "6735/6735 [==============================] - 3s 484us/step - loss: 0.6738 - val_loss: 0.6764\n"
     ]
    }
   ],
   "source": [
    "# split data\n",
    "xi_train, xi_test, xj_train, xj_test, pij_train, pij_test, pair_id_train, pair_id_test= train_test_split(\n",
    "    xi, xj, pij, pair_id, test_size=0.2, stratify=pair_query_id)\n",
    "\n",
    "# train model using compile and fit\n",
    "ranknet = RankNet()\n",
    "ranknet.compile(optimizer='adam', loss='binary_crossentropy')\n",
    "history = ranknet.fit([xi_train, xj_train], pij_train, epochs = 10, validation_data=([xi_test, xj_test], pij_test))\n",
    "\n"
   ]
  },
  {
   "cell_type": "code",
   "execution_count": 21,
   "id": "7b420c31",
   "metadata": {},
   "outputs": [
    {
     "data": {
      "image/png": "[encoded data removed]",
      "text/plain": [
       "<Figure size 432x288 with 1 Axes>"
      ]
     },
     "metadata": {
      "needs_background": "light"
     },
     "output_type": "display_data"
    }
   ],
   "source": [
    "# function for plotting loss\n",
    "def plot_metrics(train_metric, val_metric=None, metric_name=None, title=None, ylim=5):\n",
    "    plt.title(title)\n",
    "    plt.ylim(0,ylim)\n",
    "    plt.plot(train_metric,color='blue',label=metric_name)\n",
    "    if val_metric is not None: plt.plot(val_metric,color='green',label='val_' + metric_name)\n",
    "    plt.legend(loc=\"upper right\")\n",
    "\n",
    "# plot loss history\n",
    "plot_metrics(history.history['loss'], history.history['val_loss'], \"Loss\", \"Loss\", ylim=1.0)\n"
   ]
  },
  {
   "cell_type": "code",
   "execution_count": 22,
   "id": "d7e5b94f",
   "metadata": {},
   "outputs": [],
   "source": [
    "from itertools import combinations\n",
    "def make_pairs_test(file_path, query_num):\n",
    "\n",
    "    ## collect passages\n",
    "    qp = {}\n",
    "\n",
    "    file = open(file_path)\n",
    "    next(file)\n",
    "    for line in file:\n",
    "        #qid, pid, query, passage = line.strip().split(\"\\t\")\n",
    "        qid, pid1, pid2 = line.strip().split(\"\\t\")\n",
    "        if (qid not in qp) & (len(qp) < query_num):\n",
    "            qp[qid] = [pid1]\n",
    "            qp[qid].append(pid2)\n",
    "            \n",
    "        # collect all passage\n",
    "        elif qid in qp:\n",
    "            if pid1 not in qp[qid]:\n",
    "                qp[qid].append(pid1)\n",
    "            if pid2 not in qp[qid]:\n",
    "                qp[qid].append(pid2)\n",
    "\n",
    "        else:\n",
    "            break\n",
    "\n",
    "\n",
    "    # all combination\n",
    "    comb_list = {}\n",
    "    \n",
    "    for q in qp.keys():\n",
    "        comb_list[q] = list(combinations(qp[q], 2))\n",
    "    #print(comb_list)\n",
    "    \n",
    "    \n",
    "    # make it as array\n",
    "    comb_array = []\n",
    "    for i, k in enumerate(comb_list.keys()):\n",
    "        for i, j in enumerate(comb_list[k]):\n",
    "        #print(k, j[0], j[1])\n",
    "            comb_array.append([k, j[0], j[1]])\n",
    "    \n",
    "    return comb_array\n"
   ]
  },
  {
   "cell_type": "code",
   "execution_count": 23,
   "id": "81c88889",
   "metadata": {},
   "outputs": [],
   "source": [
    "test = make_pairs_test('test_query.tsv', 1)"
   ]
  },
  {
   "cell_type": "code",
   "execution_count": 24,
   "id": "a7ab8c37",
   "metadata": {},
   "outputs": [],
   "source": [
    "xi_eval = []\n",
    "xj_eval = []\n",
    "for item in test:\n",
    "    xi_eval.append(list(np.float_(feature.loc[feature.pid == int(item[1]),'passage'].values[0].strip('][').split(', '))))\n",
    "    xj_eval.append(list(np.float_(feature.loc[feature.pid == int(item[2]),'passage'].values[0].strip('][').split(', '))))\n",
    "\n",
    "xi_eval = np.array(xi_eval)\n",
    "xj_eval = np.array(xj_eval)"
   ]
  },
  {
   "cell_type": "code",
   "execution_count": 25,
   "id": "d2c3b9d2",
   "metadata": {},
   "outputs": [],
   "source": [
    "predict = ranknet.predict([xi_eval, xj_eval])"
   ]
  },
  {
   "cell_type": "code",
   "execution_count": 26,
   "id": "e322098b",
   "metadata": {},
   "outputs": [
    {
     "data": {
      "text/plain": [
       "array([[0.47286198],\n",
       "       [0.49877295],\n",
       "       [0.5001353 ],\n",
       "       ...,\n",
       "       [0.4957099 ],\n",
       "       [0.50618535],\n",
       "       [0.5104744 ]], dtype=float32)"
      ]
     },
     "execution_count": 26,
     "metadata": {},
     "output_type": "execute_result"
    }
   ],
   "source": [
    "predict"
   ]
  },
  {
   "cell_type": "code",
   "execution_count": 27,
   "id": "953a8372",
   "metadata": {},
   "outputs": [
    {
     "data": {
      "text/plain": [
       "499500"
      ]
     },
     "execution_count": 27,
     "metadata": {},
     "output_type": "execute_result"
    }
   ],
   "source": [
    "len(predict)"
   ]
  },
  {
   "cell_type": "code",
   "execution_count": null,
   "id": "0a33f625",
   "metadata": {},
   "outputs": [],
   "source": [
    "test"
   ]
  },
  {
   "cell_type": "code",
   "execution_count": 28,
   "id": "7633b44c",
   "metadata": {},
   "outputs": [
    {
     "name": "stdout",
     "output_type": "stream",
     "text": [
      "(1000, 3)\n",
      "       qid      pid       score\n",
      "0  1006748  7982952  928.788690\n",
      "1  1006748  5103082  890.241892\n",
      "2  1006748  5103083  865.835593\n",
      "3  1006748  5637948  828.798747\n",
      "4  1006748  8068340  799.752721\n"
     ]
    }
   ],
   "source": [
    "# create ranking based on probability\n",
    "qp_rank = []\n",
    "#pair_id_eval\n",
    "\n",
    "\n",
    "index = 0\n",
    "for p in predict:\n",
    "    qp_rank.append([test[index][0], test[index][1], float(p)])\n",
    "    qp_rank.append([test[index][0], test[index][2], 1-float(p)])\n",
    "    \n",
    "    #print(index)\n",
    "    index += 1\n",
    "\n",
    "score_board = pd.DataFrame(qp_rank, columns=[\n",
    "    \"qid\", \"pid\", \"score\"]).groupby(['qid', 'pid']).agg({\"score\": \"sum\"}).sort_values(['qid','score'], ascending=False).reset_index()\n",
    "print(score_board.shape)\n",
    "print(score_board.head())"
   ]
  },
  {
   "cell_type": "code",
   "execution_count": 29,
   "id": "52e6258c",
   "metadata": {},
   "outputs": [
    {
     "data": {
      "text/html": [
       "<div>\n",
       "<style scoped>\n",
       "    .dataframe tbody tr th:only-of-type {\n",
       "        vertical-align: middle;\n",
       "    }\n",
       "\n",
       "    .dataframe tbody tr th {\n",
       "        vertical-align: top;\n",
       "    }\n",
       "\n",
       "    .dataframe thead th {\n",
       "        text-align: right;\n",
       "    }\n",
       "</style>\n",
       "<table border=\"1\" class=\"dataframe\">\n",
       "  <thead>\n",
       "    <tr style=\"text-align: right;\">\n",
       "      <th></th>\n",
       "      <th>qid</th>\n",
       "      <th>pid</th>\n",
       "      <th>score</th>\n",
       "    </tr>\n",
       "  </thead>\n",
       "  <tbody>\n",
       "    <tr>\n",
       "      <th>0</th>\n",
       "      <td>1006748</td>\n",
       "      <td>7982952</td>\n",
       "      <td>928.788690</td>\n",
       "    </tr>\n",
       "    <tr>\n",
       "      <th>1</th>\n",
       "      <td>1006748</td>\n",
       "      <td>5103082</td>\n",
       "      <td>890.241892</td>\n",
       "    </tr>\n",
       "    <tr>\n",
       "      <th>2</th>\n",
       "      <td>1006748</td>\n",
       "      <td>5103083</td>\n",
       "      <td>865.835593</td>\n",
       "    </tr>\n",
       "    <tr>\n",
       "      <th>3</th>\n",
       "      <td>1006748</td>\n",
       "      <td>5637948</td>\n",
       "      <td>828.798747</td>\n",
       "    </tr>\n",
       "    <tr>\n",
       "      <th>4</th>\n",
       "      <td>1006748</td>\n",
       "      <td>8068340</td>\n",
       "      <td>799.752721</td>\n",
       "    </tr>\n",
       "    <tr>\n",
       "      <th>...</th>\n",
       "      <td>...</td>\n",
       "      <td>...</td>\n",
       "      <td>...</td>\n",
       "    </tr>\n",
       "    <tr>\n",
       "      <th>995</th>\n",
       "      <td>1006748</td>\n",
       "      <td>4577288</td>\n",
       "      <td>377.148542</td>\n",
       "    </tr>\n",
       "    <tr>\n",
       "      <th>996</th>\n",
       "      <td>1006748</td>\n",
       "      <td>4251222</td>\n",
       "      <td>374.390625</td>\n",
       "    </tr>\n",
       "    <tr>\n",
       "      <th>997</th>\n",
       "      <td>1006748</td>\n",
       "      <td>7273705</td>\n",
       "      <td>365.039765</td>\n",
       "    </tr>\n",
       "    <tr>\n",
       "      <th>998</th>\n",
       "      <td>1006748</td>\n",
       "      <td>5443938</td>\n",
       "      <td>361.183752</td>\n",
       "    </tr>\n",
       "    <tr>\n",
       "      <th>999</th>\n",
       "      <td>1006748</td>\n",
       "      <td>535787</td>\n",
       "      <td>306.256624</td>\n",
       "    </tr>\n",
       "  </tbody>\n",
       "</table>\n",
       "<p>1000 rows × 3 columns</p>\n",
       "</div>"
      ],
      "text/plain": [
       "         qid      pid       score\n",
       "0    1006748  7982952  928.788690\n",
       "1    1006748  5103082  890.241892\n",
       "2    1006748  5103083  865.835593\n",
       "3    1006748  5637948  828.798747\n",
       "4    1006748  8068340  799.752721\n",
       "..       ...      ...         ...\n",
       "995  1006748  4577288  377.148542\n",
       "996  1006748  4251222  374.390625\n",
       "997  1006748  7273705  365.039765\n",
       "998  1006748  5443938  361.183752\n",
       "999  1006748   535787  306.256624\n",
       "\n",
       "[1000 rows x 3 columns]"
      ]
     },
     "execution_count": 29,
     "metadata": {},
     "output_type": "execute_result"
    }
   ],
   "source": [
    "score_board"
   ]
  },
  {
   "cell_type": "code",
   "execution_count": 32,
   "id": "6de69476",
   "metadata": {},
   "outputs": [],
   "source": [
    "score_board.to_csv('score.tsv', sep = '\\t', header = True, index = False)"
   ]
  },
  {
   "cell_type": "code",
   "execution_count": 34,
   "id": "b654e76c",
   "metadata": {},
   "outputs": [
    {
     "data": {
      "text/html": [
       "<div>\n",
       "<style scoped>\n",
       "    .dataframe tbody tr th:only-of-type {\n",
       "        vertical-align: middle;\n",
       "    }\n",
       "\n",
       "    .dataframe tbody tr th {\n",
       "        vertical-align: top;\n",
       "    }\n",
       "\n",
       "    .dataframe thead th {\n",
       "        text-align: right;\n",
       "    }\n",
       "</style>\n",
       "<table border=\"1\" class=\"dataframe\">\n",
       "  <thead>\n",
       "    <tr style=\"text-align: right;\">\n",
       "      <th></th>\n",
       "      <th>qid</th>\n",
       "      <th>pid</th>\n",
       "      <th>score</th>\n",
       "    </tr>\n",
       "  </thead>\n",
       "  <tbody>\n",
       "    <tr>\n",
       "      <th>674</th>\n",
       "      <td>1006748</td>\n",
       "      <td>3543528</td>\n",
       "      <td>487.983704</td>\n",
       "    </tr>\n",
       "  </tbody>\n",
       "</table>\n",
       "</div>"
      ],
      "text/plain": [
       "         qid      pid       score\n",
       "674  1006748  3543528  487.983704"
      ]
     },
     "execution_count": 34,
     "metadata": {},
     "output_type": "execute_result"
    }
   ],
   "source": [
    "score_board[score_board['pid'] == '3543528']"
   ]
  },
  {
   "cell_type": "code",
   "execution_count": 35,
   "id": "ea60bdf6",
   "metadata": {},
   "outputs": [],
   "source": [
    "score_lines = score_board[['qid', 'pid']].to_numpy()"
   ]
  },
  {
   "cell_type": "code",
   "execution_count": 36,
   "id": "d8a6b506",
   "metadata": {},
   "outputs": [],
   "source": [
    "rank_score ={}\n",
    "for p in score_lines:\n",
    "    #print(p)\n",
    "    if p[0] not in rank_score:\n",
    "        rank_score[p[0]] = []\n",
    "    \n",
    "    if (p[0], p[1]) in label_list:\n",
    "        rank_score[p[0]].append(1)\n",
    "        #print(p[0], p[1])\n",
    "    else:\n",
    "        rank_score[p[0]].append(0)\n",
    "\n",
    "    "
   ]
  },
  {
   "cell_type": "code",
   "execution_count": 38,
   "id": "cd221670",
   "metadata": {},
   "outputs": [
    {
     "name": "stdout",
     "output_type": "stream",
     "text": [
      "0.325\n"
     ]
    }
   ],
   "source": [
    "# precision rate per pair\n",
    "count = 0\n",
    "index = 0\n",
    "for p in test:\n",
    "    if ((p[0], p[1]) in label_list) & (predict[index] > 0.5):\n",
    "        #print(p)\n",
    "        count += 1\n",
    "    elif ((p[0], p[2]) in label_list) & (predict[index] < 0.5):\n",
    "        #print(p)\n",
    "        count += 1\n",
    "    elif ((p[0], p[1]) not in label_list) & ((p[0], p[2]) not in label_list)& (predict[index] == 0.5):\n",
    "        #print(p)\n",
    "        count += 1\n",
    "    \n",
    "    index +=1\n",
    "print(count/1000)"
   ]
  }
 ],
 "metadata": {
  "kernelspec": {
   "display_name": "Python 3 (ipykernel)",
   "language": "python",
   "name": "python3"
  },
  "language_info": {
   "codemirror_mode": {
    "name": "ipython",
    "version": 3
   },
   "file_extension": ".py",
   "mimetype": "text/x-python",
   "name": "python",
   "nbconvert_exporter": "python",
   "pygments_lexer": "ipython3",
   "version": "3.9.7"
  }
 },
 "nbformat": 4,
 "nbformat_minor": 5
}
