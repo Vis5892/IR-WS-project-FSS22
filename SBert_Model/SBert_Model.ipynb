{
  "cells": [
    {
      "cell_type": "markdown",
      "metadata": {
        "id": "view-in-github",
        "colab_type": "text"
      },
      "source": [
        "<a href=\"https://colab.research.google.com/github/Vis5892/IR-WS-project-FSS22/blob/main/SBert_Model.ipynb\" target=\"_parent\"><img src=\"https://colab.research.google.com/assets/colab-badge.svg\" alt=\"Open In Colab\"/></a>"
      ]
    },
    {
      "cell_type": "code",
      "source": [
        "pip install -U sentence-transformers"
      ],
      "metadata": {
        "colab": {
          "base_uri": "https://localhost:8080/"
        },
        "id": "6O2tFVdvZeSi",
        "outputId": "e3437aa1-0370-416f-ee1f-394b0ddf9ed6"
      },
      "id": "6O2tFVdvZeSi",
      "execution_count": 1,
      "outputs": [
        {
          "output_type": "stream",
          "name": "stdout",
          "text": [
            "Looking in indexes: https://pypi.org/simple, https://us-python.pkg.dev/colab-wheels/public/simple/\n",
            "Requirement already satisfied: sentence-transformers in /usr/local/lib/python3.7/dist-packages (2.2.0)\n",
            "Requirement already satisfied: scipy in /usr/local/lib/python3.7/dist-packages (from sentence-transformers) (1.4.1)\n",
            "Requirement already satisfied: tqdm in /usr/local/lib/python3.7/dist-packages (from sentence-transformers) (4.64.0)\n",
            "Requirement already satisfied: transformers<5.0.0,>=4.6.0 in /usr/local/lib/python3.7/dist-packages (from sentence-transformers) (4.19.2)\n",
            "Requirement already satisfied: scikit-learn in /usr/local/lib/python3.7/dist-packages (from sentence-transformers) (1.0.2)\n",
            "Requirement already satisfied: huggingface-hub in /usr/local/lib/python3.7/dist-packages (from sentence-transformers) (0.7.0)\n",
            "Requirement already satisfied: nltk in /usr/local/lib/python3.7/dist-packages (from sentence-transformers) (3.2.5)\n",
            "Requirement already satisfied: sentencepiece in /usr/local/lib/python3.7/dist-packages (from sentence-transformers) (0.1.96)\n",
            "Requirement already satisfied: torchvision in /usr/local/lib/python3.7/dist-packages (from sentence-transformers) (0.12.0+cu113)\n",
            "Requirement already satisfied: numpy in /usr/local/lib/python3.7/dist-packages (from sentence-transformers) (1.21.6)\n",
            "Requirement already satisfied: torch>=1.6.0 in /usr/local/lib/python3.7/dist-packages (from sentence-transformers) (1.11.0+cu113)\n",
            "Requirement already satisfied: typing-extensions in /usr/local/lib/python3.7/dist-packages (from torch>=1.6.0->sentence-transformers) (4.2.0)\n",
            "Requirement already satisfied: pyyaml>=5.1 in /usr/local/lib/python3.7/dist-packages (from transformers<5.0.0,>=4.6.0->sentence-transformers) (6.0)\n",
            "Requirement already satisfied: packaging>=20.0 in /usr/local/lib/python3.7/dist-packages (from transformers<5.0.0,>=4.6.0->sentence-transformers) (21.3)\n",
            "Requirement already satisfied: tokenizers!=0.11.3,<0.13,>=0.11.1 in /usr/local/lib/python3.7/dist-packages (from transformers<5.0.0,>=4.6.0->sentence-transformers) (0.12.1)\n",
            "Requirement already satisfied: importlib-metadata in /usr/local/lib/python3.7/dist-packages (from transformers<5.0.0,>=4.6.0->sentence-transformers) (4.11.3)\n",
            "Requirement already satisfied: requests in /usr/local/lib/python3.7/dist-packages (from transformers<5.0.0,>=4.6.0->sentence-transformers) (2.23.0)\n",
            "Requirement already satisfied: filelock in /usr/local/lib/python3.7/dist-packages (from transformers<5.0.0,>=4.6.0->sentence-transformers) (3.7.0)\n",
            "Requirement already satisfied: regex!=2019.12.17 in /usr/local/lib/python3.7/dist-packages (from transformers<5.0.0,>=4.6.0->sentence-transformers) (2019.12.20)\n",
            "Requirement already satisfied: pyparsing!=3.0.5,>=2.0.2 in /usr/local/lib/python3.7/dist-packages (from packaging>=20.0->transformers<5.0.0,>=4.6.0->sentence-transformers) (3.0.9)\n",
            "Requirement already satisfied: zipp>=0.5 in /usr/local/lib/python3.7/dist-packages (from importlib-metadata->transformers<5.0.0,>=4.6.0->sentence-transformers) (3.8.0)\n",
            "Requirement already satisfied: six in /usr/local/lib/python3.7/dist-packages (from nltk->sentence-transformers) (1.15.0)\n",
            "Requirement already satisfied: certifi>=2017.4.17 in /usr/local/lib/python3.7/dist-packages (from requests->transformers<5.0.0,>=4.6.0->sentence-transformers) (2022.5.18.1)\n",
            "Requirement already satisfied: chardet<4,>=3.0.2 in /usr/local/lib/python3.7/dist-packages (from requests->transformers<5.0.0,>=4.6.0->sentence-transformers) (3.0.4)\n",
            "Requirement already satisfied: urllib3!=1.25.0,!=1.25.1,<1.26,>=1.21.1 in /usr/local/lib/python3.7/dist-packages (from requests->transformers<5.0.0,>=4.6.0->sentence-transformers) (1.24.3)\n",
            "Requirement already satisfied: idna<3,>=2.5 in /usr/local/lib/python3.7/dist-packages (from requests->transformers<5.0.0,>=4.6.0->sentence-transformers) (2.10)\n",
            "Requirement already satisfied: joblib>=0.11 in /usr/local/lib/python3.7/dist-packages (from scikit-learn->sentence-transformers) (1.1.0)\n",
            "Requirement already satisfied: threadpoolctl>=2.0.0 in /usr/local/lib/python3.7/dist-packages (from scikit-learn->sentence-transformers) (3.1.0)\n",
            "Requirement already satisfied: pillow!=8.3.*,>=5.3.0 in /usr/local/lib/python3.7/dist-packages (from torchvision->sentence-transformers) (7.1.2)\n"
          ]
        }
      ]
    },
    {
      "cell_type": "code",
      "execution_count": 2,
      "metadata": {
        "id": "bb4zV0f8I1MV"
      },
      "outputs": [],
      "source": [
        "import pandas as pd\n",
        "import numpy as np\n",
        "import itertools\n",
        "from itertools import combinations\n",
        "import torch\n",
        "from collections import Counter\n",
        "from imblearn.under_sampling import RandomUnderSampler\n",
        "import re\n",
        "from sentence_transformers import InputExample, util\n",
        "from tqdm.auto import tqdm"
      ],
      "id": "bb4zV0f8I1MV"
    },
    {
      "cell_type": "code",
      "execution_count": 3,
      "metadata": {
        "colab": {
          "base_uri": "https://localhost:8080/"
        },
        "id": "d896c6a9",
        "outputId": "b389c66e-14de-4dc2-8223-f102879c92aa"
      },
      "outputs": [
        {
          "output_type": "stream",
          "name": "stdout",
          "text": [
            "There are 1 GPU(s) available.\n",
            "We will use the GPU: Tesla T4\n"
          ]
        }
      ],
      "source": [
        "# If there's a GPU available...\n",
        "if torch.cuda.is_available():    \n",
        "\n",
        "    # Tell PyTorch to use the GPU.    \n",
        "    device = torch.device(\"cuda\")\n",
        "\n",
        "    print('There are %d GPU(s) available.' % torch.cuda.device_count())\n",
        "\n",
        "    print('We will use the GPU:', torch.cuda.get_device_name(0))\n",
        "\n",
        "# If not...\n",
        "else:\n",
        "    print('No GPU available, using the CPU instead.')\n",
        "    device = torch.device(\"cpu\")"
      ],
      "id": "d896c6a9"
    },
    {
      "cell_type": "code",
      "execution_count": 4,
      "metadata": {
        "colab": {
          "base_uri": "https://localhost:8080/"
        },
        "id": "zMSV778jRy_V",
        "outputId": "be414b67-3c4f-44c1-efa8-1e4976848974"
      },
      "outputs": [
        {
          "output_type": "stream",
          "name": "stdout",
          "text": [
            "Mounted at /content/drive\n"
          ]
        }
      ],
      "source": [
        "# Mount drive\n",
        "from google.colab import drive\n",
        "drive.mount('/content/drive', force_remount=True)"
      ],
      "id": "zMSV778jRy_V"
    },
    {
      "cell_type": "code",
      "execution_count": 5,
      "metadata": {
        "colab": {
          "base_uri": "https://localhost:8080/",
          "height": 54
        },
        "id": "9D_NeRsBYXhO",
        "outputId": "41637f7c-950b-496b-c16e-930e5ea3c2a0"
      },
      "outputs": [
        {
          "output_type": "stream",
          "name": "stdout",
          "text": [
            "/content/drive/MyDrive\n"
          ]
        },
        {
          "output_type": "execute_result",
          "data": {
            "text/plain": [
              "'/content/drive/MyDrive'"
            ],
            "application/vnd.google.colaboratory.intrinsic+json": {
              "type": "string"
            }
          },
          "metadata": {},
          "execution_count": 5
        }
      ],
      "source": [
        "# Change directory\n",
        "%cd drive/MyDrive\n",
        "%pwd"
      ],
      "id": "9D_NeRsBYXhO"
    },
    {
      "cell_type": "markdown",
      "source": [
        "## ***Unziping the files to get the datasets***"
      ],
      "metadata": {
        "id": "wF0-Kery_5qc"
      },
      "id": "wF0-Kery_5qc"
    },
    {
      "cell_type": "code",
      "execution_count": 6,
      "metadata": {
        "id": "ypXJZ0FIHwU1"
      },
      "outputs": [],
      "source": [
        "# import tarfile\n",
        "# fname = 'collectionandqueries.tar.gz'\n",
        "\n",
        "# if fname.endswith(\"tar.gz\"):\n",
        "#     tar = tarfile.open(fname, \"r:gz\")\n",
        "#     tar.extractall()\n",
        "#     tar.close()\n",
        "# elif fname.endswith(\"tar\"):\n",
        "#     tar = tarfile.open(fname, \"r:\")\n",
        "#     tar.extractall()\n",
        "#     tar.close()"
      ],
      "id": "ypXJZ0FIHwU1"
    },
    {
      "cell_type": "code",
      "execution_count": 7,
      "metadata": {
        "id": "R83KfGB6B0bI"
      },
      "outputs": [],
      "source": [
        "# import tarfile\n",
        "# f1name = 'triples.train.small.tar.gz'\n",
        "\n",
        "# if f1name.endswith(\"tar.gz\"):\n",
        "#     tar = tarfile.open(f1name, \"r:gz\")\n",
        "#     tar.extractall()\n",
        "#     tar.close()\n",
        "# elif f1name.endswith(\"tar\"):\n",
        "#     tar = tarfile.open(f1name, \"r:\")\n",
        "#     tar.extractall()\n",
        "#     tar.close()"
      ],
      "id": "R83KfGB6B0bI"
    },
    {
      "cell_type": "code",
      "execution_count": 8,
      "metadata": {
        "id": "wA3EY0JEbp-Q"
      },
      "outputs": [],
      "source": [
        "# import gzip\n",
        "# import shutil\n",
        "# with gzip.open('qidpidtriples.train.full.2.tsv.gz', 'rb') as f_in:\n",
        "#     with open('qidpidtriples.train.full.2.tsv', 'wb') as f_out:\n",
        "#         shutil.copyfileobj(f_in, f_out)"
      ],
      "id": "wA3EY0JEbp-Q"
    },
    {
      "cell_type": "code",
      "execution_count": 65,
      "metadata": {
        "colab": {
          "base_uri": "https://localhost:8080/"
        },
        "id": "-7B2fgqgZoDn",
        "outputId": "3c3c06eb-8477-4a4b-c204-93ec292618a1"
      },
      "outputs": [
        {
          "output_type": "stream",
          "name": "stdout",
          "text": [
            "'=0.0.7'                          queries.eval.tsv\n",
            "\u001b[0m\u001b[01;34m'Colab Notebooks'\u001b[0m/                queries.train.tsv\n",
            " collection.tsv                   \u001b[01;34msbert_test_a\u001b[0m/\n",
            " \u001b[01;34mFinal_model\u001b[0m/                     \u001b[01;34msbert_test_b\u001b[0m/\n",
            "'Getting started.pdf'             \u001b[01;34msbert_test_c\u001b[0m/\n",
            "'IR&WS - Project notes.gdoc'      \u001b[01;34msbert_test_d\u001b[0m/\n",
            " \u001b[01;34mlogs\u001b[0m/                            \u001b[01;34msbert_test_e\u001b[0m/\n",
            " qidpidtriples.train.full.2.tsv   \u001b[01;34msbert_test_f\u001b[0m/\n",
            " qrels.dev.small.tsv              \u001b[01;34msbert_test_g\u001b[0m/\n",
            " qrels.train.tsv                  \u001b[01;34msbert_test_h\u001b[0m/\n",
            " queries.dev.small.tsv            \u001b[01;34msbert_test_ht\u001b[0m/\n",
            " queries.dev.tsv                  \u001b[01;34msbert_test_ht1\u001b[0m/\n",
            " queries.eval.small.tsv           triples.train.small.tsv\n"
          ]
        }
      ],
      "source": [
        "%ls"
      ],
      "id": "-7B2fgqgZoDn"
    },
    {
      "cell_type": "markdown",
      "source": [
        "## ***Extracting Training Data***"
      ],
      "metadata": {
        "id": "_8aZMVWHAL0v"
      },
      "id": "_8aZMVWHAL0v"
    },
    {
      "cell_type": "code",
      "source": [
        "# Extracting a chunk as the file is huge\n",
        "reader = pd.read_csv('triples.train.small.tsv', iterator=True, chunksize=1000000, sep = '\\t', header = None)\n",
        "\n",
        "train_triples = next(reader)\n",
        "train_triples.columns = ['query', 'positive_passage', 'negetive_passage']"
      ],
      "metadata": {
        "id": "1sdPTMqkE2iT"
      },
      "id": "1sdPTMqkE2iT",
      "execution_count": 10,
      "outputs": []
    },
    {
      "cell_type": "code",
      "source": [
        "train_data = []\n",
        "for index, lines in train_triples.iterrows():\n",
        "    train_data.append([lines[0], lines[1], 1])\n",
        "    train_data.append([lines[0], lines[2], 0])"
      ],
      "metadata": {
        "id": "mISUcKP-FbSp"
      },
      "id": "mISUcKP-FbSp",
      "execution_count": 11,
      "outputs": []
    },
    {
      "cell_type": "code",
      "source": [
        "training_data_df = pd.DataFrame(train_data, columns=['query', 'passage', 'relevance'])\n",
        "training_data_df.drop_duplicates(inplace=True)\n",
        "training_data_df.reset_index(inplace=True)\n",
        "triples = training_data_df.drop(['index'], axis = 1)"
      ],
      "metadata": {
        "id": "t2aPf8ULA9KF"
      },
      "id": "t2aPf8ULA9KF",
      "execution_count": 12,
      "outputs": []
    },
    {
      "cell_type": "markdown",
      "source": [
        "## ***Balancing the training data***"
      ],
      "metadata": {
        "id": "mJJserCkAReY"
      },
      "id": "mJJserCkAReY"
    },
    {
      "cell_type": "code",
      "source": [
        "# define dataset\n",
        "X = triples.drop('relevance', axis = 1)\n",
        "y = triples['relevance']\n",
        "# summarize class distribution\n",
        "print(Counter(y))\n",
        "# define undersample strategy\n",
        "undersample = RandomUnderSampler(sampling_strategy='majority')\n",
        "# fit and apply the transform\n",
        "X_under, y_under = undersample.fit_resample(X, y)\n",
        "# summarize class distribution\n",
        "print(Counter(y_under))"
      ],
      "metadata": {
        "colab": {
          "base_uri": "https://localhost:8080/"
        },
        "id": "qSLUKTrPeq6v",
        "outputId": "65d1f97d-f832-4830-e87f-2e3876cad420"
      },
      "id": "qSLUKTrPeq6v",
      "execution_count": 13,
      "outputs": [
        {
          "output_type": "stream",
          "name": "stdout",
          "text": [
            "Counter({0: 995386, 1: 369374})\n",
            "Counter({0: 369374, 1: 369374})\n"
          ]
        }
      ]
    },
    {
      "cell_type": "markdown",
      "source": [
        "## ***Text Preprocessing***"
      ],
      "metadata": {
        "id": "cO5a3TWlAWu8"
      },
      "id": "cO5a3TWlAWu8"
    },
    {
      "cell_type": "code",
      "source": [
        "def text_preprocessing(text):\n",
        "    \"\"\"\n",
        "    - Remove special characters and trailing whitespaces\n",
        "    - Convert text to lower case\n",
        "    @param    text (str): a string to be processed.\n",
        "    @return   text (Str): the processed string.\n",
        "    \"\"\"\n",
        "    # Remove 'special characters'\n",
        "    text = re.sub('[^a-zA-Z0-9 \\n\\.]', '', text)\n",
        "\n",
        "    # Remove trailing whitespace\n",
        "    text = re.sub(r'\\s+', ' ', text).strip()\n",
        "\n",
        "    # converting to lower case\n",
        "    text = text.lower()\n",
        "\n",
        "    return text"
      ],
      "metadata": {
        "id": "97UBxOU4ZelL"
      },
      "id": "97UBxOU4ZelL",
      "execution_count": 14,
      "outputs": []
    },
    {
      "cell_type": "code",
      "source": [
        "X_under['query'] =X_under['query'].map(lambda x:text_preprocessing(x))\n",
        "X_under['passage'] =X_under['passage'].map(lambda x:text_preprocessing(x))"
      ],
      "metadata": {
        "id": "M2iRC2OLCHyX"
      },
      "id": "M2iRC2OLCHyX",
      "execution_count": 15,
      "outputs": []
    },
    {
      "cell_type": "code",
      "source": [
        "X_under['relevance'] = y_under\n",
        "train = X_under"
      ],
      "metadata": {
        "id": "TW8zOrMVx3Ef"
      },
      "id": "TW8zOrMVx3Ef",
      "execution_count": 17,
      "outputs": []
    },
    {
      "cell_type": "code",
      "source": [
        "train"
      ],
      "metadata": {
        "colab": {
          "base_uri": "https://localhost:8080/",
          "height": 423
        },
        "id": "MK5lFkQdDfRk",
        "outputId": "5f692505-4802-41c2-8a63-570d634dcc8d"
      },
      "id": "MK5lFkQdDfRk",
      "execution_count": 18,
      "outputs": [
        {
          "output_type": "execute_result",
          "data": {
            "text/plain": [
              "                                                    query  \\\n",
              "0                        what is the purpose of a micelle   \n",
              "1                             when did india get republic   \n",
              "2                               are onions lethal to cats   \n",
              "3                           how long do chickens molt for   \n",
              "4                             how do they measure auroras   \n",
              "...                                                   ...   \n",
              "738743                   who played sandman in spider man   \n",
              "738744  is uninsured motorist insurance required in vi...   \n",
              "738745                      who played velma in scoobydoo   \n",
              "738746  how is the mountain pine beetle affecting cana...   \n",
              "738747                       what is a cultural diffusion   \n",
              "\n",
              "                                                  passage  relevance  \n",
              "0       what is the purpose of the dotmlpfp change rec...          0  \n",
              "1       a parisian women march on versailles storming ...          0  \n",
              "2       cooking onions and sweet onions are better sto...          0  \n",
              "3       every city is going to have a municipal code r...          0  \n",
              "4       pls advice how to convert square meter to mete...          0  \n",
              "...                                                   ...        ...  \n",
              "738743  exists and is an alternate of . if a sword had...          1  \n",
              "738744  if you have auto insurance on the vehicle you ...          1  \n",
              "738745  velma in the scooby doo movie is played by lin...          1  \n",
              "738746  the mountain pine beetle is a naturally occurr...          1  \n",
              "738747  cultural diffusion is a change process where t...          1  \n",
              "\n",
              "[738748 rows x 3 columns]"
            ],
            "text/html": [
              "\n",
              "  <div id=\"df-c3d14049-f464-42bc-88fe-e3db97831607\">\n",
              "    <div class=\"colab-df-container\">\n",
              "      <div>\n",
              "<style scoped>\n",
              "    .dataframe tbody tr th:only-of-type {\n",
              "        vertical-align: middle;\n",
              "    }\n",
              "\n",
              "    .dataframe tbody tr th {\n",
              "        vertical-align: top;\n",
              "    }\n",
              "\n",
              "    .dataframe thead th {\n",
              "        text-align: right;\n",
              "    }\n",
              "</style>\n",
              "<table border=\"1\" class=\"dataframe\">\n",
              "  <thead>\n",
              "    <tr style=\"text-align: right;\">\n",
              "      <th></th>\n",
              "      <th>query</th>\n",
              "      <th>passage</th>\n",
              "      <th>relevance</th>\n",
              "    </tr>\n",
              "  </thead>\n",
              "  <tbody>\n",
              "    <tr>\n",
              "      <th>0</th>\n",
              "      <td>what is the purpose of a micelle</td>\n",
              "      <td>what is the purpose of the dotmlpfp change rec...</td>\n",
              "      <td>0</td>\n",
              "    </tr>\n",
              "    <tr>\n",
              "      <th>1</th>\n",
              "      <td>when did india get republic</td>\n",
              "      <td>a parisian women march on versailles storming ...</td>\n",
              "      <td>0</td>\n",
              "    </tr>\n",
              "    <tr>\n",
              "      <th>2</th>\n",
              "      <td>are onions lethal to cats</td>\n",
              "      <td>cooking onions and sweet onions are better sto...</td>\n",
              "      <td>0</td>\n",
              "    </tr>\n",
              "    <tr>\n",
              "      <th>3</th>\n",
              "      <td>how long do chickens molt for</td>\n",
              "      <td>every city is going to have a municipal code r...</td>\n",
              "      <td>0</td>\n",
              "    </tr>\n",
              "    <tr>\n",
              "      <th>4</th>\n",
              "      <td>how do they measure auroras</td>\n",
              "      <td>pls advice how to convert square meter to mete...</td>\n",
              "      <td>0</td>\n",
              "    </tr>\n",
              "    <tr>\n",
              "      <th>...</th>\n",
              "      <td>...</td>\n",
              "      <td>...</td>\n",
              "      <td>...</td>\n",
              "    </tr>\n",
              "    <tr>\n",
              "      <th>738743</th>\n",
              "      <td>who played sandman in spider man</td>\n",
              "      <td>exists and is an alternate of . if a sword had...</td>\n",
              "      <td>1</td>\n",
              "    </tr>\n",
              "    <tr>\n",
              "      <th>738744</th>\n",
              "      <td>is uninsured motorist insurance required in vi...</td>\n",
              "      <td>if you have auto insurance on the vehicle you ...</td>\n",
              "      <td>1</td>\n",
              "    </tr>\n",
              "    <tr>\n",
              "      <th>738745</th>\n",
              "      <td>who played velma in scoobydoo</td>\n",
              "      <td>velma in the scooby doo movie is played by lin...</td>\n",
              "      <td>1</td>\n",
              "    </tr>\n",
              "    <tr>\n",
              "      <th>738746</th>\n",
              "      <td>how is the mountain pine beetle affecting cana...</td>\n",
              "      <td>the mountain pine beetle is a naturally occurr...</td>\n",
              "      <td>1</td>\n",
              "    </tr>\n",
              "    <tr>\n",
              "      <th>738747</th>\n",
              "      <td>what is a cultural diffusion</td>\n",
              "      <td>cultural diffusion is a change process where t...</td>\n",
              "      <td>1</td>\n",
              "    </tr>\n",
              "  </tbody>\n",
              "</table>\n",
              "<p>738748 rows × 3 columns</p>\n",
              "</div>\n",
              "      <button class=\"colab-df-convert\" onclick=\"convertToInteractive('df-c3d14049-f464-42bc-88fe-e3db97831607')\"\n",
              "              title=\"Convert this dataframe to an interactive table.\"\n",
              "              style=\"display:none;\">\n",
              "        \n",
              "  <svg xmlns=\"http://www.w3.org/2000/svg\" height=\"24px\"viewBox=\"0 0 24 24\"\n",
              "       width=\"24px\">\n",
              "    <path d=\"M0 0h24v24H0V0z\" fill=\"none\"/>\n",
              "    <path d=\"M18.56 5.44l.94 2.06.94-2.06 2.06-.94-2.06-.94-.94-2.06-.94 2.06-2.06.94zm-11 1L8.5 8.5l.94-2.06 2.06-.94-2.06-.94L8.5 2.5l-.94 2.06-2.06.94zm10 10l.94 2.06.94-2.06 2.06-.94-2.06-.94-.94-2.06-.94 2.06-2.06.94z\"/><path d=\"M17.41 7.96l-1.37-1.37c-.4-.4-.92-.59-1.43-.59-.52 0-1.04.2-1.43.59L10.3 9.45l-7.72 7.72c-.78.78-.78 2.05 0 2.83L4 21.41c.39.39.9.59 1.41.59.51 0 1.02-.2 1.41-.59l7.78-7.78 2.81-2.81c.8-.78.8-2.07 0-2.86zM5.41 20L4 18.59l7.72-7.72 1.47 1.35L5.41 20z\"/>\n",
              "  </svg>\n",
              "      </button>\n",
              "      \n",
              "  <style>\n",
              "    .colab-df-container {\n",
              "      display:flex;\n",
              "      flex-wrap:wrap;\n",
              "      gap: 12px;\n",
              "    }\n",
              "\n",
              "    .colab-df-convert {\n",
              "      background-color: #E8F0FE;\n",
              "      border: none;\n",
              "      border-radius: 50%;\n",
              "      cursor: pointer;\n",
              "      display: none;\n",
              "      fill: #1967D2;\n",
              "      height: 32px;\n",
              "      padding: 0 0 0 0;\n",
              "      width: 32px;\n",
              "    }\n",
              "\n",
              "    .colab-df-convert:hover {\n",
              "      background-color: #E2EBFA;\n",
              "      box-shadow: 0px 1px 2px rgba(60, 64, 67, 0.3), 0px 1px 3px 1px rgba(60, 64, 67, 0.15);\n",
              "      fill: #174EA6;\n",
              "    }\n",
              "\n",
              "    [theme=dark] .colab-df-convert {\n",
              "      background-color: #3B4455;\n",
              "      fill: #D2E3FC;\n",
              "    }\n",
              "\n",
              "    [theme=dark] .colab-df-convert:hover {\n",
              "      background-color: #434B5C;\n",
              "      box-shadow: 0px 1px 3px 1px rgba(0, 0, 0, 0.15);\n",
              "      filter: drop-shadow(0px 1px 2px rgba(0, 0, 0, 0.3));\n",
              "      fill: #FFFFFF;\n",
              "    }\n",
              "  </style>\n",
              "\n",
              "      <script>\n",
              "        const buttonEl =\n",
              "          document.querySelector('#df-c3d14049-f464-42bc-88fe-e3db97831607 button.colab-df-convert');\n",
              "        buttonEl.style.display =\n",
              "          google.colab.kernel.accessAllowed ? 'block' : 'none';\n",
              "\n",
              "        async function convertToInteractive(key) {\n",
              "          const element = document.querySelector('#df-c3d14049-f464-42bc-88fe-e3db97831607');\n",
              "          const dataTable =\n",
              "            await google.colab.kernel.invokeFunction('convertToInteractive',\n",
              "                                                     [key], {});\n",
              "          if (!dataTable) return;\n",
              "\n",
              "          const docLinkHtml = 'Like what you see? Visit the ' +\n",
              "            '<a target=\"_blank\" href=https://colab.research.google.com/notebooks/data_table.ipynb>data table notebook</a>'\n",
              "            + ' to learn more about interactive tables.';\n",
              "          element.innerHTML = '';\n",
              "          dataTable['output_type'] = 'display_data';\n",
              "          await google.colab.output.renderOutput(dataTable, element);\n",
              "          const docLink = document.createElement('div');\n",
              "          docLink.innerHTML = docLinkHtml;\n",
              "          element.appendChild(docLink);\n",
              "        }\n",
              "      </script>\n",
              "    </div>\n",
              "  </div>\n",
              "  "
            ]
          },
          "metadata": {},
          "execution_count": 18
        }
      ]
    },
    {
      "cell_type": "markdown",
      "source": [
        "## ***Creating Dataloader***"
      ],
      "metadata": {
        "id": "iL5-oGBHDn0O"
      },
      "id": "iL5-oGBHDn0O"
    },
    {
      "cell_type": "code",
      "source": [
        "train_samples = []\n",
        "for index, row in tqdm(train.iterrows()):\n",
        "    train_samples.append(InputExample(texts = [row['query'], row['passage']],\n",
        "                                      label = [row['relevance']]))"
      ],
      "metadata": {
        "colab": {
          "base_uri": "https://localhost:8080/",
          "height": 49,
          "referenced_widgets": [
            "964b655a484a4af0b14c7fed3f50a1e0",
            "a459c8634f7a44a88ca8eaf381011194",
            "d2e52d5669aa4ece84b994339a06b440",
            "0c12e2d66ba8436d81092a8bba63d373",
            "17f1de8f3d36471bb50e13145e0dad6e",
            "ef0f805e7f6e4e64a2e76bb3e9b589af",
            "3abbfa0d50cf497992d40607be7651f3",
            "23051b94b67e49698b627e3ac51db990",
            "3434747f96284eb6886c731c9f3fad34",
            "a7c52c1643674a5fad57c130b8aa79ed",
            "82819f7aad564bc78607d95ab3ddb0f3"
          ]
        },
        "id": "7DjdBewuBnuD",
        "outputId": "ecfdd33c-6ef4-4577-a66f-da0498fd737a"
      },
      "id": "7DjdBewuBnuD",
      "execution_count": 19,
      "outputs": [
        {
          "output_type": "display_data",
          "data": {
            "text/plain": [
              "0it [00:00, ?it/s]"
            ],
            "application/vnd.jupyter.widget-view+json": {
              "version_major": 2,
              "version_minor": 0,
              "model_id": "964b655a484a4af0b14c7fed3f50a1e0"
            }
          },
          "metadata": {}
        }
      ]
    },
    {
      "cell_type": "code",
      "source": [
        "from torch.utils.data import DataLoader\n",
        "\n",
        "batch_size = 64\n",
        "\n",
        "loader = DataLoader(train_samples, batch_size = batch_size, shuffle = True)"
      ],
      "metadata": {
        "id": "82jbUYzs0mpS"
      },
      "id": "82jbUYzs0mpS",
      "execution_count": 20,
      "outputs": []
    },
    {
      "cell_type": "markdown",
      "source": [
        "## ***Loading model***"
      ],
      "metadata": {
        "id": "zvatu3hkDwyu"
      },
      "id": "zvatu3hkDwyu"
    },
    {
      "cell_type": "code",
      "source": [
        "from sentence_transformers import models, SentenceTransformer\n",
        "\n",
        "model = SentenceTransformer('sentence-transformers/msmarco-MiniLM-L6-cos-v5')\n",
        "model"
      ],
      "metadata": {
        "colab": {
          "base_uri": "https://localhost:8080/"
        },
        "id": "EAoD-h5T06hx",
        "outputId": "3ff364c6-f53e-4c72-b87d-71745954e12b"
      },
      "id": "EAoD-h5T06hx",
      "execution_count": 21,
      "outputs": [
        {
          "output_type": "execute_result",
          "data": {
            "text/plain": [
              "SentenceTransformer(\n",
              "  (0): Transformer({'max_seq_length': 384, 'do_lower_case': False}) with Transformer model: BertModel \n",
              "  (1): Pooling({'word_embedding_dimension': 384, 'pooling_mode_cls_token': False, 'pooling_mode_mean_tokens': True, 'pooling_mode_max_tokens': False, 'pooling_mode_mean_sqrt_len_tokens': False})\n",
              "  (2): Normalize()\n",
              ")"
            ]
          },
          "metadata": {},
          "execution_count": 21
        }
      ]
    },
    {
      "cell_type": "markdown",
      "source": [
        "## ***Defining Loss***"
      ],
      "metadata": {
        "id": "Gmh-nt_WEGVr"
      },
      "id": "Gmh-nt_WEGVr"
    },
    {
      "cell_type": "code",
      "source": [
        "from sentence_transformers import losses\n",
        "\n",
        "loss = losses.MultipleNegativesRankingLoss(model = model)"
      ],
      "metadata": {
        "id": "0IQ9vA8O2DYf"
      },
      "id": "0IQ9vA8O2DYf",
      "execution_count": 22,
      "outputs": []
    },
    {
      "cell_type": "markdown",
      "source": [
        "## ***Training the model***"
      ],
      "metadata": {
        "id": "7EteomJsENyK"
      },
      "id": "7EteomJsENyK"
    },
    {
      "cell_type": "code",
      "source": [
        "epochs = 1\n",
        "warmup_steps = int(0.1 * len(loader))\n",
        "\n",
        "model.fit(\n",
        "    train_objectives = [(loader, loss)],\n",
        "    epochs = epochs,\n",
        "    warmup_steps = warmup_steps,\n",
        "    output_path = './Final_model'\n",
        ")"
      ],
      "metadata": {
        "id": "9TvZLKqe3JDV",
        "colab": {
          "base_uri": "https://localhost:8080/",
          "height": 137,
          "referenced_widgets": [
            "32d50c14bfea429d862637029833cc9e",
            "8ffbb4c849db4b878d4343b66c286640",
            "850a95975721432489a410e2fca371a1",
            "a59ba8522aca46528190972c55edb053",
            "1091b678f0194fd9aa50ee4166867699",
            "2df6104c772f46a88d18529de565e524",
            "b1852a078f8144e0affb2a3180c05825",
            "af4b31382a5448329a47e3606f52d6a5",
            "4275ee1fb0b94276ad82d9afc56e8ac3",
            "829fe406dbb14b68ba50b75e831c90da",
            "95f1788958ae4a22b2c2a541377cf2f4",
            "80c18ff0af0b4d34afa96c81ff9d2562",
            "4e3d51c4385e4911a8bc13f5dfb81b23",
            "2eec4a25be3c4ff8a7ae8dcb02ab6ab5",
            "42bb593f2aa449a0bd339c1642d37605",
            "65c9e5bed5f542819e007a720a7b75f4",
            "f44fe759763b46e69250f627531993d9",
            "74c5313d3ec04c268fc3b88e4e0a996d",
            "912de84881294dd8a5d565f4e8531bc3",
            "e7b84083e0f947289e4e429a7a276787",
            "8affee83629e4b9bb6fd252a359b3fb0",
            "f466445f51d94370a9b8a8493df73631"
          ]
        },
        "outputId": "a68ca6fc-2529-42c1-e762-6dc01f517f8d"
      },
      "id": "9TvZLKqe3JDV",
      "execution_count": 23,
      "outputs": [
        {
          "output_type": "stream",
          "name": "stderr",
          "text": [
            "/usr/local/lib/python3.7/dist-packages/transformers/optimization.py:309: FutureWarning: This implementation of AdamW is deprecated and will be removed in a future version. Use the PyTorch implementation torch.optim.AdamW instead, or set `no_deprecation_warning=True` to disable this warning\n",
            "  FutureWarning,\n"
          ]
        },
        {
          "output_type": "display_data",
          "data": {
            "text/plain": [
              "Epoch:   0%|          | 0/1 [00:00<?, ?it/s]"
            ],
            "application/vnd.jupyter.widget-view+json": {
              "version_major": 2,
              "version_minor": 0,
              "model_id": "32d50c14bfea429d862637029833cc9e"
            }
          },
          "metadata": {}
        },
        {
          "output_type": "display_data",
          "data": {
            "text/plain": [
              "Iteration:   0%|          | 0/11543 [00:00<?, ?it/s]"
            ],
            "application/vnd.jupyter.widget-view+json": {
              "version_major": 2,
              "version_minor": 0,
              "model_id": "80c18ff0af0b4d34afa96c81ff9d2562"
            }
          },
          "metadata": {}
        }
      ]
    },
    {
      "cell_type": "markdown",
      "source": [
        "## ***Extracting test data***"
      ],
      "metadata": {
        "id": "m4XIY_0hEbL3"
      },
      "id": "m4XIY_0hEbL3"
    },
    {
      "cell_type": "code",
      "source": [
        "reader_test = pd.read_csv('triples.train.small.tsv', iterator=True, skiprows = 1000000, chunksize=10000, sep = '\\t', header = None)\n",
        "\n",
        "test_triples= next(reader_test)\n",
        "test_triples.columns = ['query', 'positive_passage', 'negetive_passage']"
      ],
      "metadata": {
        "id": "JbcGRKAi71Ai"
      },
      "id": "JbcGRKAi71Ai",
      "execution_count": 24,
      "outputs": []
    },
    {
      "cell_type": "code",
      "source": [
        "test_data = []\n",
        "for index, lines in test_triples.iterrows():\n",
        "    test_data.append([lines[0], lines[1], 1])\n",
        "    test_data.append([lines[0], lines[2], 0])"
      ],
      "metadata": {
        "id": "nj71rWm38Pub"
      },
      "id": "nj71rWm38Pub",
      "execution_count": 25,
      "outputs": []
    },
    {
      "cell_type": "code",
      "source": [
        "test_data_df = pd.DataFrame(test_data, columns=['query', 'passage', 'relevance'])\n",
        "test_data_df.drop_duplicates(inplace=True)\n",
        "test_data_df.reset_index(inplace=True)\n",
        "test = test_data_df.drop(['index'], axis = 1)"
      ],
      "metadata": {
        "id": "_xrtl26r8aII"
      },
      "id": "_xrtl26r8aII",
      "execution_count": 26,
      "outputs": []
    },
    {
      "cell_type": "code",
      "source": [
        "test['query'] =test['query'].map(lambda x:text_preprocessing(x))\n",
        "test['passage'] =test['passage'].map(lambda x:text_preprocessing(x))"
      ],
      "metadata": {
        "id": "yp11t1ZM2Jn_"
      },
      "id": "yp11t1ZM2Jn_",
      "execution_count": 27,
      "outputs": []
    },
    {
      "cell_type": "code",
      "source": [
        "test"
      ],
      "metadata": {
        "colab": {
          "base_uri": "https://localhost:8080/",
          "height": 423
        },
        "id": "xhWHg3pC2hiJ",
        "outputId": "9e5ba755-4974-46b1-8662-4101494c71a8"
      },
      "id": "xhWHg3pC2hiJ",
      "execution_count": 28,
      "outputs": [
        {
          "output_type": "execute_result",
          "data": {
            "text/plain": [
              "                                                   query  \\\n",
              "0                               why disease in silk road   \n",
              "1                               why disease in silk road   \n",
              "2      does any rental car company offer unlimited on...   \n",
              "3      does any rental car company offer unlimited on...   \n",
              "4                      how much to reimburse for mileage   \n",
              "...                                                  ...   \n",
              "19814                         when did nyan cat come out   \n",
              "19815              how to find molar mass of cyclohexane   \n",
              "19816              how to find molar mass of cyclohexane   \n",
              "19817                     honda dealers in tampa fl area   \n",
              "19818                     honda dealers in tampa fl area   \n",
              "\n",
              "                                                 passage  relevance  \n",
              "0      people got very sick some even died because of...          1  \n",
              "1      the capital of afghanistan is its largest city...          0  \n",
              "2      you can easily pick up and return you vehicle ...          1  \n",
              "3      could be your best value in getting an unlimit...          0  \n",
              "4      the irs standard mileage rate is the rate prov...          1  \n",
              "...                                                  ...        ...  \n",
              "19814  what is category 5 5e 6 cat5 cat5e cat6 this i...          0  \n",
              "19815  i also taught masters students at imperial for...          1  \n",
              "19816  answers. best answer you have enough informati...          0  \n",
              "19817  welcome to kuhn honda. honda vehicles span nea...          1  \n",
              "19818  the salary for someone with the job title acco...          0  \n",
              "\n",
              "[19819 rows x 3 columns]"
            ],
            "text/html": [
              "\n",
              "  <div id=\"df-7e5e96af-1543-4886-a39f-2cfd626dff69\">\n",
              "    <div class=\"colab-df-container\">\n",
              "      <div>\n",
              "<style scoped>\n",
              "    .dataframe tbody tr th:only-of-type {\n",
              "        vertical-align: middle;\n",
              "    }\n",
              "\n",
              "    .dataframe tbody tr th {\n",
              "        vertical-align: top;\n",
              "    }\n",
              "\n",
              "    .dataframe thead th {\n",
              "        text-align: right;\n",
              "    }\n",
              "</style>\n",
              "<table border=\"1\" class=\"dataframe\">\n",
              "  <thead>\n",
              "    <tr style=\"text-align: right;\">\n",
              "      <th></th>\n",
              "      <th>query</th>\n",
              "      <th>passage</th>\n",
              "      <th>relevance</th>\n",
              "    </tr>\n",
              "  </thead>\n",
              "  <tbody>\n",
              "    <tr>\n",
              "      <th>0</th>\n",
              "      <td>why disease in silk road</td>\n",
              "      <td>people got very sick some even died because of...</td>\n",
              "      <td>1</td>\n",
              "    </tr>\n",
              "    <tr>\n",
              "      <th>1</th>\n",
              "      <td>why disease in silk road</td>\n",
              "      <td>the capital of afghanistan is its largest city...</td>\n",
              "      <td>0</td>\n",
              "    </tr>\n",
              "    <tr>\n",
              "      <th>2</th>\n",
              "      <td>does any rental car company offer unlimited on...</td>\n",
              "      <td>you can easily pick up and return you vehicle ...</td>\n",
              "      <td>1</td>\n",
              "    </tr>\n",
              "    <tr>\n",
              "      <th>3</th>\n",
              "      <td>does any rental car company offer unlimited on...</td>\n",
              "      <td>could be your best value in getting an unlimit...</td>\n",
              "      <td>0</td>\n",
              "    </tr>\n",
              "    <tr>\n",
              "      <th>4</th>\n",
              "      <td>how much to reimburse for mileage</td>\n",
              "      <td>the irs standard mileage rate is the rate prov...</td>\n",
              "      <td>1</td>\n",
              "    </tr>\n",
              "    <tr>\n",
              "      <th>...</th>\n",
              "      <td>...</td>\n",
              "      <td>...</td>\n",
              "      <td>...</td>\n",
              "    </tr>\n",
              "    <tr>\n",
              "      <th>19814</th>\n",
              "      <td>when did nyan cat come out</td>\n",
              "      <td>what is category 5 5e 6 cat5 cat5e cat6 this i...</td>\n",
              "      <td>0</td>\n",
              "    </tr>\n",
              "    <tr>\n",
              "      <th>19815</th>\n",
              "      <td>how to find molar mass of cyclohexane</td>\n",
              "      <td>i also taught masters students at imperial for...</td>\n",
              "      <td>1</td>\n",
              "    </tr>\n",
              "    <tr>\n",
              "      <th>19816</th>\n",
              "      <td>how to find molar mass of cyclohexane</td>\n",
              "      <td>answers. best answer you have enough informati...</td>\n",
              "      <td>0</td>\n",
              "    </tr>\n",
              "    <tr>\n",
              "      <th>19817</th>\n",
              "      <td>honda dealers in tampa fl area</td>\n",
              "      <td>welcome to kuhn honda. honda vehicles span nea...</td>\n",
              "      <td>1</td>\n",
              "    </tr>\n",
              "    <tr>\n",
              "      <th>19818</th>\n",
              "      <td>honda dealers in tampa fl area</td>\n",
              "      <td>the salary for someone with the job title acco...</td>\n",
              "      <td>0</td>\n",
              "    </tr>\n",
              "  </tbody>\n",
              "</table>\n",
              "<p>19819 rows × 3 columns</p>\n",
              "</div>\n",
              "      <button class=\"colab-df-convert\" onclick=\"convertToInteractive('df-7e5e96af-1543-4886-a39f-2cfd626dff69')\"\n",
              "              title=\"Convert this dataframe to an interactive table.\"\n",
              "              style=\"display:none;\">\n",
              "        \n",
              "  <svg xmlns=\"http://www.w3.org/2000/svg\" height=\"24px\"viewBox=\"0 0 24 24\"\n",
              "       width=\"24px\">\n",
              "    <path d=\"M0 0h24v24H0V0z\" fill=\"none\"/>\n",
              "    <path d=\"M18.56 5.44l.94 2.06.94-2.06 2.06-.94-2.06-.94-.94-2.06-.94 2.06-2.06.94zm-11 1L8.5 8.5l.94-2.06 2.06-.94-2.06-.94L8.5 2.5l-.94 2.06-2.06.94zm10 10l.94 2.06.94-2.06 2.06-.94-2.06-.94-.94-2.06-.94 2.06-2.06.94z\"/><path d=\"M17.41 7.96l-1.37-1.37c-.4-.4-.92-.59-1.43-.59-.52 0-1.04.2-1.43.59L10.3 9.45l-7.72 7.72c-.78.78-.78 2.05 0 2.83L4 21.41c.39.39.9.59 1.41.59.51 0 1.02-.2 1.41-.59l7.78-7.78 2.81-2.81c.8-.78.8-2.07 0-2.86zM5.41 20L4 18.59l7.72-7.72 1.47 1.35L5.41 20z\"/>\n",
              "  </svg>\n",
              "      </button>\n",
              "      \n",
              "  <style>\n",
              "    .colab-df-container {\n",
              "      display:flex;\n",
              "      flex-wrap:wrap;\n",
              "      gap: 12px;\n",
              "    }\n",
              "\n",
              "    .colab-df-convert {\n",
              "      background-color: #E8F0FE;\n",
              "      border: none;\n",
              "      border-radius: 50%;\n",
              "      cursor: pointer;\n",
              "      display: none;\n",
              "      fill: #1967D2;\n",
              "      height: 32px;\n",
              "      padding: 0 0 0 0;\n",
              "      width: 32px;\n",
              "    }\n",
              "\n",
              "    .colab-df-convert:hover {\n",
              "      background-color: #E2EBFA;\n",
              "      box-shadow: 0px 1px 2px rgba(60, 64, 67, 0.3), 0px 1px 3px 1px rgba(60, 64, 67, 0.15);\n",
              "      fill: #174EA6;\n",
              "    }\n",
              "\n",
              "    [theme=dark] .colab-df-convert {\n",
              "      background-color: #3B4455;\n",
              "      fill: #D2E3FC;\n",
              "    }\n",
              "\n",
              "    [theme=dark] .colab-df-convert:hover {\n",
              "      background-color: #434B5C;\n",
              "      box-shadow: 0px 1px 3px 1px rgba(0, 0, 0, 0.15);\n",
              "      filter: drop-shadow(0px 1px 2px rgba(0, 0, 0, 0.3));\n",
              "      fill: #FFFFFF;\n",
              "    }\n",
              "  </style>\n",
              "\n",
              "      <script>\n",
              "        const buttonEl =\n",
              "          document.querySelector('#df-7e5e96af-1543-4886-a39f-2cfd626dff69 button.colab-df-convert');\n",
              "        buttonEl.style.display =\n",
              "          google.colab.kernel.accessAllowed ? 'block' : 'none';\n",
              "\n",
              "        async function convertToInteractive(key) {\n",
              "          const element = document.querySelector('#df-7e5e96af-1543-4886-a39f-2cfd626dff69');\n",
              "          const dataTable =\n",
              "            await google.colab.kernel.invokeFunction('convertToInteractive',\n",
              "                                                     [key], {});\n",
              "          if (!dataTable) return;\n",
              "\n",
              "          const docLinkHtml = 'Like what you see? Visit the ' +\n",
              "            '<a target=\"_blank\" href=https://colab.research.google.com/notebooks/data_table.ipynb>data table notebook</a>'\n",
              "            + ' to learn more about interactive tables.';\n",
              "          element.innerHTML = '';\n",
              "          dataTable['output_type'] = 'display_data';\n",
              "          await google.colab.output.renderOutput(dataTable, element);\n",
              "          const docLink = document.createElement('div');\n",
              "          docLink.innerHTML = docLinkHtml;\n",
              "          element.appendChild(docLink);\n",
              "        }\n",
              "      </script>\n",
              "    </div>\n",
              "  </div>\n",
              "  "
            ]
          },
          "metadata": {},
          "execution_count": 28
        }
      ]
    },
    {
      "cell_type": "markdown",
      "source": [
        "## ***Creating test dataloader***"
      ],
      "metadata": {
        "id": "5HRVki0gEmcr"
      },
      "id": "5HRVki0gEmcr"
    },
    {
      "cell_type": "code",
      "source": [
        "test_samples = []\n",
        "for index, row in tqdm(test.iterrows()):\n",
        "    test_samples.append(InputExample(texts = [row['query'], row['passage']],\n",
        "                                      label = [row['relevance']]))"
      ],
      "metadata": {
        "colab": {
          "base_uri": "https://localhost:8080/",
          "height": 49,
          "referenced_widgets": [
            "9ed8683e60c5411da710af7504240f20",
            "417683cc3515457d88568d4b76686d17",
            "34c851f125fe492f928fc5386d3d2a68",
            "64925a8ae80d47aa80edad81ab4786f5",
            "c4afb14cd6bf4d4cb4f2fbe7d0938ce9",
            "2810a1fddd0d45fcab778102a5dabb0b",
            "3920979e1f4d44b28d66d534b334128e",
            "d846930023004a2687fc2ae72506727f",
            "3032dbd7a5b1415d91e8e4f01b3bc1e0",
            "ebec09c0887e402f85c4b89006f950fb",
            "8711132e95484763b4d8af2209b53200"
          ]
        },
        "id": "TnZg0j4x2j6Z",
        "outputId": "09bd9f99-1f57-4107-aef6-0f6a02147161"
      },
      "id": "TnZg0j4x2j6Z",
      "execution_count": 29,
      "outputs": [
        {
          "output_type": "display_data",
          "data": {
            "text/plain": [
              "0it [00:00, ?it/s]"
            ],
            "application/vnd.jupyter.widget-view+json": {
              "version_major": 2,
              "version_minor": 0,
              "model_id": "9ed8683e60c5411da710af7504240f20"
            }
          },
          "metadata": {}
        }
      ]
    },
    {
      "cell_type": "code",
      "source": [
        "batch_size = 64\n",
        "test_loader = DataLoader(test_samples, batch_size = batch_size, shuffle = True)"
      ],
      "metadata": {
        "id": "Hsvh4Yf3298t"
      },
      "id": "Hsvh4Yf3298t",
      "execution_count": 30,
      "outputs": []
    },
    {
      "cell_type": "markdown",
      "source": [
        "## ***Defining evaluator***"
      ],
      "metadata": {
        "id": "bsBe7x1mEwlx"
      },
      "id": "bsBe7x1mEwlx"
    },
    {
      "cell_type": "code",
      "source": [
        "query_ls = test['query'].tolist()\n",
        "passage_ls = test['passage'].tolist()\n",
        "label_ls = test['relevance'].tolist()"
      ],
      "metadata": {
        "id": "U3bDmqwFam-h"
      },
      "id": "U3bDmqwFam-h",
      "execution_count": 31,
      "outputs": []
    },
    {
      "cell_type": "code",
      "source": [
        "from sentence_transformers.evaluation import BinaryClassificationEvaluator\n",
        "\n",
        "evaluator = BinaryClassificationEvaluator(query_ls, passage_ls, label_ls, name = 'result', show_progress_bar= True)"
      ],
      "metadata": {
        "id": "6WLZdZplvw_N"
      },
      "id": "6WLZdZplvw_N",
      "execution_count": 32,
      "outputs": []
    },
    {
      "cell_type": "markdown",
      "source": [
        "## ***Evaluating the trained model on test data***"
      ],
      "metadata": {
        "id": "ZZvTZckrE6dZ"
      },
      "id": "ZZvTZckrE6dZ"
    },
    {
      "cell_type": "code",
      "source": [
        "trained_model = SentenceTransformer('./Final_model')"
      ],
      "metadata": {
        "id": "YPSXuorS3cdO"
      },
      "id": "YPSXuorS3cdO",
      "execution_count": 35,
      "outputs": []
    },
    {
      "cell_type": "code",
      "source": [
        "epochs = 1\n",
        "warmup_steps = int(0.1 * len(loader))\n",
        "\n",
        "trained_model.fit(\n",
        "    train_objectives=[(test_loader, loss)], \n",
        "    epochs=1, warmup_steps=warmup_steps, \n",
        "    evaluator=evaluator, \n",
        "    evaluation_steps=500, \n",
        "    output_path = './Final_model'\n",
        ")"
      ],
      "metadata": {
        "id": "k95hwitnfrZX",
        "colab": {
          "base_uri": "https://localhost:8080/",
          "height": 169,
          "referenced_widgets": [
            "16cb03cb3579426c91a3eafc4c72223e",
            "4d2f6a8c8c774f2c8a333802c5fca63c",
            "ef572577732b44709bfdd7ef9e9e11fc",
            "fce08873d7794eeda657362733dbaefc",
            "6723e947424c46ed82bbb758327d64c3",
            "95674710038b46a09d62e72a69382e70",
            "133e7ca8d6c745318963b715ca71d559",
            "d4d10212fdd1434bb73889be4bd7b7d8",
            "1e0683d6eed44f3d9ea6c87e3e87ace9",
            "1aed59ff05c84be3aa8faf6dbf4a5f4b",
            "127277afbd6841288e9563519df95e4d",
            "3e948c160f374301b61ac89967bb5ed7",
            "e76b59f76aa74a19ae230ad12930a846",
            "1ae1a66322874d799fd9006c02817216",
            "4dd5dfb0fe4b4d988f7b51313eefae2a",
            "4dfb1b007f314f39ab86a53e48c9c434",
            "09fc4548288143e8a1dcc9a962af391e",
            "06171b9c99144942bb2a623336c4bfab",
            "00dcc0170e8346df9c07b9848baf5000",
            "758c2ecf0d1946fcbb906c7a022d53bc",
            "d58e81f86e4347ee8eb27b87fbdda49b",
            "de839a9555084bfb9318284754927f22",
            "13d493eeb3924d6286091ceffa664e8f",
            "d16fbab11b1844ddb9907b3a47d9d551",
            "10e00cf18e4649e0a2e79d1cb711e833",
            "3af8c03664e34ed4a851d8f6a09cf802",
            "5ac98dba77014b9396341f90f30386b1",
            "cbcb2a5677504e73ab5b1b14fa3fa220",
            "c8106c851c954ad28816ff5d6d7efb00",
            "974cc48d97cf4a7d92914e73231aecc7",
            "185909b1c5c14963a9b78612e3897fed",
            "1ffbcc60893549418dcf3b033cb56969",
            "e4c7626b602a4f6daa02e6f0809c3cd7"
          ]
        },
        "outputId": "29132fcf-472e-40f9-cb21-3cf052763902"
      },
      "id": "k95hwitnfrZX",
      "execution_count": 36,
      "outputs": [
        {
          "output_type": "stream",
          "name": "stderr",
          "text": [
            "/usr/local/lib/python3.7/dist-packages/transformers/optimization.py:309: FutureWarning: This implementation of AdamW is deprecated and will be removed in a future version. Use the PyTorch implementation torch.optim.AdamW instead, or set `no_deprecation_warning=True` to disable this warning\n",
            "  FutureWarning,\n"
          ]
        },
        {
          "output_type": "display_data",
          "data": {
            "text/plain": [
              "Epoch:   0%|          | 0/1 [00:00<?, ?it/s]"
            ],
            "application/vnd.jupyter.widget-view+json": {
              "version_major": 2,
              "version_minor": 0,
              "model_id": "16cb03cb3579426c91a3eafc4c72223e"
            }
          },
          "metadata": {}
        },
        {
          "output_type": "display_data",
          "data": {
            "text/plain": [
              "Iteration:   0%|          | 0/310 [00:00<?, ?it/s]"
            ],
            "application/vnd.jupyter.widget-view+json": {
              "version_major": 2,
              "version_minor": 0,
              "model_id": "3e948c160f374301b61ac89967bb5ed7"
            }
          },
          "metadata": {}
        },
        {
          "output_type": "display_data",
          "data": {
            "text/plain": [
              "Batches:   0%|          | 0/677 [00:00<?, ?it/s]"
            ],
            "application/vnd.jupyter.widget-view+json": {
              "version_major": 2,
              "version_minor": 0,
              "model_id": "13d493eeb3924d6286091ceffa664e8f"
            }
          },
          "metadata": {}
        }
      ]
    },
    {
      "cell_type": "code",
      "source": [
        "evaluator(trained_model)"
      ],
      "metadata": {
        "colab": {
          "base_uri": "https://localhost:8080/",
          "height": 67,
          "referenced_widgets": [
            "e97cfb5db2c943fd994a56f2aada677f",
            "a23fa88178164f0987b8d28cea654490",
            "b8c777f43e6c42938311b69fff641097",
            "8e917b6bbec64c3b8d41ea02fae2d8b0",
            "c6fbd20290904a7ab4df91e374f8ea98",
            "d86cc7bfea6c4c8da169b50ea55bbf5d",
            "22a16358a79044a39f1e38e96360cd7d",
            "dac6b00736bf4a8f96cec6db2ce0dfc5",
            "5ea2198c2aa74a37befcd2e1b540f12c",
            "513889a15bb5438c988e3a312a1a0776",
            "1a28a8b0e6a14eac9411c4247cf94b06"
          ]
        },
        "id": "bxSnsUps-iy1",
        "outputId": "230317b7-2f32-4a6c-a702-bf8c7967206a"
      },
      "id": "bxSnsUps-iy1",
      "execution_count": 37,
      "outputs": [
        {
          "output_type": "display_data",
          "data": {
            "text/plain": [
              "Batches:   0%|          | 0/677 [00:00<?, ?it/s]"
            ],
            "application/vnd.jupyter.widget-view+json": {
              "version_major": 2,
              "version_minor": 0,
              "model_id": "e97cfb5db2c943fd994a56f2aada677f"
            }
          },
          "metadata": {}
        },
        {
          "output_type": "execute_result",
          "data": {
            "text/plain": [
              "0.8845458574239929"
            ]
          },
          "metadata": {},
          "execution_count": 37
        }
      ]
    },
    {
      "cell_type": "markdown",
      "source": [
        "## ***Extracting search data***"
      ],
      "metadata": {
        "id": "YlCSrp1lF84d"
      },
      "id": "YlCSrp1lF84d"
    },
    {
      "cell_type": "code",
      "execution_count": 38,
      "metadata": {
        "id": "B-r9u5UvJGo3",
        "colab": {
          "base_uri": "https://localhost:8080/"
        },
        "outputId": "93184bfe-b8a6-4ea1-c066-404325a7ad71"
      },
      "outputs": [
        {
          "output_type": "stream",
          "name": "stdout",
          "text": [
            "Loading corpus finished\n"
          ]
        }
      ],
      "source": [
        "corpus = {}\n",
        "\n",
        "with open('collection.tsv', 'r') as file:\n",
        "    for line in file:\n",
        "        pid, passage = line.strip().split(\"\\t\")\n",
        "        corpus[pid] = passage\n",
        "\n",
        "print('Loading corpus finished')"
      ],
      "id": "B-r9u5UvJGo3"
    },
    {
      "cell_type": "code",
      "execution_count": 39,
      "metadata": {
        "id": "fa4tqoodJ1Cv",
        "colab": {
          "base_uri": "https://localhost:8080/"
        },
        "outputId": "89091511-feee-4ecb-98c3-e715d07fe81e"
      },
      "outputs": [
        {
          "output_type": "stream",
          "name": "stdout",
          "text": [
            "Loading queries finished\n"
          ]
        }
      ],
      "source": [
        "queries = {}\n",
        "\n",
        "with open('queries.train.tsv', 'r') as file:\n",
        "    for line in file:\n",
        "        qid, query = line.strip().split(\"\\t\")\n",
        "        queries[qid] = query\n",
        "print('Loading queries finished')"
      ],
      "id": "fa4tqoodJ1Cv"
    },
    {
      "cell_type": "code",
      "source": [
        "reader_q = pd.read_csv('qidpidtriples.train.full.2.tsv', iterator=True, skiprows = 10000, chunksize=10000, sep = '\\t', header = None)\n",
        "\n",
        "triples_q = next(reader_q)\n",
        "triples_q.columns = ['qid', 'ppid', 'npid']"
      ],
      "metadata": {
        "id": "702rEu4HAyBz"
      },
      "id": "702rEu4HAyBz",
      "execution_count": 40,
      "outputs": []
    },
    {
      "cell_type": "code",
      "source": [
        "triples_q = triples_q.astype(str).values.tolist()"
      ],
      "metadata": {
        "id": "lKZ58Zk9A3S0"
      },
      "id": "lKZ58Zk9A3S0",
      "execution_count": 41,
      "outputs": []
    },
    {
      "cell_type": "code",
      "source": [
        "q_data = []\n",
        "for lines in triples_q:\n",
        "    if lines[0] in queries:\n",
        "        q_data.append([lines[0], lines[1], queries[lines[0]], corpus[lines[1]], 1])\n",
        "        q_data.append([lines[0], lines[2], queries[lines[0]], corpus[lines[2]], 0])"
      ],
      "metadata": {
        "id": "R3UiATHHA6mx"
      },
      "id": "R3UiATHHA6mx",
      "execution_count": 42,
      "outputs": []
    },
    {
      "cell_type": "code",
      "source": [
        "q_data_df = pd.DataFrame(q_data, columns=['qid', 'pid','query', 'passage', 'relevance'])\n",
        "q_data_df.drop_duplicates(inplace=True)\n",
        "q_data_df.reset_index(inplace=True)\n",
        "q_data_df = q_data_df.drop(['index'], axis = 1)"
      ],
      "metadata": {
        "id": "ntA9wJZdEW1b"
      },
      "id": "ntA9wJZdEW1b",
      "execution_count": 43,
      "outputs": []
    },
    {
      "cell_type": "code",
      "source": [
        "q_data_df"
      ],
      "metadata": {
        "colab": {
          "base_uri": "https://localhost:8080/",
          "height": 423
        },
        "id": "1aQFDnfPKUGb",
        "outputId": "fe5432fa-0e5e-47c0-c338-6acf9d261722"
      },
      "id": "1aQFDnfPKUGb",
      "execution_count": 64,
      "outputs": [
        {
          "output_type": "execute_result",
          "data": {
            "text/plain": [
              "          qid      pid                                              query  \\\n",
              "0     1003900  4788874                 where was the movie goonies filmed   \n",
              "1     1003900  3299997                 where was the movie goonies filmed   \n",
              "2     1003900  7813127                 where was the movie goonies filmed   \n",
              "3     1003900  6855194                 where was the movie goonies filmed   \n",
              "4     1003900  4129258                 where was the movie goonies filmed   \n",
              "...       ...      ...                                                ...   \n",
              "9008  1006748  6685489  which chamber of the heart is responsible for ...   \n",
              "9009  1006748  8448834  which chamber of the heart is responsible for ...   \n",
              "9010  1006748   128067  which chamber of the heart is responsible for ...   \n",
              "9011  1006748    12960  which chamber of the heart is responsible for ...   \n",
              "9012  1006748  1441875  which chamber of the heart is responsible for ...   \n",
              "\n",
              "                                                passage  relevance  \n",
              "0     The picturesque town of Astoria, in Oregon, wh...          1  \n",
              "1     1 The Omega House was filmed in 729 E. 11th Av...          0  \n",
              "2     Below is a list of feature films and select te...          0  \n",
              "3     Camp No-Be-Bo-Sco, also known as NoBe, is a Bo...          0  \n",
              "4     Goonies, The : Did you know? Accuracy: A team ...          0  \n",
              "...                                                 ...        ...  \n",
              "9008  The damaged muscle either can't relax properly...          0  \n",
              "9009  The aorta supplies oxygenated blood from the h...          0  \n",
              "9010  Function. While veins usually carry deoxygenat...          0  \n",
              "9011  Which parts of the heart carry oxygenated bloo...          0  \n",
              "9012  The heart is a muscular organ about the size o...          0  \n",
              "\n",
              "[9013 rows x 5 columns]"
            ],
            "text/html": [
              "\n",
              "  <div id=\"df-a2c511fa-4f97-44ca-b032-031964d7a394\">\n",
              "    <div class=\"colab-df-container\">\n",
              "      <div>\n",
              "<style scoped>\n",
              "    .dataframe tbody tr th:only-of-type {\n",
              "        vertical-align: middle;\n",
              "    }\n",
              "\n",
              "    .dataframe tbody tr th {\n",
              "        vertical-align: top;\n",
              "    }\n",
              "\n",
              "    .dataframe thead th {\n",
              "        text-align: right;\n",
              "    }\n",
              "</style>\n",
              "<table border=\"1\" class=\"dataframe\">\n",
              "  <thead>\n",
              "    <tr style=\"text-align: right;\">\n",
              "      <th></th>\n",
              "      <th>qid</th>\n",
              "      <th>pid</th>\n",
              "      <th>query</th>\n",
              "      <th>passage</th>\n",
              "      <th>relevance</th>\n",
              "    </tr>\n",
              "  </thead>\n",
              "  <tbody>\n",
              "    <tr>\n",
              "      <th>0</th>\n",
              "      <td>1003900</td>\n",
              "      <td>4788874</td>\n",
              "      <td>where was the movie goonies filmed</td>\n",
              "      <td>The picturesque town of Astoria, in Oregon, wh...</td>\n",
              "      <td>1</td>\n",
              "    </tr>\n",
              "    <tr>\n",
              "      <th>1</th>\n",
              "      <td>1003900</td>\n",
              "      <td>3299997</td>\n",
              "      <td>where was the movie goonies filmed</td>\n",
              "      <td>1 The Omega House was filmed in 729 E. 11th Av...</td>\n",
              "      <td>0</td>\n",
              "    </tr>\n",
              "    <tr>\n",
              "      <th>2</th>\n",
              "      <td>1003900</td>\n",
              "      <td>7813127</td>\n",
              "      <td>where was the movie goonies filmed</td>\n",
              "      <td>Below is a list of feature films and select te...</td>\n",
              "      <td>0</td>\n",
              "    </tr>\n",
              "    <tr>\n",
              "      <th>3</th>\n",
              "      <td>1003900</td>\n",
              "      <td>6855194</td>\n",
              "      <td>where was the movie goonies filmed</td>\n",
              "      <td>Camp No-Be-Bo-Sco, also known as NoBe, is a Bo...</td>\n",
              "      <td>0</td>\n",
              "    </tr>\n",
              "    <tr>\n",
              "      <th>4</th>\n",
              "      <td>1003900</td>\n",
              "      <td>4129258</td>\n",
              "      <td>where was the movie goonies filmed</td>\n",
              "      <td>Goonies, The : Did you know? Accuracy: A team ...</td>\n",
              "      <td>0</td>\n",
              "    </tr>\n",
              "    <tr>\n",
              "      <th>...</th>\n",
              "      <td>...</td>\n",
              "      <td>...</td>\n",
              "      <td>...</td>\n",
              "      <td>...</td>\n",
              "      <td>...</td>\n",
              "    </tr>\n",
              "    <tr>\n",
              "      <th>9008</th>\n",
              "      <td>1006748</td>\n",
              "      <td>6685489</td>\n",
              "      <td>which chamber of the heart is responsible for ...</td>\n",
              "      <td>The damaged muscle either can't relax properly...</td>\n",
              "      <td>0</td>\n",
              "    </tr>\n",
              "    <tr>\n",
              "      <th>9009</th>\n",
              "      <td>1006748</td>\n",
              "      <td>8448834</td>\n",
              "      <td>which chamber of the heart is responsible for ...</td>\n",
              "      <td>The aorta supplies oxygenated blood from the h...</td>\n",
              "      <td>0</td>\n",
              "    </tr>\n",
              "    <tr>\n",
              "      <th>9010</th>\n",
              "      <td>1006748</td>\n",
              "      <td>128067</td>\n",
              "      <td>which chamber of the heart is responsible for ...</td>\n",
              "      <td>Function. While veins usually carry deoxygenat...</td>\n",
              "      <td>0</td>\n",
              "    </tr>\n",
              "    <tr>\n",
              "      <th>9011</th>\n",
              "      <td>1006748</td>\n",
              "      <td>12960</td>\n",
              "      <td>which chamber of the heart is responsible for ...</td>\n",
              "      <td>Which parts of the heart carry oxygenated bloo...</td>\n",
              "      <td>0</td>\n",
              "    </tr>\n",
              "    <tr>\n",
              "      <th>9012</th>\n",
              "      <td>1006748</td>\n",
              "      <td>1441875</td>\n",
              "      <td>which chamber of the heart is responsible for ...</td>\n",
              "      <td>The heart is a muscular organ about the size o...</td>\n",
              "      <td>0</td>\n",
              "    </tr>\n",
              "  </tbody>\n",
              "</table>\n",
              "<p>9013 rows × 5 columns</p>\n",
              "</div>\n",
              "      <button class=\"colab-df-convert\" onclick=\"convertToInteractive('df-a2c511fa-4f97-44ca-b032-031964d7a394')\"\n",
              "              title=\"Convert this dataframe to an interactive table.\"\n",
              "              style=\"display:none;\">\n",
              "        \n",
              "  <svg xmlns=\"http://www.w3.org/2000/svg\" height=\"24px\"viewBox=\"0 0 24 24\"\n",
              "       width=\"24px\">\n",
              "    <path d=\"M0 0h24v24H0V0z\" fill=\"none\"/>\n",
              "    <path d=\"M18.56 5.44l.94 2.06.94-2.06 2.06-.94-2.06-.94-.94-2.06-.94 2.06-2.06.94zm-11 1L8.5 8.5l.94-2.06 2.06-.94-2.06-.94L8.5 2.5l-.94 2.06-2.06.94zm10 10l.94 2.06.94-2.06 2.06-.94-2.06-.94-.94-2.06-.94 2.06-2.06.94z\"/><path d=\"M17.41 7.96l-1.37-1.37c-.4-.4-.92-.59-1.43-.59-.52 0-1.04.2-1.43.59L10.3 9.45l-7.72 7.72c-.78.78-.78 2.05 0 2.83L4 21.41c.39.39.9.59 1.41.59.51 0 1.02-.2 1.41-.59l7.78-7.78 2.81-2.81c.8-.78.8-2.07 0-2.86zM5.41 20L4 18.59l7.72-7.72 1.47 1.35L5.41 20z\"/>\n",
              "  </svg>\n",
              "      </button>\n",
              "      \n",
              "  <style>\n",
              "    .colab-df-container {\n",
              "      display:flex;\n",
              "      flex-wrap:wrap;\n",
              "      gap: 12px;\n",
              "    }\n",
              "\n",
              "    .colab-df-convert {\n",
              "      background-color: #E8F0FE;\n",
              "      border: none;\n",
              "      border-radius: 50%;\n",
              "      cursor: pointer;\n",
              "      display: none;\n",
              "      fill: #1967D2;\n",
              "      height: 32px;\n",
              "      padding: 0 0 0 0;\n",
              "      width: 32px;\n",
              "    }\n",
              "\n",
              "    .colab-df-convert:hover {\n",
              "      background-color: #E2EBFA;\n",
              "      box-shadow: 0px 1px 2px rgba(60, 64, 67, 0.3), 0px 1px 3px 1px rgba(60, 64, 67, 0.15);\n",
              "      fill: #174EA6;\n",
              "    }\n",
              "\n",
              "    [theme=dark] .colab-df-convert {\n",
              "      background-color: #3B4455;\n",
              "      fill: #D2E3FC;\n",
              "    }\n",
              "\n",
              "    [theme=dark] .colab-df-convert:hover {\n",
              "      background-color: #434B5C;\n",
              "      box-shadow: 0px 1px 3px 1px rgba(0, 0, 0, 0.15);\n",
              "      filter: drop-shadow(0px 1px 2px rgba(0, 0, 0, 0.3));\n",
              "      fill: #FFFFFF;\n",
              "    }\n",
              "  </style>\n",
              "\n",
              "      <script>\n",
              "        const buttonEl =\n",
              "          document.querySelector('#df-a2c511fa-4f97-44ca-b032-031964d7a394 button.colab-df-convert');\n",
              "        buttonEl.style.display =\n",
              "          google.colab.kernel.accessAllowed ? 'block' : 'none';\n",
              "\n",
              "        async function convertToInteractive(key) {\n",
              "          const element = document.querySelector('#df-a2c511fa-4f97-44ca-b032-031964d7a394');\n",
              "          const dataTable =\n",
              "            await google.colab.kernel.invokeFunction('convertToInteractive',\n",
              "                                                     [key], {});\n",
              "          if (!dataTable) return;\n",
              "\n",
              "          const docLinkHtml = 'Like what you see? Visit the ' +\n",
              "            '<a target=\"_blank\" href=https://colab.research.google.com/notebooks/data_table.ipynb>data table notebook</a>'\n",
              "            + ' to learn more about interactive tables.';\n",
              "          element.innerHTML = '';\n",
              "          dataTable['output_type'] = 'display_data';\n",
              "          await google.colab.output.renderOutput(dataTable, element);\n",
              "          const docLink = document.createElement('div');\n",
              "          docLink.innerHTML = docLinkHtml;\n",
              "          element.appendChild(docLink);\n",
              "        }\n",
              "      </script>\n",
              "    </div>\n",
              "  </div>\n",
              "  "
            ]
          },
          "metadata": {},
          "execution_count": 64
        }
      ]
    },
    {
      "cell_type": "markdown",
      "source": [
        "## ***Searching ranked passages for a query***"
      ],
      "metadata": {
        "id": "PqcOCIkdxgMw"
      },
      "id": "PqcOCIkdxgMw"
    },
    {
      "cell_type": "code",
      "source": [
        "tested_model = SentenceTransformer('./Final_model')"
      ],
      "metadata": {
        "id": "83kCYEnQ8puk"
      },
      "id": "83kCYEnQ8puk",
      "execution_count": 45,
      "outputs": []
    },
    {
      "cell_type": "code",
      "source": [
        "def search(queryID):\n",
        "    \"\"\"\n",
        "    - Returns a ranked list of passages for the given query\n",
        "    @param    queryID (str): ID of the query to be searched.\n",
        "    @return   Prints 10 passages related to the search query according to the score.\n",
        "    \"\"\"\n",
        "    # Get information on the searched query\n",
        "    search_data = q_data_df.loc[q_data_df['qid'] == queryID]\n",
        "    search_data = search_data[:50]\n",
        "    search_data['query']=search_data['query'].str.lower()\n",
        "    search_data['passage']=search_data['passage'].str.lower()\n",
        "    query = search_data['query'].unique().tolist()\n",
        "    passage = search_data['passage'].unique().tolist()\n",
        "\n",
        "    # Creating query embedding using the model\n",
        "    query_emb = tested_model.encode(query)\n",
        "\n",
        "    # Creating combinations for pairwise ranking\n",
        "    comb = itertools.combinations(passage, 2)\n",
        "\n",
        "    # Getting scores for each pair\n",
        "    final_score = []\n",
        "    for (i, j) in comb:\n",
        "        docs = [i, j]\n",
        "        doc_emb = tested_model.encode(docs)\n",
        "        scores = util.dot_score(query_emb, doc_emb)[0].cpu().tolist()\n",
        "        scores = [ '%.3f' % elem for elem in scores ] \n",
        "        doc_score_pairs = list(zip(docs, scores))\n",
        "        final_score.append(doc_score_pairs)\n",
        "\n",
        "    # Comparing each pair and taking the one with higher score\n",
        "    f_final_score = []\n",
        "    for i in final_score:\n",
        "        if i[0][1] > i[1][1]:\n",
        "            f_final_score.append(i[0])\n",
        "        else:\n",
        "            f_final_score.append(i[1])\n",
        "    f_final_score = list(set(f_final_score))\n",
        "    f_final_score.sort(key=lambda x: x[1], reverse = True)\n",
        "    f_final_score = f_final_score[:10]\n",
        "                                  \n",
        "    # Printing final result\n",
        "    query = ''.join(query)\n",
        "    #Output passages & scores\n",
        "    print(\"Query:\", str(query))\n",
        "    for doc, score in f_final_score:\n",
        "        print(score, doc)"
      ],
      "metadata": {
        "id": "9FNblg_oboHl"
      },
      "id": "9FNblg_oboHl",
      "execution_count": 53,
      "outputs": []
    },
    {
      "cell_type": "code",
      "source": [
        "search('1006748')"
      ],
      "metadata": {
        "colab": {
          "base_uri": "https://localhost:8080/"
        },
        "id": "gf0iA3-Q8y8g",
        "outputId": "937c8f11-6576-4e89-f625-3288c0f61875"
      },
      "id": "gf0iA3-Q8y8g",
      "execution_count": 57,
      "outputs": [
        {
          "output_type": "stream",
          "name": "stdout",
          "text": [
            "Query: which chamber of the heart is responsible for pumping deoxygenated blood to the lungs?\n",
            "0.705 pulmonary circulation is the movement of blood from the heart, to the lungs, and back to the heart again. deoxygenated blood leaves the heart, goes to the lungs, and then re-enters the heart; deoxygenated blood leaves through the right ventricle through the pulmonary artery.\n",
            "0.691 the strongest of the four chambers of the heart responsible for pumping oxygenated blood out to the body. refers to the relaxation phase of the cardiac cycle. the middle layer of the heart wall that contains the cardiac muscle cells responsible the pumping action of the heart.\n",
            "0.689 after it has become deoxygenated, it goes through the veins back to the heart, where the process starts all over again. pulmonary circulation pulmonary circulation is the part of the cardiovascular system which carries deoxygenated blood away from the heart, to the lungs, and returns oxygenated blood back to the heart. it is what the pulmonary artery and the pulmonary veins do.\n",
            "0.685 pulmonary - between the heart and lungs-systemic - between the heart and body-coronary - the hearts blood supply. the portion of the cardiovascular system which carries oxygenated blood away from the heart, to the body, and returns deoxygenated blood back to the heart.\n",
            "0.683 the right side of the heart maintains pulmonary circulation to the nearby lungs while the left side of the heart pumps blood all the way to the extremities of the body in the systemic circulatory loop. the heart functions by pumping blood both to the lungs and to the systems of the body.\n",
            "0.682 what chambers are the pumping chambers in the heart? the pumping chambers are the lower two chambers, the ventricles. the right ventricle pumps blood to the lungs, and the left ventricle pumps blood to the body through the a â¦ orta. in contrast, he atria are the receiving chambers of the heart.\n",
            "0.678 the heart, situated between the lungs, is perhaps one of the most important muscles in your body, as it is responsible for pumping oxygenated blood around the body. this vital process of blood circulation is achieved via systemic circulation and pulmonary circulation.\n",
            "0.672 the pulmonary vein is the only vein to carry oxygenated blood which is on its way to the heart from the lungs. the diagram also shows you that the right and side of the heart, both atrium and ventricle, contains only deoxygenated blood.his blood moves through the heart on its way to the lungs where it picks up oxygen and releases carbon dioxide. the left hand side of the heart contains only oxygenated blood which has come from the lungs and is destined to be distributed throughout the body.\n",
            "0.670 the heart contains both the oxygenated and deoxygenated blood. it is its job to keep both of them separate in order to avoid contamination of the pure blood. the right chambers of the heart receive deoxygenated blood from the veins. this blood is transported to the lungs to receive oxygen and get rid of carbon dioxide. this oxygenated blood is then transported back to the heart from where it is transported to all the body parts through the arteries.\n",
            "0.665 systemic circulation is the movement of blood from the heart through the body to provide oxygen and nutrients, and bringing deoxygenated blood back to the heart. oxygen-rich blood from the lungs leaves the pulmonary circulation when it enters the left atrium through the pulmonary veins.\n"
          ]
        }
      ]
    },
    {
      "cell_type": "code",
      "source": [
        "search('1004979')"
      ],
      "metadata": {
        "colab": {
          "base_uri": "https://localhost:8080/"
        },
        "id": "o31Z3YS9FyNu",
        "outputId": "1bb65adb-957f-4451-a677-2d7d6a8134a7"
      },
      "id": "o31Z3YS9FyNu",
      "execution_count": 63,
      "outputs": [
        {
          "output_type": "stream",
          "name": "stdout",
          "text": [
            "Query: which airport is closest to london bridge?\n",
            "0.662 london city airport is the closest, approximately 6 miles from the city centre.\n",
            "0.633 manchester airport is england and the uk's 3rd busiest airport. it is based in ringway, manchester and is the biggest airport outside of the london region.\n",
            "0.622 niagara falls international airport is obviously the closest airport to the city. it only flies charters and tourism flights and is located on the us side. 2. the closest commuter airport on the us side is buffalo international airport. 3. the closest commuter airport on the canadian side is john c munro hamilton international airport.\n",
            "0.579 find out how to travel between stansted airport and central london by rail, coach or taxi, plus your guide to hotel transfers and car parking. london stansted airport (stn) is the uk's third busiest airport and one of the fastest growing airports in europe.the airport is located 64km (40 miles) to the north-east of london. it is home to many of the uk's low-cost airlines, serving mostly european and mediterranean destinations.4x7 stansted operates a 24-hour service to and from the airport. a taxi journey into london for one to four people costs about â£99. black cabs do not operate from stansted although you can catch one to the airport.\n",
            "0.576 1. london, england. london, england, is by far the most searched for destination in europe with 6.7 million monthly searches to both of its major airports, heathrow and gatwick. london heathrow airport is the united kingdom's largest airport and received the most visitors.\n",
            "0.572 from new york jfk airport fly to london heathrow airport, train to london paddington, train to newport (s wales), then train to ludlow. 11 h 9 min: $519: from new york jfk airport fly to london gatwick airport, train to victoria underground station, tube to london euston, train to crewe, then train to ludlow. 10 h 45 min: $500\n",
            "0.566 closest airport to king of prussia, pa. the closest airport is philadelphia international airport (phl). distance from philadelphia international airport to king of prussia is 27,6 kilometers (17,1 miles).\n",
            "0.560 hilton garden inn london heathrow airport. use the column on the right to find restaurants, things to do and nightlife near hilton garden inn london heathrow airport. you can also choose another hotel around the same location or find another hotel is a nearby city.\n",
            "0.557 closest airport to southampton. the closest airport is southampton airport (sou). distance from southampton airport to southampton is 6,1 kilometers (3,8 miles).outhampton airport is located approximately 1,9 kilometers (1,2 miles) south of eastleigh and about 2,7 kilometers (1,7 miles) southwest of bishopstoke.\n",
            "0.544 closest airport to campinas. the closest airport to campinas is viracopos international airport (vcp). distance from viracopos international airport to campinas is 13,6 kilometers (8,5 miles). viracopos international airport.\n"
          ]
        }
      ]
    },
    {
      "cell_type": "code",
      "source": [
        "search('1003900')"
      ],
      "metadata": {
        "colab": {
          "base_uri": "https://localhost:8080/"
        },
        "id": "EVq8C3ZlJImN",
        "outputId": "75884271-d1ed-4e78-9acf-f33eea373d77"
      },
      "id": "EVq8C3ZlJImN",
      "execution_count": 55,
      "outputs": [
        {
          "output_type": "stream",
          "name": "stdout",
          "text": [
            "Query: where was the movie goonies filmed\n",
            "0.650 the picturesque town of astoria, in oregon, where 1980s adventure film the goonies was set. this scene from the famous film shows chunk showing off the iconic 'truffle shuffle'. 'on the way to astoria, we stopped off at cannon beach which you can see near the start of the movie.\n",
            "0.628 check them out: movies. lilo and stitch â how can an animated movie be filmed at walt disney world â® simple in its animation studio located at disneyâs hollywood studios â®. that is exactly where most of the 2002 animated science fiction comedy-drama film lilo & stitch was filmed.\n",
            "0.627 below is a list of feature films and select television movies that were filmed in tennessee, either fully or partially: 1  hannah montana the movie-filmed in columbia, tn, released 2009, more info here. 2  tennessee-filmed in dunlap, 2007. 3  black snake moan-filmed in memphis, 2005.\n",
            "0.624 doug and i went to madrid, new mexico where the movie, wild hogs was filmed. maggie's diner was in the movie and built by the movie crew.\n",
            "0.610 cher's house in the movie with the raised porch can be found in movrovia, ca. masters of the universe. the scene where the cop car is teleported from earth, is uptown whittier, in whittier, ca. in fact, most of the movie was filmed in whittier. merlin (released 2000) uk.\n",
            "0.580 where was the movie summer catch filmed? summer catch was filmed mostly in southport, south carolina, and also filmed in chatham, massachusetts and other towns on cape cod.here was the movie summer catch filmed? summer catch was filmed mostly in southport, south carolina, and also filmed in chatham, massachusetts and other towns on cape cod.\n",
            "0.574 it is also the only planet that appeared in five of the six movies, receiving a mention in the one movie it was not seen, the empire strikes back. we start to explore this planet by going to the country where most, but not all, of the exteriors shots were filmed: tunisia, maybe the most famous of star wars locations.\n",
            "0.572 most people donât know these 10 movies were filmed in nevada. many movies have been filmed in nevada. some of these movies, such as âleaving las vegas,â âviva las vegas,â and âfargoâ were obviously filmed here. however, there are plenty of movies you may be surprised to learn were filmed in nevada. letâs take a look at 10 of them below. 1. charley varrick (1973)\n",
            "0.570 the movie, which was filmed in chicago, was directed by michael ritchie, the same man who made . the bad news bears  10 years ago. that was a movie where we really cared about the members of the team-a movie that was about a coach and a team. wildcats is about how spunky hawn is and how cute it's supposed to be that this little woman can make all those great big football players do what she says.\n",
            "0.566 why is gone with the wind in color if it was filmed in black and white? originally, technicolor cameras recorded color-filtered images onto b/w film stock... was gone with the wind filmed in black and white or color? the 1939 film gone with the wind was one of the first films shot in technicolor.\n"
          ]
        }
      ]
    },
    {
      "cell_type": "code",
      "source": [
        "search('1005307')"
      ],
      "metadata": {
        "colab": {
          "base_uri": "https://localhost:8080/"
        },
        "id": "7Gokgk7_JirX",
        "outputId": "b5eb11c4-9117-4f25-fa40-b664d5b9b83b"
      },
      "id": "7Gokgk7_JirX",
      "execution_count": 56,
      "outputs": [
        {
          "output_type": "stream",
          "name": "stdout",
          "text": [
            "Query: which animals are cnidarians\n",
            "0.667 cnidaria. cnidaria is a phylum of animals, which contains amazingly beautiful coral reefs, electrifying jellyfish, and many other interesting oceanic creatures. there are about 10,000 species of cnidarians and all of them are unique among all other organisms for the presence of the cnidocytes. cnidaria and porifera are two different phyla. â¢ cnidarians have cnidocytes but not the poriferans. â¢ cnidarians have well-organized organ systems but not the poriferans; on the other hand, poriferans have an efficient tunnel system made up of pores but not the cnidarians.\n",
            "0.636 cnidarians are a group of aquatic invertebrates that includes jellyfish, corals, sea anemones and hydras.\n",
            "0.625 1 animals of the phylum cnidaria the phylum cnidaria includes animals such as corals, jellyfish, and sea anemones. 2  all cnidarians are aquatic and carnivorous, and they occur in two basic body shapes: polyps,â¦. 3  community collaboration in reiki practice reiki is a stress-reduction technique that originates from japan.hare to: cnidarians, such as jelly fish, sea anemones, hydra, and corals, have tentacles surrounding their mouth. they are a hollow-bodied animal with two celled layers that are organ â¦ ized into tissues. the inner layer forms a digestive cavity where food is broken down. a jelly fish.\n",
            "0.592 fossil cnidarians have been found in rocks formed about 580 million years ago, and other fossils show that corals may have been present shortly before 490 million years ago and diversified a few million years later. fossils of cnidarians that do not build mineralized structures are very rare.ost cnidarians prey on organisms ranging in size from plankton to animals several times larger than themselves, but many obtain much of their nutrition from endosymbiotic algae, and a few are parasites. many are preyed on by other animals including starfish, sea slugs, fish and turtles.\n",
            "0.562 both forms have a single orifice and body cavity that are used for digestion and respiration. many cnidarian species produce colonies that are single organisms composed of medusa-like or polyp-like zooids, or both. cnidarians' activities are coordinated by a decentralized nerve net and simple receptors.several free-swimming cubozoa and scyphozoa possess balance-sensing statocysts, and some have simple eyes.ike sponges and ctenophores, cnidarians have two main layers of cells that sandwich a middle layer of jelly-like material, which is called the mesoglea in cnidarians; more complex animals have three main cell layers and no intermediate jelly-like layer.\n",
            "0.552 the phylum cnidaria (pronounced nid-air-ee-ah) contains approximately 9000 living species worldwide. they are among the simplest of the so-called higher organisms, but are also among the most beautiful. the creatures in this phylum are radially symmetrical. this means that the parts of the body extend outward from the center like the spokes on a bicycle wheel. a common example of radial symmetry is the sea star (a member of the echinoderm phylum) or the anemone, a cnidarian (seen below). 1  the cnidarians include the hydroids, jellyfish, anemones, and corals. all cnidarians have tentacles with stinging cells in their tips which are used to capture and subdue prey. in fact, the phylum name cnidarian literally means stinging creature.. the stinging cells are called cnidocytes and contain a structure called a nematocyst. the nematocyst is a coiled thread-like stinger.\n",
            "0.551 1 omnivores can live in many places because they eat both plants and animals. 2  have students name examples of each group. 3  list on overhead.  4 now that we've discussed that animals need food to survive and the different types of food animals need, who can name the second factor necessary for animals to survive. omnivores can live in many places because they eat both plants and animals. 2  have students name examples of each group. 3  list on overhead.  4 now that we've discussed that animals need food to survive and the different types of food animals need, who can name the second factor necessary for animals to survive.\n",
            "0.549 cnidarians have two basic body forms, medusae and _____. polyps 77. _____ are small, aquatic pseudocoelomate organisms that have a crown of cilia on their heads. rotifers 78. mollusks breathe using _____. gills 79. an example of an echinoderm is a _____. starfish, sea urchin, sand dollar, sea cucumber 80.\n",
            "0.546 the animal kingdom. though there is great diversity in the animal kingdom, animals can be distinguished from the other kingdoms by a set of characteristics. animals typically reproduce sexually. 2  animals are made up of cells that do not have cell walls. 3  animals are capable of motion in some stage of their lives. 4  animals are able to respond quickly to external stimuli as a result of nerve cells, muscle or contractile tissue, or both.\n",
            "0.543 together, these chapters provide a list of animals that were unclean -- which means they could not be eaten by god's people, along with a separate list of animals that were clean and could be eaten. [ note: click here to see which animals were considered clean for the israelites.ogether, these chapters provide a list of animals that were unclean -- which means they could not be eaten by god's people, along with a separate list of animals that were clean and could be eaten. [ note: click here to see which animals were considered clean for the israelites.\n"
          ]
        }
      ]
    }
  ],
  "metadata": {
    "accelerator": "GPU",
    "colab": {
      "collapsed_sections": [],
      "name": "SBert_Model.ipynb",
      "provenance": [],
      "machine_shape": "hm",
      "include_colab_link": true
    },
    "kernelspec": {
      "display_name": "Python 3 (ipykernel)",
      "language": "python",
      "name": "python3"
    },
    "language_info": {
      "codemirror_mode": {
        "name": "ipython",
        "version": 3
      },
      "file_extension": ".py",
      "mimetype": "text/x-python",
      "name": "python",
      "nbconvert_exporter": "python",
      "pygments_lexer": "ipython3",
      "version": "3.9.7"
    },
    "widgets": {
      "application/vnd.jupyter.widget-state+json": {
        "964b655a484a4af0b14c7fed3f50a1e0": {
          "model_module": "@jupyter-widgets/controls",
          "model_name": "HBoxModel",
          "model_module_version": "1.5.0",
          "state": {
            "_dom_classes": [],
            "_model_module": "@jupyter-widgets/controls",
            "_model_module_version": "1.5.0",
            "_model_name": "HBoxModel",
            "_view_count": null,
            "_view_module": "@jupyter-widgets/controls",
            "_view_module_version": "1.5.0",
            "_view_name": "HBoxView",
            "box_style": "",
            "children": [
              "IPY_MODEL_a459c8634f7a44a88ca8eaf381011194",
              "IPY_MODEL_d2e52d5669aa4ece84b994339a06b440",
              "IPY_MODEL_0c12e2d66ba8436d81092a8bba63d373"
            ],
            "layout": "IPY_MODEL_17f1de8f3d36471bb50e13145e0dad6e"
          }
        },
        "a459c8634f7a44a88ca8eaf381011194": {
          "model_module": "@jupyter-widgets/controls",
          "model_name": "HTMLModel",
          "model_module_version": "1.5.0",
          "state": {
            "_dom_classes": [],
            "_model_module": "@jupyter-widgets/controls",
            "_model_module_version": "1.5.0",
            "_model_name": "HTMLModel",
            "_view_count": null,
            "_view_module": "@jupyter-widgets/controls",
            "_view_module_version": "1.5.0",
            "_view_name": "HTMLView",
            "description": "",
            "description_tooltip": null,
            "layout": "IPY_MODEL_ef0f805e7f6e4e64a2e76bb3e9b589af",
            "placeholder": "​",
            "style": "IPY_MODEL_3abbfa0d50cf497992d40607be7651f3",
            "value": ""
          }
        },
        "d2e52d5669aa4ece84b994339a06b440": {
          "model_module": "@jupyter-widgets/controls",
          "model_name": "FloatProgressModel",
          "model_module_version": "1.5.0",
          "state": {
            "_dom_classes": [],
            "_model_module": "@jupyter-widgets/controls",
            "_model_module_version": "1.5.0",
            "_model_name": "FloatProgressModel",
            "_view_count": null,
            "_view_module": "@jupyter-widgets/controls",
            "_view_module_version": "1.5.0",
            "_view_name": "ProgressView",
            "bar_style": "success",
            "description": "",
            "description_tooltip": null,
            "layout": "IPY_MODEL_23051b94b67e49698b627e3ac51db990",
            "max": 1,
            "min": 0,
            "orientation": "horizontal",
            "style": "IPY_MODEL_3434747f96284eb6886c731c9f3fad34",
            "value": 1
          }
        },
        "0c12e2d66ba8436d81092a8bba63d373": {
          "model_module": "@jupyter-widgets/controls",
          "model_name": "HTMLModel",
          "model_module_version": "1.5.0",
          "state": {
            "_dom_classes": [],
            "_model_module": "@jupyter-widgets/controls",
            "_model_module_version": "1.5.0",
            "_model_name": "HTMLModel",
            "_view_count": null,
            "_view_module": "@jupyter-widgets/controls",
            "_view_module_version": "1.5.0",
            "_view_name": "HTMLView",
            "description": "",
            "description_tooltip": null,
            "layout": "IPY_MODEL_a7c52c1643674a5fad57c130b8aa79ed",
            "placeholder": "​",
            "style": "IPY_MODEL_82819f7aad564bc78607d95ab3ddb0f3",
            "value": " 738748/? [00:38&lt;00:00, 20335.08it/s]"
          }
        },
        "17f1de8f3d36471bb50e13145e0dad6e": {
          "model_module": "@jupyter-widgets/base",
          "model_name": "LayoutModel",
          "model_module_version": "1.2.0",
          "state": {
            "_model_module": "@jupyter-widgets/base",
            "_model_module_version": "1.2.0",
            "_model_name": "LayoutModel",
            "_view_count": null,
            "_view_module": "@jupyter-widgets/base",
            "_view_module_version": "1.2.0",
            "_view_name": "LayoutView",
            "align_content": null,
            "align_items": null,
            "align_self": null,
            "border": null,
            "bottom": null,
            "display": null,
            "flex": null,
            "flex_flow": null,
            "grid_area": null,
            "grid_auto_columns": null,
            "grid_auto_flow": null,
            "grid_auto_rows": null,
            "grid_column": null,
            "grid_gap": null,
            "grid_row": null,
            "grid_template_areas": null,
            "grid_template_columns": null,
            "grid_template_rows": null,
            "height": null,
            "justify_content": null,
            "justify_items": null,
            "left": null,
            "margin": null,
            "max_height": null,
            "max_width": null,
            "min_height": null,
            "min_width": null,
            "object_fit": null,
            "object_position": null,
            "order": null,
            "overflow": null,
            "overflow_x": null,
            "overflow_y": null,
            "padding": null,
            "right": null,
            "top": null,
            "visibility": null,
            "width": null
          }
        },
        "ef0f805e7f6e4e64a2e76bb3e9b589af": {
          "model_module": "@jupyter-widgets/base",
          "model_name": "LayoutModel",
          "model_module_version": "1.2.0",
          "state": {
            "_model_module": "@jupyter-widgets/base",
            "_model_module_version": "1.2.0",
            "_model_name": "LayoutModel",
            "_view_count": null,
            "_view_module": "@jupyter-widgets/base",
            "_view_module_version": "1.2.0",
            "_view_name": "LayoutView",
            "align_content": null,
            "align_items": null,
            "align_self": null,
            "border": null,
            "bottom": null,
            "display": null,
            "flex": null,
            "flex_flow": null,
            "grid_area": null,
            "grid_auto_columns": null,
            "grid_auto_flow": null,
            "grid_auto_rows": null,
            "grid_column": null,
            "grid_gap": null,
            "grid_row": null,
            "grid_template_areas": null,
            "grid_template_columns": null,
            "grid_template_rows": null,
            "height": null,
            "justify_content": null,
            "justify_items": null,
            "left": null,
            "margin": null,
            "max_height": null,
            "max_width": null,
            "min_height": null,
            "min_width": null,
            "object_fit": null,
            "object_position": null,
            "order": null,
            "overflow": null,
            "overflow_x": null,
            "overflow_y": null,
            "padding": null,
            "right": null,
            "top": null,
            "visibility": null,
            "width": null
          }
        },
        "3abbfa0d50cf497992d40607be7651f3": {
          "model_module": "@jupyter-widgets/controls",
          "model_name": "DescriptionStyleModel",
          "model_module_version": "1.5.0",
          "state": {
            "_model_module": "@jupyter-widgets/controls",
            "_model_module_version": "1.5.0",
            "_model_name": "DescriptionStyleModel",
            "_view_count": null,
            "_view_module": "@jupyter-widgets/base",
            "_view_module_version": "1.2.0",
            "_view_name": "StyleView",
            "description_width": ""
          }
        },
        "23051b94b67e49698b627e3ac51db990": {
          "model_module": "@jupyter-widgets/base",
          "model_name": "LayoutModel",
          "model_module_version": "1.2.0",
          "state": {
            "_model_module": "@jupyter-widgets/base",
            "_model_module_version": "1.2.0",
            "_model_name": "LayoutModel",
            "_view_count": null,
            "_view_module": "@jupyter-widgets/base",
            "_view_module_version": "1.2.0",
            "_view_name": "LayoutView",
            "align_content": null,
            "align_items": null,
            "align_self": null,
            "border": null,
            "bottom": null,
            "display": null,
            "flex": null,
            "flex_flow": null,
            "grid_area": null,
            "grid_auto_columns": null,
            "grid_auto_flow": null,
            "grid_auto_rows": null,
            "grid_column": null,
            "grid_gap": null,
            "grid_row": null,
            "grid_template_areas": null,
            "grid_template_columns": null,
            "grid_template_rows": null,
            "height": null,
            "justify_content": null,
            "justify_items": null,
            "left": null,
            "margin": null,
            "max_height": null,
            "max_width": null,
            "min_height": null,
            "min_width": null,
            "object_fit": null,
            "object_position": null,
            "order": null,
            "overflow": null,
            "overflow_x": null,
            "overflow_y": null,
            "padding": null,
            "right": null,
            "top": null,
            "visibility": null,
            "width": "20px"
          }
        },
        "3434747f96284eb6886c731c9f3fad34": {
          "model_module": "@jupyter-widgets/controls",
          "model_name": "ProgressStyleModel",
          "model_module_version": "1.5.0",
          "state": {
            "_model_module": "@jupyter-widgets/controls",
            "_model_module_version": "1.5.0",
            "_model_name": "ProgressStyleModel",
            "_view_count": null,
            "_view_module": "@jupyter-widgets/base",
            "_view_module_version": "1.2.0",
            "_view_name": "StyleView",
            "bar_color": null,
            "description_width": ""
          }
        },
        "a7c52c1643674a5fad57c130b8aa79ed": {
          "model_module": "@jupyter-widgets/base",
          "model_name": "LayoutModel",
          "model_module_version": "1.2.0",
          "state": {
            "_model_module": "@jupyter-widgets/base",
            "_model_module_version": "1.2.0",
            "_model_name": "LayoutModel",
            "_view_count": null,
            "_view_module": "@jupyter-widgets/base",
            "_view_module_version": "1.2.0",
            "_view_name": "LayoutView",
            "align_content": null,
            "align_items": null,
            "align_self": null,
            "border": null,
            "bottom": null,
            "display": null,
            "flex": null,
            "flex_flow": null,
            "grid_area": null,
            "grid_auto_columns": null,
            "grid_auto_flow": null,
            "grid_auto_rows": null,
            "grid_column": null,
            "grid_gap": null,
            "grid_row": null,
            "grid_template_areas": null,
            "grid_template_columns": null,
            "grid_template_rows": null,
            "height": null,
            "justify_content": null,
            "justify_items": null,
            "left": null,
            "margin": null,
            "max_height": null,
            "max_width": null,
            "min_height": null,
            "min_width": null,
            "object_fit": null,
            "object_position": null,
            "order": null,
            "overflow": null,
            "overflow_x": null,
            "overflow_y": null,
            "padding": null,
            "right": null,
            "top": null,
            "visibility": null,
            "width": null
          }
        },
        "82819f7aad564bc78607d95ab3ddb0f3": {
          "model_module": "@jupyter-widgets/controls",
          "model_name": "DescriptionStyleModel",
          "model_module_version": "1.5.0",
          "state": {
            "_model_module": "@jupyter-widgets/controls",
            "_model_module_version": "1.5.0",
            "_model_name": "DescriptionStyleModel",
            "_view_count": null,
            "_view_module": "@jupyter-widgets/base",
            "_view_module_version": "1.2.0",
            "_view_name": "StyleView",
            "description_width": ""
          }
        },
        "32d50c14bfea429d862637029833cc9e": {
          "model_module": "@jupyter-widgets/controls",
          "model_name": "HBoxModel",
          "model_module_version": "1.5.0",
          "state": {
            "_dom_classes": [],
            "_model_module": "@jupyter-widgets/controls",
            "_model_module_version": "1.5.0",
            "_model_name": "HBoxModel",
            "_view_count": null,
            "_view_module": "@jupyter-widgets/controls",
            "_view_module_version": "1.5.0",
            "_view_name": "HBoxView",
            "box_style": "",
            "children": [
              "IPY_MODEL_8ffbb4c849db4b878d4343b66c286640",
              "IPY_MODEL_850a95975721432489a410e2fca371a1",
              "IPY_MODEL_a59ba8522aca46528190972c55edb053"
            ],
            "layout": "IPY_MODEL_1091b678f0194fd9aa50ee4166867699"
          }
        },
        "8ffbb4c849db4b878d4343b66c286640": {
          "model_module": "@jupyter-widgets/controls",
          "model_name": "HTMLModel",
          "model_module_version": "1.5.0",
          "state": {
            "_dom_classes": [],
            "_model_module": "@jupyter-widgets/controls",
            "_model_module_version": "1.5.0",
            "_model_name": "HTMLModel",
            "_view_count": null,
            "_view_module": "@jupyter-widgets/controls",
            "_view_module_version": "1.5.0",
            "_view_name": "HTMLView",
            "description": "",
            "description_tooltip": null,
            "layout": "IPY_MODEL_2df6104c772f46a88d18529de565e524",
            "placeholder": "​",
            "style": "IPY_MODEL_b1852a078f8144e0affb2a3180c05825",
            "value": "Epoch: 100%"
          }
        },
        "850a95975721432489a410e2fca371a1": {
          "model_module": "@jupyter-widgets/controls",
          "model_name": "FloatProgressModel",
          "model_module_version": "1.5.0",
          "state": {
            "_dom_classes": [],
            "_model_module": "@jupyter-widgets/controls",
            "_model_module_version": "1.5.0",
            "_model_name": "FloatProgressModel",
            "_view_count": null,
            "_view_module": "@jupyter-widgets/controls",
            "_view_module_version": "1.5.0",
            "_view_name": "ProgressView",
            "bar_style": "success",
            "description": "",
            "description_tooltip": null,
            "layout": "IPY_MODEL_af4b31382a5448329a47e3606f52d6a5",
            "max": 1,
            "min": 0,
            "orientation": "horizontal",
            "style": "IPY_MODEL_4275ee1fb0b94276ad82d9afc56e8ac3",
            "value": 1
          }
        },
        "a59ba8522aca46528190972c55edb053": {
          "model_module": "@jupyter-widgets/controls",
          "model_name": "HTMLModel",
          "model_module_version": "1.5.0",
          "state": {
            "_dom_classes": [],
            "_model_module": "@jupyter-widgets/controls",
            "_model_module_version": "1.5.0",
            "_model_name": "HTMLModel",
            "_view_count": null,
            "_view_module": "@jupyter-widgets/controls",
            "_view_module_version": "1.5.0",
            "_view_name": "HTMLView",
            "description": "",
            "description_tooltip": null,
            "layout": "IPY_MODEL_829fe406dbb14b68ba50b75e831c90da",
            "placeholder": "​",
            "style": "IPY_MODEL_95f1788958ae4a22b2c2a541377cf2f4",
            "value": " 1/1 [1:01:23&lt;00:00, 3683.36s/it]"
          }
        },
        "1091b678f0194fd9aa50ee4166867699": {
          "model_module": "@jupyter-widgets/base",
          "model_name": "LayoutModel",
          "model_module_version": "1.2.0",
          "state": {
            "_model_module": "@jupyter-widgets/base",
            "_model_module_version": "1.2.0",
            "_model_name": "LayoutModel",
            "_view_count": null,
            "_view_module": "@jupyter-widgets/base",
            "_view_module_version": "1.2.0",
            "_view_name": "LayoutView",
            "align_content": null,
            "align_items": null,
            "align_self": null,
            "border": null,
            "bottom": null,
            "display": null,
            "flex": null,
            "flex_flow": null,
            "grid_area": null,
            "grid_auto_columns": null,
            "grid_auto_flow": null,
            "grid_auto_rows": null,
            "grid_column": null,
            "grid_gap": null,
            "grid_row": null,
            "grid_template_areas": null,
            "grid_template_columns": null,
            "grid_template_rows": null,
            "height": null,
            "justify_content": null,
            "justify_items": null,
            "left": null,
            "margin": null,
            "max_height": null,
            "max_width": null,
            "min_height": null,
            "min_width": null,
            "object_fit": null,
            "object_position": null,
            "order": null,
            "overflow": null,
            "overflow_x": null,
            "overflow_y": null,
            "padding": null,
            "right": null,
            "top": null,
            "visibility": null,
            "width": null
          }
        },
        "2df6104c772f46a88d18529de565e524": {
          "model_module": "@jupyter-widgets/base",
          "model_name": "LayoutModel",
          "model_module_version": "1.2.0",
          "state": {
            "_model_module": "@jupyter-widgets/base",
            "_model_module_version": "1.2.0",
            "_model_name": "LayoutModel",
            "_view_count": null,
            "_view_module": "@jupyter-widgets/base",
            "_view_module_version": "1.2.0",
            "_view_name": "LayoutView",
            "align_content": null,
            "align_items": null,
            "align_self": null,
            "border": null,
            "bottom": null,
            "display": null,
            "flex": null,
            "flex_flow": null,
            "grid_area": null,
            "grid_auto_columns": null,
            "grid_auto_flow": null,
            "grid_auto_rows": null,
            "grid_column": null,
            "grid_gap": null,
            "grid_row": null,
            "grid_template_areas": null,
            "grid_template_columns": null,
            "grid_template_rows": null,
            "height": null,
            "justify_content": null,
            "justify_items": null,
            "left": null,
            "margin": null,
            "max_height": null,
            "max_width": null,
            "min_height": null,
            "min_width": null,
            "object_fit": null,
            "object_position": null,
            "order": null,
            "overflow": null,
            "overflow_x": null,
            "overflow_y": null,
            "padding": null,
            "right": null,
            "top": null,
            "visibility": null,
            "width": null
          }
        },
        "b1852a078f8144e0affb2a3180c05825": {
          "model_module": "@jupyter-widgets/controls",
          "model_name": "DescriptionStyleModel",
          "model_module_version": "1.5.0",
          "state": {
            "_model_module": "@jupyter-widgets/controls",
            "_model_module_version": "1.5.0",
            "_model_name": "DescriptionStyleModel",
            "_view_count": null,
            "_view_module": "@jupyter-widgets/base",
            "_view_module_version": "1.2.0",
            "_view_name": "StyleView",
            "description_width": ""
          }
        },
        "af4b31382a5448329a47e3606f52d6a5": {
          "model_module": "@jupyter-widgets/base",
          "model_name": "LayoutModel",
          "model_module_version": "1.2.0",
          "state": {
            "_model_module": "@jupyter-widgets/base",
            "_model_module_version": "1.2.0",
            "_model_name": "LayoutModel",
            "_view_count": null,
            "_view_module": "@jupyter-widgets/base",
            "_view_module_version": "1.2.0",
            "_view_name": "LayoutView",
            "align_content": null,
            "align_items": null,
            "align_self": null,
            "border": null,
            "bottom": null,
            "display": null,
            "flex": null,
            "flex_flow": null,
            "grid_area": null,
            "grid_auto_columns": null,
            "grid_auto_flow": null,
            "grid_auto_rows": null,
            "grid_column": null,
            "grid_gap": null,
            "grid_row": null,
            "grid_template_areas": null,
            "grid_template_columns": null,
            "grid_template_rows": null,
            "height": null,
            "justify_content": null,
            "justify_items": null,
            "left": null,
            "margin": null,
            "max_height": null,
            "max_width": null,
            "min_height": null,
            "min_width": null,
            "object_fit": null,
            "object_position": null,
            "order": null,
            "overflow": null,
            "overflow_x": null,
            "overflow_y": null,
            "padding": null,
            "right": null,
            "top": null,
            "visibility": null,
            "width": null
          }
        },
        "4275ee1fb0b94276ad82d9afc56e8ac3": {
          "model_module": "@jupyter-widgets/controls",
          "model_name": "ProgressStyleModel",
          "model_module_version": "1.5.0",
          "state": {
            "_model_module": "@jupyter-widgets/controls",
            "_model_module_version": "1.5.0",
            "_model_name": "ProgressStyleModel",
            "_view_count": null,
            "_view_module": "@jupyter-widgets/base",
            "_view_module_version": "1.2.0",
            "_view_name": "StyleView",
            "bar_color": null,
            "description_width": ""
          }
        },
        "829fe406dbb14b68ba50b75e831c90da": {
          "model_module": "@jupyter-widgets/base",
          "model_name": "LayoutModel",
          "model_module_version": "1.2.0",
          "state": {
            "_model_module": "@jupyter-widgets/base",
            "_model_module_version": "1.2.0",
            "_model_name": "LayoutModel",
            "_view_count": null,
            "_view_module": "@jupyter-widgets/base",
            "_view_module_version": "1.2.0",
            "_view_name": "LayoutView",
            "align_content": null,
            "align_items": null,
            "align_self": null,
            "border": null,
            "bottom": null,
            "display": null,
            "flex": null,
            "flex_flow": null,
            "grid_area": null,
            "grid_auto_columns": null,
            "grid_auto_flow": null,
            "grid_auto_rows": null,
            "grid_column": null,
            "grid_gap": null,
            "grid_row": null,
            "grid_template_areas": null,
            "grid_template_columns": null,
            "grid_template_rows": null,
            "height": null,
            "justify_content": null,
            "justify_items": null,
            "left": null,
            "margin": null,
            "max_height": null,
            "max_width": null,
            "min_height": null,
            "min_width": null,
            "object_fit": null,
            "object_position": null,
            "order": null,
            "overflow": null,
            "overflow_x": null,
            "overflow_y": null,
            "padding": null,
            "right": null,
            "top": null,
            "visibility": null,
            "width": null
          }
        },
        "95f1788958ae4a22b2c2a541377cf2f4": {
          "model_module": "@jupyter-widgets/controls",
          "model_name": "DescriptionStyleModel",
          "model_module_version": "1.5.0",
          "state": {
            "_model_module": "@jupyter-widgets/controls",
            "_model_module_version": "1.5.0",
            "_model_name": "DescriptionStyleModel",
            "_view_count": null,
            "_view_module": "@jupyter-widgets/base",
            "_view_module_version": "1.2.0",
            "_view_name": "StyleView",
            "description_width": ""
          }
        },
        "80c18ff0af0b4d34afa96c81ff9d2562": {
          "model_module": "@jupyter-widgets/controls",
          "model_name": "HBoxModel",
          "model_module_version": "1.5.0",
          "state": {
            "_dom_classes": [],
            "_model_module": "@jupyter-widgets/controls",
            "_model_module_version": "1.5.0",
            "_model_name": "HBoxModel",
            "_view_count": null,
            "_view_module": "@jupyter-widgets/controls",
            "_view_module_version": "1.5.0",
            "_view_name": "HBoxView",
            "box_style": "",
            "children": [
              "IPY_MODEL_4e3d51c4385e4911a8bc13f5dfb81b23",
              "IPY_MODEL_2eec4a25be3c4ff8a7ae8dcb02ab6ab5",
              "IPY_MODEL_42bb593f2aa449a0bd339c1642d37605"
            ],
            "layout": "IPY_MODEL_65c9e5bed5f542819e007a720a7b75f4"
          }
        },
        "4e3d51c4385e4911a8bc13f5dfb81b23": {
          "model_module": "@jupyter-widgets/controls",
          "model_name": "HTMLModel",
          "model_module_version": "1.5.0",
          "state": {
            "_dom_classes": [],
            "_model_module": "@jupyter-widgets/controls",
            "_model_module_version": "1.5.0",
            "_model_name": "HTMLModel",
            "_view_count": null,
            "_view_module": "@jupyter-widgets/controls",
            "_view_module_version": "1.5.0",
            "_view_name": "HTMLView",
            "description": "",
            "description_tooltip": null,
            "layout": "IPY_MODEL_f44fe759763b46e69250f627531993d9",
            "placeholder": "​",
            "style": "IPY_MODEL_74c5313d3ec04c268fc3b88e4e0a996d",
            "value": "Iteration: 100%"
          }
        },
        "2eec4a25be3c4ff8a7ae8dcb02ab6ab5": {
          "model_module": "@jupyter-widgets/controls",
          "model_name": "FloatProgressModel",
          "model_module_version": "1.5.0",
          "state": {
            "_dom_classes": [],
            "_model_module": "@jupyter-widgets/controls",
            "_model_module_version": "1.5.0",
            "_model_name": "FloatProgressModel",
            "_view_count": null,
            "_view_module": "@jupyter-widgets/controls",
            "_view_module_version": "1.5.0",
            "_view_name": "ProgressView",
            "bar_style": "success",
            "description": "",
            "description_tooltip": null,
            "layout": "IPY_MODEL_912de84881294dd8a5d565f4e8531bc3",
            "max": 11543,
            "min": 0,
            "orientation": "horizontal",
            "style": "IPY_MODEL_e7b84083e0f947289e4e429a7a276787",
            "value": 11543
          }
        },
        "42bb593f2aa449a0bd339c1642d37605": {
          "model_module": "@jupyter-widgets/controls",
          "model_name": "HTMLModel",
          "model_module_version": "1.5.0",
          "state": {
            "_dom_classes": [],
            "_model_module": "@jupyter-widgets/controls",
            "_model_module_version": "1.5.0",
            "_model_name": "HTMLModel",
            "_view_count": null,
            "_view_module": "@jupyter-widgets/controls",
            "_view_module_version": "1.5.0",
            "_view_name": "HTMLView",
            "description": "",
            "description_tooltip": null,
            "layout": "IPY_MODEL_8affee83629e4b9bb6fd252a359b3fb0",
            "placeholder": "​",
            "style": "IPY_MODEL_f466445f51d94370a9b8a8493df73631",
            "value": " 11543/11543 [1:01:23&lt;00:00,  3.06it/s]"
          }
        },
        "65c9e5bed5f542819e007a720a7b75f4": {
          "model_module": "@jupyter-widgets/base",
          "model_name": "LayoutModel",
          "model_module_version": "1.2.0",
          "state": {
            "_model_module": "@jupyter-widgets/base",
            "_model_module_version": "1.2.0",
            "_model_name": "LayoutModel",
            "_view_count": null,
            "_view_module": "@jupyter-widgets/base",
            "_view_module_version": "1.2.0",
            "_view_name": "LayoutView",
            "align_content": null,
            "align_items": null,
            "align_self": null,
            "border": null,
            "bottom": null,
            "display": null,
            "flex": null,
            "flex_flow": null,
            "grid_area": null,
            "grid_auto_columns": null,
            "grid_auto_flow": null,
            "grid_auto_rows": null,
            "grid_column": null,
            "grid_gap": null,
            "grid_row": null,
            "grid_template_areas": null,
            "grid_template_columns": null,
            "grid_template_rows": null,
            "height": null,
            "justify_content": null,
            "justify_items": null,
            "left": null,
            "margin": null,
            "max_height": null,
            "max_width": null,
            "min_height": null,
            "min_width": null,
            "object_fit": null,
            "object_position": null,
            "order": null,
            "overflow": null,
            "overflow_x": null,
            "overflow_y": null,
            "padding": null,
            "right": null,
            "top": null,
            "visibility": null,
            "width": null
          }
        },
        "f44fe759763b46e69250f627531993d9": {
          "model_module": "@jupyter-widgets/base",
          "model_name": "LayoutModel",
          "model_module_version": "1.2.0",
          "state": {
            "_model_module": "@jupyter-widgets/base",
            "_model_module_version": "1.2.0",
            "_model_name": "LayoutModel",
            "_view_count": null,
            "_view_module": "@jupyter-widgets/base",
            "_view_module_version": "1.2.0",
            "_view_name": "LayoutView",
            "align_content": null,
            "align_items": null,
            "align_self": null,
            "border": null,
            "bottom": null,
            "display": null,
            "flex": null,
            "flex_flow": null,
            "grid_area": null,
            "grid_auto_columns": null,
            "grid_auto_flow": null,
            "grid_auto_rows": null,
            "grid_column": null,
            "grid_gap": null,
            "grid_row": null,
            "grid_template_areas": null,
            "grid_template_columns": null,
            "grid_template_rows": null,
            "height": null,
            "justify_content": null,
            "justify_items": null,
            "left": null,
            "margin": null,
            "max_height": null,
            "max_width": null,
            "min_height": null,
            "min_width": null,
            "object_fit": null,
            "object_position": null,
            "order": null,
            "overflow": null,
            "overflow_x": null,
            "overflow_y": null,
            "padding": null,
            "right": null,
            "top": null,
            "visibility": null,
            "width": null
          }
        },
        "74c5313d3ec04c268fc3b88e4e0a996d": {
          "model_module": "@jupyter-widgets/controls",
          "model_name": "DescriptionStyleModel",
          "model_module_version": "1.5.0",
          "state": {
            "_model_module": "@jupyter-widgets/controls",
            "_model_module_version": "1.5.0",
            "_model_name": "DescriptionStyleModel",
            "_view_count": null,
            "_view_module": "@jupyter-widgets/base",
            "_view_module_version": "1.2.0",
            "_view_name": "StyleView",
            "description_width": ""
          }
        },
        "912de84881294dd8a5d565f4e8531bc3": {
          "model_module": "@jupyter-widgets/base",
          "model_name": "LayoutModel",
          "model_module_version": "1.2.0",
          "state": {
            "_model_module": "@jupyter-widgets/base",
            "_model_module_version": "1.2.0",
            "_model_name": "LayoutModel",
            "_view_count": null,
            "_view_module": "@jupyter-widgets/base",
            "_view_module_version": "1.2.0",
            "_view_name": "LayoutView",
            "align_content": null,
            "align_items": null,
            "align_self": null,
            "border": null,
            "bottom": null,
            "display": null,
            "flex": null,
            "flex_flow": null,
            "grid_area": null,
            "grid_auto_columns": null,
            "grid_auto_flow": null,
            "grid_auto_rows": null,
            "grid_column": null,
            "grid_gap": null,
            "grid_row": null,
            "grid_template_areas": null,
            "grid_template_columns": null,
            "grid_template_rows": null,
            "height": null,
            "justify_content": null,
            "justify_items": null,
            "left": null,
            "margin": null,
            "max_height": null,
            "max_width": null,
            "min_height": null,
            "min_width": null,
            "object_fit": null,
            "object_position": null,
            "order": null,
            "overflow": null,
            "overflow_x": null,
            "overflow_y": null,
            "padding": null,
            "right": null,
            "top": null,
            "visibility": null,
            "width": null
          }
        },
        "e7b84083e0f947289e4e429a7a276787": {
          "model_module": "@jupyter-widgets/controls",
          "model_name": "ProgressStyleModel",
          "model_module_version": "1.5.0",
          "state": {
            "_model_module": "@jupyter-widgets/controls",
            "_model_module_version": "1.5.0",
            "_model_name": "ProgressStyleModel",
            "_view_count": null,
            "_view_module": "@jupyter-widgets/base",
            "_view_module_version": "1.2.0",
            "_view_name": "StyleView",
            "bar_color": null,
            "description_width": ""
          }
        },
        "8affee83629e4b9bb6fd252a359b3fb0": {
          "model_module": "@jupyter-widgets/base",
          "model_name": "LayoutModel",
          "model_module_version": "1.2.0",
          "state": {
            "_model_module": "@jupyter-widgets/base",
            "_model_module_version": "1.2.0",
            "_model_name": "LayoutModel",
            "_view_count": null,
            "_view_module": "@jupyter-widgets/base",
            "_view_module_version": "1.2.0",
            "_view_name": "LayoutView",
            "align_content": null,
            "align_items": null,
            "align_self": null,
            "border": null,
            "bottom": null,
            "display": null,
            "flex": null,
            "flex_flow": null,
            "grid_area": null,
            "grid_auto_columns": null,
            "grid_auto_flow": null,
            "grid_auto_rows": null,
            "grid_column": null,
            "grid_gap": null,
            "grid_row": null,
            "grid_template_areas": null,
            "grid_template_columns": null,
            "grid_template_rows": null,
            "height": null,
            "justify_content": null,
            "justify_items": null,
            "left": null,
            "margin": null,
            "max_height": null,
            "max_width": null,
            "min_height": null,
            "min_width": null,
            "object_fit": null,
            "object_position": null,
            "order": null,
            "overflow": null,
            "overflow_x": null,
            "overflow_y": null,
            "padding": null,
            "right": null,
            "top": null,
            "visibility": null,
            "width": null
          }
        },
        "f466445f51d94370a9b8a8493df73631": {
          "model_module": "@jupyter-widgets/controls",
          "model_name": "DescriptionStyleModel",
          "model_module_version": "1.5.0",
          "state": {
            "_model_module": "@jupyter-widgets/controls",
            "_model_module_version": "1.5.0",
            "_model_name": "DescriptionStyleModel",
            "_view_count": null,
            "_view_module": "@jupyter-widgets/base",
            "_view_module_version": "1.2.0",
            "_view_name": "StyleView",
            "description_width": ""
          }
        },
        "9ed8683e60c5411da710af7504240f20": {
          "model_module": "@jupyter-widgets/controls",
          "model_name": "HBoxModel",
          "model_module_version": "1.5.0",
          "state": {
            "_dom_classes": [],
            "_model_module": "@jupyter-widgets/controls",
            "_model_module_version": "1.5.0",
            "_model_name": "HBoxModel",
            "_view_count": null,
            "_view_module": "@jupyter-widgets/controls",
            "_view_module_version": "1.5.0",
            "_view_name": "HBoxView",
            "box_style": "",
            "children": [
              "IPY_MODEL_417683cc3515457d88568d4b76686d17",
              "IPY_MODEL_34c851f125fe492f928fc5386d3d2a68",
              "IPY_MODEL_64925a8ae80d47aa80edad81ab4786f5"
            ],
            "layout": "IPY_MODEL_c4afb14cd6bf4d4cb4f2fbe7d0938ce9"
          }
        },
        "417683cc3515457d88568d4b76686d17": {
          "model_module": "@jupyter-widgets/controls",
          "model_name": "HTMLModel",
          "model_module_version": "1.5.0",
          "state": {
            "_dom_classes": [],
            "_model_module": "@jupyter-widgets/controls",
            "_model_module_version": "1.5.0",
            "_model_name": "HTMLModel",
            "_view_count": null,
            "_view_module": "@jupyter-widgets/controls",
            "_view_module_version": "1.5.0",
            "_view_name": "HTMLView",
            "description": "",
            "description_tooltip": null,
            "layout": "IPY_MODEL_2810a1fddd0d45fcab778102a5dabb0b",
            "placeholder": "​",
            "style": "IPY_MODEL_3920979e1f4d44b28d66d534b334128e",
            "value": ""
          }
        },
        "34c851f125fe492f928fc5386d3d2a68": {
          "model_module": "@jupyter-widgets/controls",
          "model_name": "FloatProgressModel",
          "model_module_version": "1.5.0",
          "state": {
            "_dom_classes": [],
            "_model_module": "@jupyter-widgets/controls",
            "_model_module_version": "1.5.0",
            "_model_name": "FloatProgressModel",
            "_view_count": null,
            "_view_module": "@jupyter-widgets/controls",
            "_view_module_version": "1.5.0",
            "_view_name": "ProgressView",
            "bar_style": "success",
            "description": "",
            "description_tooltip": null,
            "layout": "IPY_MODEL_d846930023004a2687fc2ae72506727f",
            "max": 1,
            "min": 0,
            "orientation": "horizontal",
            "style": "IPY_MODEL_3032dbd7a5b1415d91e8e4f01b3bc1e0",
            "value": 1
          }
        },
        "64925a8ae80d47aa80edad81ab4786f5": {
          "model_module": "@jupyter-widgets/controls",
          "model_name": "HTMLModel",
          "model_module_version": "1.5.0",
          "state": {
            "_dom_classes": [],
            "_model_module": "@jupyter-widgets/controls",
            "_model_module_version": "1.5.0",
            "_model_name": "HTMLModel",
            "_view_count": null,
            "_view_module": "@jupyter-widgets/controls",
            "_view_module_version": "1.5.0",
            "_view_name": "HTMLView",
            "description": "",
            "description_tooltip": null,
            "layout": "IPY_MODEL_ebec09c0887e402f85c4b89006f950fb",
            "placeholder": "​",
            "style": "IPY_MODEL_8711132e95484763b4d8af2209b53200",
            "value": " 19819/? [00:01&lt;00:00, 19562.40it/s]"
          }
        },
        "c4afb14cd6bf4d4cb4f2fbe7d0938ce9": {
          "model_module": "@jupyter-widgets/base",
          "model_name": "LayoutModel",
          "model_module_version": "1.2.0",
          "state": {
            "_model_module": "@jupyter-widgets/base",
            "_model_module_version": "1.2.0",
            "_model_name": "LayoutModel",
            "_view_count": null,
            "_view_module": "@jupyter-widgets/base",
            "_view_module_version": "1.2.0",
            "_view_name": "LayoutView",
            "align_content": null,
            "align_items": null,
            "align_self": null,
            "border": null,
            "bottom": null,
            "display": null,
            "flex": null,
            "flex_flow": null,
            "grid_area": null,
            "grid_auto_columns": null,
            "grid_auto_flow": null,
            "grid_auto_rows": null,
            "grid_column": null,
            "grid_gap": null,
            "grid_row": null,
            "grid_template_areas": null,
            "grid_template_columns": null,
            "grid_template_rows": null,
            "height": null,
            "justify_content": null,
            "justify_items": null,
            "left": null,
            "margin": null,
            "max_height": null,
            "max_width": null,
            "min_height": null,
            "min_width": null,
            "object_fit": null,
            "object_position": null,
            "order": null,
            "overflow": null,
            "overflow_x": null,
            "overflow_y": null,
            "padding": null,
            "right": null,
            "top": null,
            "visibility": null,
            "width": null
          }
        },
        "2810a1fddd0d45fcab778102a5dabb0b": {
          "model_module": "@jupyter-widgets/base",
          "model_name": "LayoutModel",
          "model_module_version": "1.2.0",
          "state": {
            "_model_module": "@jupyter-widgets/base",
            "_model_module_version": "1.2.0",
            "_model_name": "LayoutModel",
            "_view_count": null,
            "_view_module": "@jupyter-widgets/base",
            "_view_module_version": "1.2.0",
            "_view_name": "LayoutView",
            "align_content": null,
            "align_items": null,
            "align_self": null,
            "border": null,
            "bottom": null,
            "display": null,
            "flex": null,
            "flex_flow": null,
            "grid_area": null,
            "grid_auto_columns": null,
            "grid_auto_flow": null,
            "grid_auto_rows": null,
            "grid_column": null,
            "grid_gap": null,
            "grid_row": null,
            "grid_template_areas": null,
            "grid_template_columns": null,
            "grid_template_rows": null,
            "height": null,
            "justify_content": null,
            "justify_items": null,
            "left": null,
            "margin": null,
            "max_height": null,
            "max_width": null,
            "min_height": null,
            "min_width": null,
            "object_fit": null,
            "object_position": null,
            "order": null,
            "overflow": null,
            "overflow_x": null,
            "overflow_y": null,
            "padding": null,
            "right": null,
            "top": null,
            "visibility": null,
            "width": null
          }
        },
        "3920979e1f4d44b28d66d534b334128e": {
          "model_module": "@jupyter-widgets/controls",
          "model_name": "DescriptionStyleModel",
          "model_module_version": "1.5.0",
          "state": {
            "_model_module": "@jupyter-widgets/controls",
            "_model_module_version": "1.5.0",
            "_model_name": "DescriptionStyleModel",
            "_view_count": null,
            "_view_module": "@jupyter-widgets/base",
            "_view_module_version": "1.2.0",
            "_view_name": "StyleView",
            "description_width": ""
          }
        },
        "d846930023004a2687fc2ae72506727f": {
          "model_module": "@jupyter-widgets/base",
          "model_name": "LayoutModel",
          "model_module_version": "1.2.0",
          "state": {
            "_model_module": "@jupyter-widgets/base",
            "_model_module_version": "1.2.0",
            "_model_name": "LayoutModel",
            "_view_count": null,
            "_view_module": "@jupyter-widgets/base",
            "_view_module_version": "1.2.0",
            "_view_name": "LayoutView",
            "align_content": null,
            "align_items": null,
            "align_self": null,
            "border": null,
            "bottom": null,
            "display": null,
            "flex": null,
            "flex_flow": null,
            "grid_area": null,
            "grid_auto_columns": null,
            "grid_auto_flow": null,
            "grid_auto_rows": null,
            "grid_column": null,
            "grid_gap": null,
            "grid_row": null,
            "grid_template_areas": null,
            "grid_template_columns": null,
            "grid_template_rows": null,
            "height": null,
            "justify_content": null,
            "justify_items": null,
            "left": null,
            "margin": null,
            "max_height": null,
            "max_width": null,
            "min_height": null,
            "min_width": null,
            "object_fit": null,
            "object_position": null,
            "order": null,
            "overflow": null,
            "overflow_x": null,
            "overflow_y": null,
            "padding": null,
            "right": null,
            "top": null,
            "visibility": null,
            "width": "20px"
          }
        },
        "3032dbd7a5b1415d91e8e4f01b3bc1e0": {
          "model_module": "@jupyter-widgets/controls",
          "model_name": "ProgressStyleModel",
          "model_module_version": "1.5.0",
          "state": {
            "_model_module": "@jupyter-widgets/controls",
            "_model_module_version": "1.5.0",
            "_model_name": "ProgressStyleModel",
            "_view_count": null,
            "_view_module": "@jupyter-widgets/base",
            "_view_module_version": "1.2.0",
            "_view_name": "StyleView",
            "bar_color": null,
            "description_width": ""
          }
        },
        "ebec09c0887e402f85c4b89006f950fb": {
          "model_module": "@jupyter-widgets/base",
          "model_name": "LayoutModel",
          "model_module_version": "1.2.0",
          "state": {
            "_model_module": "@jupyter-widgets/base",
            "_model_module_version": "1.2.0",
            "_model_name": "LayoutModel",
            "_view_count": null,
            "_view_module": "@jupyter-widgets/base",
            "_view_module_version": "1.2.0",
            "_view_name": "LayoutView",
            "align_content": null,
            "align_items": null,
            "align_self": null,
            "border": null,
            "bottom": null,
            "display": null,
            "flex": null,
            "flex_flow": null,
            "grid_area": null,
            "grid_auto_columns": null,
            "grid_auto_flow": null,
            "grid_auto_rows": null,
            "grid_column": null,
            "grid_gap": null,
            "grid_row": null,
            "grid_template_areas": null,
            "grid_template_columns": null,
            "grid_template_rows": null,
            "height": null,
            "justify_content": null,
            "justify_items": null,
            "left": null,
            "margin": null,
            "max_height": null,
            "max_width": null,
            "min_height": null,
            "min_width": null,
            "object_fit": null,
            "object_position": null,
            "order": null,
            "overflow": null,
            "overflow_x": null,
            "overflow_y": null,
            "padding": null,
            "right": null,
            "top": null,
            "visibility": null,
            "width": null
          }
        },
        "8711132e95484763b4d8af2209b53200": {
          "model_module": "@jupyter-widgets/controls",
          "model_name": "DescriptionStyleModel",
          "model_module_version": "1.5.0",
          "state": {
            "_model_module": "@jupyter-widgets/controls",
            "_model_module_version": "1.5.0",
            "_model_name": "DescriptionStyleModel",
            "_view_count": null,
            "_view_module": "@jupyter-widgets/base",
            "_view_module_version": "1.2.0",
            "_view_name": "StyleView",
            "description_width": ""
          }
        },
        "16cb03cb3579426c91a3eafc4c72223e": {
          "model_module": "@jupyter-widgets/controls",
          "model_name": "HBoxModel",
          "model_module_version": "1.5.0",
          "state": {
            "_dom_classes": [],
            "_model_module": "@jupyter-widgets/controls",
            "_model_module_version": "1.5.0",
            "_model_name": "HBoxModel",
            "_view_count": null,
            "_view_module": "@jupyter-widgets/controls",
            "_view_module_version": "1.5.0",
            "_view_name": "HBoxView",
            "box_style": "",
            "children": [
              "IPY_MODEL_4d2f6a8c8c774f2c8a333802c5fca63c",
              "IPY_MODEL_ef572577732b44709bfdd7ef9e9e11fc",
              "IPY_MODEL_fce08873d7794eeda657362733dbaefc"
            ],
            "layout": "IPY_MODEL_6723e947424c46ed82bbb758327d64c3"
          }
        },
        "4d2f6a8c8c774f2c8a333802c5fca63c": {
          "model_module": "@jupyter-widgets/controls",
          "model_name": "HTMLModel",
          "model_module_version": "1.5.0",
          "state": {
            "_dom_classes": [],
            "_model_module": "@jupyter-widgets/controls",
            "_model_module_version": "1.5.0",
            "_model_name": "HTMLModel",
            "_view_count": null,
            "_view_module": "@jupyter-widgets/controls",
            "_view_module_version": "1.5.0",
            "_view_name": "HTMLView",
            "description": "",
            "description_tooltip": null,
            "layout": "IPY_MODEL_95674710038b46a09d62e72a69382e70",
            "placeholder": "​",
            "style": "IPY_MODEL_133e7ca8d6c745318963b715ca71d559",
            "value": "Epoch: 100%"
          }
        },
        "ef572577732b44709bfdd7ef9e9e11fc": {
          "model_module": "@jupyter-widgets/controls",
          "model_name": "FloatProgressModel",
          "model_module_version": "1.5.0",
          "state": {
            "_dom_classes": [],
            "_model_module": "@jupyter-widgets/controls",
            "_model_module_version": "1.5.0",
            "_model_name": "FloatProgressModel",
            "_view_count": null,
            "_view_module": "@jupyter-widgets/controls",
            "_view_module_version": "1.5.0",
            "_view_name": "ProgressView",
            "bar_style": "success",
            "description": "",
            "description_tooltip": null,
            "layout": "IPY_MODEL_d4d10212fdd1434bb73889be4bd7b7d8",
            "max": 1,
            "min": 0,
            "orientation": "horizontal",
            "style": "IPY_MODEL_1e0683d6eed44f3d9ea6c87e3e87ace9",
            "value": 1
          }
        },
        "fce08873d7794eeda657362733dbaefc": {
          "model_module": "@jupyter-widgets/controls",
          "model_name": "HTMLModel",
          "model_module_version": "1.5.0",
          "state": {
            "_dom_classes": [],
            "_model_module": "@jupyter-widgets/controls",
            "_model_module_version": "1.5.0",
            "_model_name": "HTMLModel",
            "_view_count": null,
            "_view_module": "@jupyter-widgets/controls",
            "_view_module_version": "1.5.0",
            "_view_name": "HTMLView",
            "description": "",
            "description_tooltip": null,
            "layout": "IPY_MODEL_1aed59ff05c84be3aa8faf6dbf4a5f4b",
            "placeholder": "​",
            "style": "IPY_MODEL_127277afbd6841288e9563519df95e4d",
            "value": " 1/1 [01:54&lt;00:00, 114.15s/it]"
          }
        },
        "6723e947424c46ed82bbb758327d64c3": {
          "model_module": "@jupyter-widgets/base",
          "model_name": "LayoutModel",
          "model_module_version": "1.2.0",
          "state": {
            "_model_module": "@jupyter-widgets/base",
            "_model_module_version": "1.2.0",
            "_model_name": "LayoutModel",
            "_view_count": null,
            "_view_module": "@jupyter-widgets/base",
            "_view_module_version": "1.2.0",
            "_view_name": "LayoutView",
            "align_content": null,
            "align_items": null,
            "align_self": null,
            "border": null,
            "bottom": null,
            "display": null,
            "flex": null,
            "flex_flow": null,
            "grid_area": null,
            "grid_auto_columns": null,
            "grid_auto_flow": null,
            "grid_auto_rows": null,
            "grid_column": null,
            "grid_gap": null,
            "grid_row": null,
            "grid_template_areas": null,
            "grid_template_columns": null,
            "grid_template_rows": null,
            "height": null,
            "justify_content": null,
            "justify_items": null,
            "left": null,
            "margin": null,
            "max_height": null,
            "max_width": null,
            "min_height": null,
            "min_width": null,
            "object_fit": null,
            "object_position": null,
            "order": null,
            "overflow": null,
            "overflow_x": null,
            "overflow_y": null,
            "padding": null,
            "right": null,
            "top": null,
            "visibility": null,
            "width": null
          }
        },
        "95674710038b46a09d62e72a69382e70": {
          "model_module": "@jupyter-widgets/base",
          "model_name": "LayoutModel",
          "model_module_version": "1.2.0",
          "state": {
            "_model_module": "@jupyter-widgets/base",
            "_model_module_version": "1.2.0",
            "_model_name": "LayoutModel",
            "_view_count": null,
            "_view_module": "@jupyter-widgets/base",
            "_view_module_version": "1.2.0",
            "_view_name": "LayoutView",
            "align_content": null,
            "align_items": null,
            "align_self": null,
            "border": null,
            "bottom": null,
            "display": null,
            "flex": null,
            "flex_flow": null,
            "grid_area": null,
            "grid_auto_columns": null,
            "grid_auto_flow": null,
            "grid_auto_rows": null,
            "grid_column": null,
            "grid_gap": null,
            "grid_row": null,
            "grid_template_areas": null,
            "grid_template_columns": null,
            "grid_template_rows": null,
            "height": null,
            "justify_content": null,
            "justify_items": null,
            "left": null,
            "margin": null,
            "max_height": null,
            "max_width": null,
            "min_height": null,
            "min_width": null,
            "object_fit": null,
            "object_position": null,
            "order": null,
            "overflow": null,
            "overflow_x": null,
            "overflow_y": null,
            "padding": null,
            "right": null,
            "top": null,
            "visibility": null,
            "width": null
          }
        },
        "133e7ca8d6c745318963b715ca71d559": {
          "model_module": "@jupyter-widgets/controls",
          "model_name": "DescriptionStyleModel",
          "model_module_version": "1.5.0",
          "state": {
            "_model_module": "@jupyter-widgets/controls",
            "_model_module_version": "1.5.0",
            "_model_name": "DescriptionStyleModel",
            "_view_count": null,
            "_view_module": "@jupyter-widgets/base",
            "_view_module_version": "1.2.0",
            "_view_name": "StyleView",
            "description_width": ""
          }
        },
        "d4d10212fdd1434bb73889be4bd7b7d8": {
          "model_module": "@jupyter-widgets/base",
          "model_name": "LayoutModel",
          "model_module_version": "1.2.0",
          "state": {
            "_model_module": "@jupyter-widgets/base",
            "_model_module_version": "1.2.0",
            "_model_name": "LayoutModel",
            "_view_count": null,
            "_view_module": "@jupyter-widgets/base",
            "_view_module_version": "1.2.0",
            "_view_name": "LayoutView",
            "align_content": null,
            "align_items": null,
            "align_self": null,
            "border": null,
            "bottom": null,
            "display": null,
            "flex": null,
            "flex_flow": null,
            "grid_area": null,
            "grid_auto_columns": null,
            "grid_auto_flow": null,
            "grid_auto_rows": null,
            "grid_column": null,
            "grid_gap": null,
            "grid_row": null,
            "grid_template_areas": null,
            "grid_template_columns": null,
            "grid_template_rows": null,
            "height": null,
            "justify_content": null,
            "justify_items": null,
            "left": null,
            "margin": null,
            "max_height": null,
            "max_width": null,
            "min_height": null,
            "min_width": null,
            "object_fit": null,
            "object_position": null,
            "order": null,
            "overflow": null,
            "overflow_x": null,
            "overflow_y": null,
            "padding": null,
            "right": null,
            "top": null,
            "visibility": null,
            "width": null
          }
        },
        "1e0683d6eed44f3d9ea6c87e3e87ace9": {
          "model_module": "@jupyter-widgets/controls",
          "model_name": "ProgressStyleModel",
          "model_module_version": "1.5.0",
          "state": {
            "_model_module": "@jupyter-widgets/controls",
            "_model_module_version": "1.5.0",
            "_model_name": "ProgressStyleModel",
            "_view_count": null,
            "_view_module": "@jupyter-widgets/base",
            "_view_module_version": "1.2.0",
            "_view_name": "StyleView",
            "bar_color": null,
            "description_width": ""
          }
        },
        "1aed59ff05c84be3aa8faf6dbf4a5f4b": {
          "model_module": "@jupyter-widgets/base",
          "model_name": "LayoutModel",
          "model_module_version": "1.2.0",
          "state": {
            "_model_module": "@jupyter-widgets/base",
            "_model_module_version": "1.2.0",
            "_model_name": "LayoutModel",
            "_view_count": null,
            "_view_module": "@jupyter-widgets/base",
            "_view_module_version": "1.2.0",
            "_view_name": "LayoutView",
            "align_content": null,
            "align_items": null,
            "align_self": null,
            "border": null,
            "bottom": null,
            "display": null,
            "flex": null,
            "flex_flow": null,
            "grid_area": null,
            "grid_auto_columns": null,
            "grid_auto_flow": null,
            "grid_auto_rows": null,
            "grid_column": null,
            "grid_gap": null,
            "grid_row": null,
            "grid_template_areas": null,
            "grid_template_columns": null,
            "grid_template_rows": null,
            "height": null,
            "justify_content": null,
            "justify_items": null,
            "left": null,
            "margin": null,
            "max_height": null,
            "max_width": null,
            "min_height": null,
            "min_width": null,
            "object_fit": null,
            "object_position": null,
            "order": null,
            "overflow": null,
            "overflow_x": null,
            "overflow_y": null,
            "padding": null,
            "right": null,
            "top": null,
            "visibility": null,
            "width": null
          }
        },
        "127277afbd6841288e9563519df95e4d": {
          "model_module": "@jupyter-widgets/controls",
          "model_name": "DescriptionStyleModel",
          "model_module_version": "1.5.0",
          "state": {
            "_model_module": "@jupyter-widgets/controls",
            "_model_module_version": "1.5.0",
            "_model_name": "DescriptionStyleModel",
            "_view_count": null,
            "_view_module": "@jupyter-widgets/base",
            "_view_module_version": "1.2.0",
            "_view_name": "StyleView",
            "description_width": ""
          }
        },
        "3e948c160f374301b61ac89967bb5ed7": {
          "model_module": "@jupyter-widgets/controls",
          "model_name": "HBoxModel",
          "model_module_version": "1.5.0",
          "state": {
            "_dom_classes": [],
            "_model_module": "@jupyter-widgets/controls",
            "_model_module_version": "1.5.0",
            "_model_name": "HBoxModel",
            "_view_count": null,
            "_view_module": "@jupyter-widgets/controls",
            "_view_module_version": "1.5.0",
            "_view_name": "HBoxView",
            "box_style": "",
            "children": [
              "IPY_MODEL_e76b59f76aa74a19ae230ad12930a846",
              "IPY_MODEL_1ae1a66322874d799fd9006c02817216",
              "IPY_MODEL_4dd5dfb0fe4b4d988f7b51313eefae2a"
            ],
            "layout": "IPY_MODEL_4dfb1b007f314f39ab86a53e48c9c434"
          }
        },
        "e76b59f76aa74a19ae230ad12930a846": {
          "model_module": "@jupyter-widgets/controls",
          "model_name": "HTMLModel",
          "model_module_version": "1.5.0",
          "state": {
            "_dom_classes": [],
            "_model_module": "@jupyter-widgets/controls",
            "_model_module_version": "1.5.0",
            "_model_name": "HTMLModel",
            "_view_count": null,
            "_view_module": "@jupyter-widgets/controls",
            "_view_module_version": "1.5.0",
            "_view_name": "HTMLView",
            "description": "",
            "description_tooltip": null,
            "layout": "IPY_MODEL_09fc4548288143e8a1dcc9a962af391e",
            "placeholder": "​",
            "style": "IPY_MODEL_06171b9c99144942bb2a623336c4bfab",
            "value": "Iteration: 100%"
          }
        },
        "1ae1a66322874d799fd9006c02817216": {
          "model_module": "@jupyter-widgets/controls",
          "model_name": "FloatProgressModel",
          "model_module_version": "1.5.0",
          "state": {
            "_dom_classes": [],
            "_model_module": "@jupyter-widgets/controls",
            "_model_module_version": "1.5.0",
            "_model_name": "FloatProgressModel",
            "_view_count": null,
            "_view_module": "@jupyter-widgets/controls",
            "_view_module_version": "1.5.0",
            "_view_name": "ProgressView",
            "bar_style": "success",
            "description": "",
            "description_tooltip": null,
            "layout": "IPY_MODEL_00dcc0170e8346df9c07b9848baf5000",
            "max": 310,
            "min": 0,
            "orientation": "horizontal",
            "style": "IPY_MODEL_758c2ecf0d1946fcbb906c7a022d53bc",
            "value": 310
          }
        },
        "4dd5dfb0fe4b4d988f7b51313eefae2a": {
          "model_module": "@jupyter-widgets/controls",
          "model_name": "HTMLModel",
          "model_module_version": "1.5.0",
          "state": {
            "_dom_classes": [],
            "_model_module": "@jupyter-widgets/controls",
            "_model_module_version": "1.5.0",
            "_model_name": "HTMLModel",
            "_view_count": null,
            "_view_module": "@jupyter-widgets/controls",
            "_view_module_version": "1.5.0",
            "_view_name": "HTMLView",
            "description": "",
            "description_tooltip": null,
            "layout": "IPY_MODEL_d58e81f86e4347ee8eb27b87fbdda49b",
            "placeholder": "​",
            "style": "IPY_MODEL_de839a9555084bfb9318284754927f22",
            "value": " 310/310 [01:38&lt;00:00,  3.35it/s]"
          }
        },
        "4dfb1b007f314f39ab86a53e48c9c434": {
          "model_module": "@jupyter-widgets/base",
          "model_name": "LayoutModel",
          "model_module_version": "1.2.0",
          "state": {
            "_model_module": "@jupyter-widgets/base",
            "_model_module_version": "1.2.0",
            "_model_name": "LayoutModel",
            "_view_count": null,
            "_view_module": "@jupyter-widgets/base",
            "_view_module_version": "1.2.0",
            "_view_name": "LayoutView",
            "align_content": null,
            "align_items": null,
            "align_self": null,
            "border": null,
            "bottom": null,
            "display": null,
            "flex": null,
            "flex_flow": null,
            "grid_area": null,
            "grid_auto_columns": null,
            "grid_auto_flow": null,
            "grid_auto_rows": null,
            "grid_column": null,
            "grid_gap": null,
            "grid_row": null,
            "grid_template_areas": null,
            "grid_template_columns": null,
            "grid_template_rows": null,
            "height": null,
            "justify_content": null,
            "justify_items": null,
            "left": null,
            "margin": null,
            "max_height": null,
            "max_width": null,
            "min_height": null,
            "min_width": null,
            "object_fit": null,
            "object_position": null,
            "order": null,
            "overflow": null,
            "overflow_x": null,
            "overflow_y": null,
            "padding": null,
            "right": null,
            "top": null,
            "visibility": null,
            "width": null
          }
        },
        "09fc4548288143e8a1dcc9a962af391e": {
          "model_module": "@jupyter-widgets/base",
          "model_name": "LayoutModel",
          "model_module_version": "1.2.0",
          "state": {
            "_model_module": "@jupyter-widgets/base",
            "_model_module_version": "1.2.0",
            "_model_name": "LayoutModel",
            "_view_count": null,
            "_view_module": "@jupyter-widgets/base",
            "_view_module_version": "1.2.0",
            "_view_name": "LayoutView",
            "align_content": null,
            "align_items": null,
            "align_self": null,
            "border": null,
            "bottom": null,
            "display": null,
            "flex": null,
            "flex_flow": null,
            "grid_area": null,
            "grid_auto_columns": null,
            "grid_auto_flow": null,
            "grid_auto_rows": null,
            "grid_column": null,
            "grid_gap": null,
            "grid_row": null,
            "grid_template_areas": null,
            "grid_template_columns": null,
            "grid_template_rows": null,
            "height": null,
            "justify_content": null,
            "justify_items": null,
            "left": null,
            "margin": null,
            "max_height": null,
            "max_width": null,
            "min_height": null,
            "min_width": null,
            "object_fit": null,
            "object_position": null,
            "order": null,
            "overflow": null,
            "overflow_x": null,
            "overflow_y": null,
            "padding": null,
            "right": null,
            "top": null,
            "visibility": null,
            "width": null
          }
        },
        "06171b9c99144942bb2a623336c4bfab": {
          "model_module": "@jupyter-widgets/controls",
          "model_name": "DescriptionStyleModel",
          "model_module_version": "1.5.0",
          "state": {
            "_model_module": "@jupyter-widgets/controls",
            "_model_module_version": "1.5.0",
            "_model_name": "DescriptionStyleModel",
            "_view_count": null,
            "_view_module": "@jupyter-widgets/base",
            "_view_module_version": "1.2.0",
            "_view_name": "StyleView",
            "description_width": ""
          }
        },
        "00dcc0170e8346df9c07b9848baf5000": {
          "model_module": "@jupyter-widgets/base",
          "model_name": "LayoutModel",
          "model_module_version": "1.2.0",
          "state": {
            "_model_module": "@jupyter-widgets/base",
            "_model_module_version": "1.2.0",
            "_model_name": "LayoutModel",
            "_view_count": null,
            "_view_module": "@jupyter-widgets/base",
            "_view_module_version": "1.2.0",
            "_view_name": "LayoutView",
            "align_content": null,
            "align_items": null,
            "align_self": null,
            "border": null,
            "bottom": null,
            "display": null,
            "flex": null,
            "flex_flow": null,
            "grid_area": null,
            "grid_auto_columns": null,
            "grid_auto_flow": null,
            "grid_auto_rows": null,
            "grid_column": null,
            "grid_gap": null,
            "grid_row": null,
            "grid_template_areas": null,
            "grid_template_columns": null,
            "grid_template_rows": null,
            "height": null,
            "justify_content": null,
            "justify_items": null,
            "left": null,
            "margin": null,
            "max_height": null,
            "max_width": null,
            "min_height": null,
            "min_width": null,
            "object_fit": null,
            "object_position": null,
            "order": null,
            "overflow": null,
            "overflow_x": null,
            "overflow_y": null,
            "padding": null,
            "right": null,
            "top": null,
            "visibility": null,
            "width": null
          }
        },
        "758c2ecf0d1946fcbb906c7a022d53bc": {
          "model_module": "@jupyter-widgets/controls",
          "model_name": "ProgressStyleModel",
          "model_module_version": "1.5.0",
          "state": {
            "_model_module": "@jupyter-widgets/controls",
            "_model_module_version": "1.5.0",
            "_model_name": "ProgressStyleModel",
            "_view_count": null,
            "_view_module": "@jupyter-widgets/base",
            "_view_module_version": "1.2.0",
            "_view_name": "StyleView",
            "bar_color": null,
            "description_width": ""
          }
        },
        "d58e81f86e4347ee8eb27b87fbdda49b": {
          "model_module": "@jupyter-widgets/base",
          "model_name": "LayoutModel",
          "model_module_version": "1.2.0",
          "state": {
            "_model_module": "@jupyter-widgets/base",
            "_model_module_version": "1.2.0",
            "_model_name": "LayoutModel",
            "_view_count": null,
            "_view_module": "@jupyter-widgets/base",
            "_view_module_version": "1.2.0",
            "_view_name": "LayoutView",
            "align_content": null,
            "align_items": null,
            "align_self": null,
            "border": null,
            "bottom": null,
            "display": null,
            "flex": null,
            "flex_flow": null,
            "grid_area": null,
            "grid_auto_columns": null,
            "grid_auto_flow": null,
            "grid_auto_rows": null,
            "grid_column": null,
            "grid_gap": null,
            "grid_row": null,
            "grid_template_areas": null,
            "grid_template_columns": null,
            "grid_template_rows": null,
            "height": null,
            "justify_content": null,
            "justify_items": null,
            "left": null,
            "margin": null,
            "max_height": null,
            "max_width": null,
            "min_height": null,
            "min_width": null,
            "object_fit": null,
            "object_position": null,
            "order": null,
            "overflow": null,
            "overflow_x": null,
            "overflow_y": null,
            "padding": null,
            "right": null,
            "top": null,
            "visibility": null,
            "width": null
          }
        },
        "de839a9555084bfb9318284754927f22": {
          "model_module": "@jupyter-widgets/controls",
          "model_name": "DescriptionStyleModel",
          "model_module_version": "1.5.0",
          "state": {
            "_model_module": "@jupyter-widgets/controls",
            "_model_module_version": "1.5.0",
            "_model_name": "DescriptionStyleModel",
            "_view_count": null,
            "_view_module": "@jupyter-widgets/base",
            "_view_module_version": "1.2.0",
            "_view_name": "StyleView",
            "description_width": ""
          }
        },
        "13d493eeb3924d6286091ceffa664e8f": {
          "model_module": "@jupyter-widgets/controls",
          "model_name": "HBoxModel",
          "model_module_version": "1.5.0",
          "state": {
            "_dom_classes": [],
            "_model_module": "@jupyter-widgets/controls",
            "_model_module_version": "1.5.0",
            "_model_name": "HBoxModel",
            "_view_count": null,
            "_view_module": "@jupyter-widgets/controls",
            "_view_module_version": "1.5.0",
            "_view_name": "HBoxView",
            "box_style": "",
            "children": [
              "IPY_MODEL_d16fbab11b1844ddb9907b3a47d9d551",
              "IPY_MODEL_10e00cf18e4649e0a2e79d1cb711e833",
              "IPY_MODEL_3af8c03664e34ed4a851d8f6a09cf802"
            ],
            "layout": "IPY_MODEL_5ac98dba77014b9396341f90f30386b1"
          }
        },
        "d16fbab11b1844ddb9907b3a47d9d551": {
          "model_module": "@jupyter-widgets/controls",
          "model_name": "HTMLModel",
          "model_module_version": "1.5.0",
          "state": {
            "_dom_classes": [],
            "_model_module": "@jupyter-widgets/controls",
            "_model_module_version": "1.5.0",
            "_model_name": "HTMLModel",
            "_view_count": null,
            "_view_module": "@jupyter-widgets/controls",
            "_view_module_version": "1.5.0",
            "_view_name": "HTMLView",
            "description": "",
            "description_tooltip": null,
            "layout": "IPY_MODEL_cbcb2a5677504e73ab5b1b14fa3fa220",
            "placeholder": "​",
            "style": "IPY_MODEL_c8106c851c954ad28816ff5d6d7efb00",
            "value": "Batches: 100%"
          }
        },
        "10e00cf18e4649e0a2e79d1cb711e833": {
          "model_module": "@jupyter-widgets/controls",
          "model_name": "FloatProgressModel",
          "model_module_version": "1.5.0",
          "state": {
            "_dom_classes": [],
            "_model_module": "@jupyter-widgets/controls",
            "_model_module_version": "1.5.0",
            "_model_name": "FloatProgressModel",
            "_view_count": null,
            "_view_module": "@jupyter-widgets/controls",
            "_view_module_version": "1.5.0",
            "_view_name": "ProgressView",
            "bar_style": "success",
            "description": "",
            "description_tooltip": null,
            "layout": "IPY_MODEL_974cc48d97cf4a7d92914e73231aecc7",
            "max": 677,
            "min": 0,
            "orientation": "horizontal",
            "style": "IPY_MODEL_185909b1c5c14963a9b78612e3897fed",
            "value": 677
          }
        },
        "3af8c03664e34ed4a851d8f6a09cf802": {
          "model_module": "@jupyter-widgets/controls",
          "model_name": "HTMLModel",
          "model_module_version": "1.5.0",
          "state": {
            "_dom_classes": [],
            "_model_module": "@jupyter-widgets/controls",
            "_model_module_version": "1.5.0",
            "_model_name": "HTMLModel",
            "_view_count": null,
            "_view_module": "@jupyter-widgets/controls",
            "_view_module_version": "1.5.0",
            "_view_name": "HTMLView",
            "description": "",
            "description_tooltip": null,
            "layout": "IPY_MODEL_1ffbcc60893549418dcf3b033cb56969",
            "placeholder": "​",
            "style": "IPY_MODEL_e4c7626b602a4f6daa02e6f0809c3cd7",
            "value": " 677/677 [00:13&lt;00:00, 124.89it/s]"
          }
        },
        "5ac98dba77014b9396341f90f30386b1": {
          "model_module": "@jupyter-widgets/base",
          "model_name": "LayoutModel",
          "model_module_version": "1.2.0",
          "state": {
            "_model_module": "@jupyter-widgets/base",
            "_model_module_version": "1.2.0",
            "_model_name": "LayoutModel",
            "_view_count": null,
            "_view_module": "@jupyter-widgets/base",
            "_view_module_version": "1.2.0",
            "_view_name": "LayoutView",
            "align_content": null,
            "align_items": null,
            "align_self": null,
            "border": null,
            "bottom": null,
            "display": null,
            "flex": null,
            "flex_flow": null,
            "grid_area": null,
            "grid_auto_columns": null,
            "grid_auto_flow": null,
            "grid_auto_rows": null,
            "grid_column": null,
            "grid_gap": null,
            "grid_row": null,
            "grid_template_areas": null,
            "grid_template_columns": null,
            "grid_template_rows": null,
            "height": null,
            "justify_content": null,
            "justify_items": null,
            "left": null,
            "margin": null,
            "max_height": null,
            "max_width": null,
            "min_height": null,
            "min_width": null,
            "object_fit": null,
            "object_position": null,
            "order": null,
            "overflow": null,
            "overflow_x": null,
            "overflow_y": null,
            "padding": null,
            "right": null,
            "top": null,
            "visibility": null,
            "width": null
          }
        },
        "cbcb2a5677504e73ab5b1b14fa3fa220": {
          "model_module": "@jupyter-widgets/base",
          "model_name": "LayoutModel",
          "model_module_version": "1.2.0",
          "state": {
            "_model_module": "@jupyter-widgets/base",
            "_model_module_version": "1.2.0",
            "_model_name": "LayoutModel",
            "_view_count": null,
            "_view_module": "@jupyter-widgets/base",
            "_view_module_version": "1.2.0",
            "_view_name": "LayoutView",
            "align_content": null,
            "align_items": null,
            "align_self": null,
            "border": null,
            "bottom": null,
            "display": null,
            "flex": null,
            "flex_flow": null,
            "grid_area": null,
            "grid_auto_columns": null,
            "grid_auto_flow": null,
            "grid_auto_rows": null,
            "grid_column": null,
            "grid_gap": null,
            "grid_row": null,
            "grid_template_areas": null,
            "grid_template_columns": null,
            "grid_template_rows": null,
            "height": null,
            "justify_content": null,
            "justify_items": null,
            "left": null,
            "margin": null,
            "max_height": null,
            "max_width": null,
            "min_height": null,
            "min_width": null,
            "object_fit": null,
            "object_position": null,
            "order": null,
            "overflow": null,
            "overflow_x": null,
            "overflow_y": null,
            "padding": null,
            "right": null,
            "top": null,
            "visibility": null,
            "width": null
          }
        },
        "c8106c851c954ad28816ff5d6d7efb00": {
          "model_module": "@jupyter-widgets/controls",
          "model_name": "DescriptionStyleModel",
          "model_module_version": "1.5.0",
          "state": {
            "_model_module": "@jupyter-widgets/controls",
            "_model_module_version": "1.5.0",
            "_model_name": "DescriptionStyleModel",
            "_view_count": null,
            "_view_module": "@jupyter-widgets/base",
            "_view_module_version": "1.2.0",
            "_view_name": "StyleView",
            "description_width": ""
          }
        },
        "974cc48d97cf4a7d92914e73231aecc7": {
          "model_module": "@jupyter-widgets/base",
          "model_name": "LayoutModel",
          "model_module_version": "1.2.0",
          "state": {
            "_model_module": "@jupyter-widgets/base",
            "_model_module_version": "1.2.0",
            "_model_name": "LayoutModel",
            "_view_count": null,
            "_view_module": "@jupyter-widgets/base",
            "_view_module_version": "1.2.0",
            "_view_name": "LayoutView",
            "align_content": null,
            "align_items": null,
            "align_self": null,
            "border": null,
            "bottom": null,
            "display": null,
            "flex": null,
            "flex_flow": null,
            "grid_area": null,
            "grid_auto_columns": null,
            "grid_auto_flow": null,
            "grid_auto_rows": null,
            "grid_column": null,
            "grid_gap": null,
            "grid_row": null,
            "grid_template_areas": null,
            "grid_template_columns": null,
            "grid_template_rows": null,
            "height": null,
            "justify_content": null,
            "justify_items": null,
            "left": null,
            "margin": null,
            "max_height": null,
            "max_width": null,
            "min_height": null,
            "min_width": null,
            "object_fit": null,
            "object_position": null,
            "order": null,
            "overflow": null,
            "overflow_x": null,
            "overflow_y": null,
            "padding": null,
            "right": null,
            "top": null,
            "visibility": null,
            "width": null
          }
        },
        "185909b1c5c14963a9b78612e3897fed": {
          "model_module": "@jupyter-widgets/controls",
          "model_name": "ProgressStyleModel",
          "model_module_version": "1.5.0",
          "state": {
            "_model_module": "@jupyter-widgets/controls",
            "_model_module_version": "1.5.0",
            "_model_name": "ProgressStyleModel",
            "_view_count": null,
            "_view_module": "@jupyter-widgets/base",
            "_view_module_version": "1.2.0",
            "_view_name": "StyleView",
            "bar_color": null,
            "description_width": ""
          }
        },
        "1ffbcc60893549418dcf3b033cb56969": {
          "model_module": "@jupyter-widgets/base",
          "model_name": "LayoutModel",
          "model_module_version": "1.2.0",
          "state": {
            "_model_module": "@jupyter-widgets/base",
            "_model_module_version": "1.2.0",
            "_model_name": "LayoutModel",
            "_view_count": null,
            "_view_module": "@jupyter-widgets/base",
            "_view_module_version": "1.2.0",
            "_view_name": "LayoutView",
            "align_content": null,
            "align_items": null,
            "align_self": null,
            "border": null,
            "bottom": null,
            "display": null,
            "flex": null,
            "flex_flow": null,
            "grid_area": null,
            "grid_auto_columns": null,
            "grid_auto_flow": null,
            "grid_auto_rows": null,
            "grid_column": null,
            "grid_gap": null,
            "grid_row": null,
            "grid_template_areas": null,
            "grid_template_columns": null,
            "grid_template_rows": null,
            "height": null,
            "justify_content": null,
            "justify_items": null,
            "left": null,
            "margin": null,
            "max_height": null,
            "max_width": null,
            "min_height": null,
            "min_width": null,
            "object_fit": null,
            "object_position": null,
            "order": null,
            "overflow": null,
            "overflow_x": null,
            "overflow_y": null,
            "padding": null,
            "right": null,
            "top": null,
            "visibility": null,
            "width": null
          }
        },
        "e4c7626b602a4f6daa02e6f0809c3cd7": {
          "model_module": "@jupyter-widgets/controls",
          "model_name": "DescriptionStyleModel",
          "model_module_version": "1.5.0",
          "state": {
            "_model_module": "@jupyter-widgets/controls",
            "_model_module_version": "1.5.0",
            "_model_name": "DescriptionStyleModel",
            "_view_count": null,
            "_view_module": "@jupyter-widgets/base",
            "_view_module_version": "1.2.0",
            "_view_name": "StyleView",
            "description_width": ""
          }
        },
        "e97cfb5db2c943fd994a56f2aada677f": {
          "model_module": "@jupyter-widgets/controls",
          "model_name": "HBoxModel",
          "model_module_version": "1.5.0",
          "state": {
            "_dom_classes": [],
            "_model_module": "@jupyter-widgets/controls",
            "_model_module_version": "1.5.0",
            "_model_name": "HBoxModel",
            "_view_count": null,
            "_view_module": "@jupyter-widgets/controls",
            "_view_module_version": "1.5.0",
            "_view_name": "HBoxView",
            "box_style": "",
            "children": [
              "IPY_MODEL_a23fa88178164f0987b8d28cea654490",
              "IPY_MODEL_b8c777f43e6c42938311b69fff641097",
              "IPY_MODEL_8e917b6bbec64c3b8d41ea02fae2d8b0"
            ],
            "layout": "IPY_MODEL_c6fbd20290904a7ab4df91e374f8ea98"
          }
        },
        "a23fa88178164f0987b8d28cea654490": {
          "model_module": "@jupyter-widgets/controls",
          "model_name": "HTMLModel",
          "model_module_version": "1.5.0",
          "state": {
            "_dom_classes": [],
            "_model_module": "@jupyter-widgets/controls",
            "_model_module_version": "1.5.0",
            "_model_name": "HTMLModel",
            "_view_count": null,
            "_view_module": "@jupyter-widgets/controls",
            "_view_module_version": "1.5.0",
            "_view_name": "HTMLView",
            "description": "",
            "description_tooltip": null,
            "layout": "IPY_MODEL_d86cc7bfea6c4c8da169b50ea55bbf5d",
            "placeholder": "​",
            "style": "IPY_MODEL_22a16358a79044a39f1e38e96360cd7d",
            "value": "Batches: 100%"
          }
        },
        "b8c777f43e6c42938311b69fff641097": {
          "model_module": "@jupyter-widgets/controls",
          "model_name": "FloatProgressModel",
          "model_module_version": "1.5.0",
          "state": {
            "_dom_classes": [],
            "_model_module": "@jupyter-widgets/controls",
            "_model_module_version": "1.5.0",
            "_model_name": "FloatProgressModel",
            "_view_count": null,
            "_view_module": "@jupyter-widgets/controls",
            "_view_module_version": "1.5.0",
            "_view_name": "ProgressView",
            "bar_style": "success",
            "description": "",
            "description_tooltip": null,
            "layout": "IPY_MODEL_dac6b00736bf4a8f96cec6db2ce0dfc5",
            "max": 677,
            "min": 0,
            "orientation": "horizontal",
            "style": "IPY_MODEL_5ea2198c2aa74a37befcd2e1b540f12c",
            "value": 677
          }
        },
        "8e917b6bbec64c3b8d41ea02fae2d8b0": {
          "model_module": "@jupyter-widgets/controls",
          "model_name": "HTMLModel",
          "model_module_version": "1.5.0",
          "state": {
            "_dom_classes": [],
            "_model_module": "@jupyter-widgets/controls",
            "_model_module_version": "1.5.0",
            "_model_name": "HTMLModel",
            "_view_count": null,
            "_view_module": "@jupyter-widgets/controls",
            "_view_module_version": "1.5.0",
            "_view_name": "HTMLView",
            "description": "",
            "description_tooltip": null,
            "layout": "IPY_MODEL_513889a15bb5438c988e3a312a1a0776",
            "placeholder": "​",
            "style": "IPY_MODEL_1a28a8b0e6a14eac9411c4247cf94b06",
            "value": " 677/677 [00:13&lt;00:00, 121.28it/s]"
          }
        },
        "c6fbd20290904a7ab4df91e374f8ea98": {
          "model_module": "@jupyter-widgets/base",
          "model_name": "LayoutModel",
          "model_module_version": "1.2.0",
          "state": {
            "_model_module": "@jupyter-widgets/base",
            "_model_module_version": "1.2.0",
            "_model_name": "LayoutModel",
            "_view_count": null,
            "_view_module": "@jupyter-widgets/base",
            "_view_module_version": "1.2.0",
            "_view_name": "LayoutView",
            "align_content": null,
            "align_items": null,
            "align_self": null,
            "border": null,
            "bottom": null,
            "display": null,
            "flex": null,
            "flex_flow": null,
            "grid_area": null,
            "grid_auto_columns": null,
            "grid_auto_flow": null,
            "grid_auto_rows": null,
            "grid_column": null,
            "grid_gap": null,
            "grid_row": null,
            "grid_template_areas": null,
            "grid_template_columns": null,
            "grid_template_rows": null,
            "height": null,
            "justify_content": null,
            "justify_items": null,
            "left": null,
            "margin": null,
            "max_height": null,
            "max_width": null,
            "min_height": null,
            "min_width": null,
            "object_fit": null,
            "object_position": null,
            "order": null,
            "overflow": null,
            "overflow_x": null,
            "overflow_y": null,
            "padding": null,
            "right": null,
            "top": null,
            "visibility": null,
            "width": null
          }
        },
        "d86cc7bfea6c4c8da169b50ea55bbf5d": {
          "model_module": "@jupyter-widgets/base",
          "model_name": "LayoutModel",
          "model_module_version": "1.2.0",
          "state": {
            "_model_module": "@jupyter-widgets/base",
            "_model_module_version": "1.2.0",
            "_model_name": "LayoutModel",
            "_view_count": null,
            "_view_module": "@jupyter-widgets/base",
            "_view_module_version": "1.2.0",
            "_view_name": "LayoutView",
            "align_content": null,
            "align_items": null,
            "align_self": null,
            "border": null,
            "bottom": null,
            "display": null,
            "flex": null,
            "flex_flow": null,
            "grid_area": null,
            "grid_auto_columns": null,
            "grid_auto_flow": null,
            "grid_auto_rows": null,
            "grid_column": null,
            "grid_gap": null,
            "grid_row": null,
            "grid_template_areas": null,
            "grid_template_columns": null,
            "grid_template_rows": null,
            "height": null,
            "justify_content": null,
            "justify_items": null,
            "left": null,
            "margin": null,
            "max_height": null,
            "max_width": null,
            "min_height": null,
            "min_width": null,
            "object_fit": null,
            "object_position": null,
            "order": null,
            "overflow": null,
            "overflow_x": null,
            "overflow_y": null,
            "padding": null,
            "right": null,
            "top": null,
            "visibility": null,
            "width": null
          }
        },
        "22a16358a79044a39f1e38e96360cd7d": {
          "model_module": "@jupyter-widgets/controls",
          "model_name": "DescriptionStyleModel",
          "model_module_version": "1.5.0",
          "state": {
            "_model_module": "@jupyter-widgets/controls",
            "_model_module_version": "1.5.0",
            "_model_name": "DescriptionStyleModel",
            "_view_count": null,
            "_view_module": "@jupyter-widgets/base",
            "_view_module_version": "1.2.0",
            "_view_name": "StyleView",
            "description_width": ""
          }
        },
        "dac6b00736bf4a8f96cec6db2ce0dfc5": {
          "model_module": "@jupyter-widgets/base",
          "model_name": "LayoutModel",
          "model_module_version": "1.2.0",
          "state": {
            "_model_module": "@jupyter-widgets/base",
            "_model_module_version": "1.2.0",
            "_model_name": "LayoutModel",
            "_view_count": null,
            "_view_module": "@jupyter-widgets/base",
            "_view_module_version": "1.2.0",
            "_view_name": "LayoutView",
            "align_content": null,
            "align_items": null,
            "align_self": null,
            "border": null,
            "bottom": null,
            "display": null,
            "flex": null,
            "flex_flow": null,
            "grid_area": null,
            "grid_auto_columns": null,
            "grid_auto_flow": null,
            "grid_auto_rows": null,
            "grid_column": null,
            "grid_gap": null,
            "grid_row": null,
            "grid_template_areas": null,
            "grid_template_columns": null,
            "grid_template_rows": null,
            "height": null,
            "justify_content": null,
            "justify_items": null,
            "left": null,
            "margin": null,
            "max_height": null,
            "max_width": null,
            "min_height": null,
            "min_width": null,
            "object_fit": null,
            "object_position": null,
            "order": null,
            "overflow": null,
            "overflow_x": null,
            "overflow_y": null,
            "padding": null,
            "right": null,
            "top": null,
            "visibility": null,
            "width": null
          }
        },
        "5ea2198c2aa74a37befcd2e1b540f12c": {
          "model_module": "@jupyter-widgets/controls",
          "model_name": "ProgressStyleModel",
          "model_module_version": "1.5.0",
          "state": {
            "_model_module": "@jupyter-widgets/controls",
            "_model_module_version": "1.5.0",
            "_model_name": "ProgressStyleModel",
            "_view_count": null,
            "_view_module": "@jupyter-widgets/base",
            "_view_module_version": "1.2.0",
            "_view_name": "StyleView",
            "bar_color": null,
            "description_width": ""
          }
        },
        "513889a15bb5438c988e3a312a1a0776": {
          "model_module": "@jupyter-widgets/base",
          "model_name": "LayoutModel",
          "model_module_version": "1.2.0",
          "state": {
            "_model_module": "@jupyter-widgets/base",
            "_model_module_version": "1.2.0",
            "_model_name": "LayoutModel",
            "_view_count": null,
            "_view_module": "@jupyter-widgets/base",
            "_view_module_version": "1.2.0",
            "_view_name": "LayoutView",
            "align_content": null,
            "align_items": null,
            "align_self": null,
            "border": null,
            "bottom": null,
            "display": null,
            "flex": null,
            "flex_flow": null,
            "grid_area": null,
            "grid_auto_columns": null,
            "grid_auto_flow": null,
            "grid_auto_rows": null,
            "grid_column": null,
            "grid_gap": null,
            "grid_row": null,
            "grid_template_areas": null,
            "grid_template_columns": null,
            "grid_template_rows": null,
            "height": null,
            "justify_content": null,
            "justify_items": null,
            "left": null,
            "margin": null,
            "max_height": null,
            "max_width": null,
            "min_height": null,
            "min_width": null,
            "object_fit": null,
            "object_position": null,
            "order": null,
            "overflow": null,
            "overflow_x": null,
            "overflow_y": null,
            "padding": null,
            "right": null,
            "top": null,
            "visibility": null,
            "width": null
          }
        },
        "1a28a8b0e6a14eac9411c4247cf94b06": {
          "model_module": "@jupyter-widgets/controls",
          "model_name": "DescriptionStyleModel",
          "model_module_version": "1.5.0",
          "state": {
            "_model_module": "@jupyter-widgets/controls",
            "_model_module_version": "1.5.0",
            "_model_name": "DescriptionStyleModel",
            "_view_count": null,
            "_view_module": "@jupyter-widgets/base",
            "_view_module_version": "1.2.0",
            "_view_name": "StyleView",
            "description_width": ""
          }
        }
      }
    }
  },
  "nbformat": 4,
  "nbformat_minor": 5
}
