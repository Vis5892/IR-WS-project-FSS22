{
 "cells": [
  {
   "cell_type": "code",
   "execution_count": 1,
   "id": "e87c2eb9",
   "metadata": {},
   "outputs": [
    {
     "name": "stdout",
     "output_type": "stream",
     "text": [
      "Loading label finished\n"
     ]
    }
   ],
   "source": [
    "# prepare train label\n",
    "label_list = {}\n",
    "label_file_path = 'label_2.tsv'\n",
    "label_file = open(label_file_path)\n",
    "\n",
    "#if there is header\n",
    "next(label_file)\n",
    "for line in label_file:\n",
    "    qid, pid, label = line.strip().split(\"\\t\")\n",
    "    label_list[qid, pid] = label\n",
    "\n",
    "print('Loading label finished')\n",
    "#print(label_list)"
   ]
  },
  {
   "cell_type": "code",
   "execution_count": 11,
   "id": "a943f3b6",
   "metadata": {},
   "outputs": [
    {
     "name": "stdout",
     "output_type": "stream",
     "text": [
      "Loading feature finished\n"
     ]
    }
   ],
   "source": [
    "# prepare feature data\n",
    "import pandas as pd\n",
    "feature = pd.read_csv('feature.tsv', sep = '\\t')\n",
    "#feature.drop(columns = '')\n",
    "print('Loading feature finished')"
   ]
  },
  {
   "cell_type": "code",
   "execution_count": 19,
   "id": "1118546e",
   "metadata": {},
   "outputs": [
    {
     "name": "stdout",
     "output_type": "stream",
     "text": [
      "Loading pair finished\n"
     ]
    }
   ],
   "source": [
    "# prepare training data\n",
    "import pandas as pd\n",
    "comb = pd.read_csv('triple_train.tsv', sep = '\\t')\n",
    "comb.head()\n",
    "print('Loading pair finished')"
   ]
  },
  {
   "cell_type": "code",
   "execution_count": null,
   "id": "11875e30",
   "metadata": {},
   "outputs": [],
   "source": []
  },
  {
   "cell_type": "code",
   "execution_count": 20,
   "id": "9ab04e39",
   "metadata": {},
   "outputs": [],
   "source": [
    "# make pairs for training\n",
    "from itertools import combinations\n",
    "def make_pairs(file_path, query_num, passage_num):\n",
    "\n",
    "    ## collect passages\n",
    "    qp = {}\n",
    "\n",
    "    file = open(file_path)\n",
    "    next(file)\n",
    "    for line in file:\n",
    "        #qid, pid, query, passage = line.strip().split(\"\\t\")\n",
    "        qid, pid1, pid2 = line.strip().split(\"\\t\")\n",
    "        if (qid not in qp) & (len(qp) < query_num):\n",
    "            qp[qid] = [pid1]\n",
    "            qp[qid].append(pid2)\n",
    "            \n",
    "        # collect specific passage\n",
    "        elif (qid in qp) & (len(qp[qid]) < passage_num):\n",
    "            if pid1 not in qp[qid]:\n",
    "                qp[qid].append(pid1)\n",
    "            if pid2 not in qp[qid]:\n",
    "                qp[qid].append(pid2)\n",
    "        elif (len(qp) == query_num) & (len(qp[qid]) == passage_num):\n",
    "            break\n",
    "        \n",
    "        \"\"\"collect all passages \n",
    "        else:\n",
    "            qp[qid].append(pid)\"\"\"\n",
    "\n",
    "\n",
    "    # all combination\n",
    "    comb_list = {}\n",
    "    \n",
    "    for q in qp.keys():\n",
    "        comb_list[q] = list(combinations(qp[q], 2))\n",
    "    #print(comb_list)\n",
    "    \n",
    "    \n",
    "    # make it as array\n",
    "    comb_array = []\n",
    "    for i, k in enumerate(comb_list.keys()):\n",
    "        for i, j in enumerate(comb_list[k]):\n",
    "        #print(k, j[0], j[1])\n",
    "            comb_array.append([k, j[0], j[1]])\n",
    "    \n",
    "    return comb_array\n"
   ]
  },
  {
   "cell_type": "code",
   "execution_count": 30,
   "id": "0b303fa4",
   "metadata": {},
   "outputs": [],
   "source": [
    "array = make_pairs('triple_train.tsv', 1000, 10)"
   ]
  },
  {
   "cell_type": "code",
   "execution_count": 32,
   "id": "588f807e",
   "metadata": {},
   "outputs": [],
   "source": [
    "import tensorflow as tf\n",
    "from tensorflow.keras import layers, activations, losses, Model, Input\n",
    "from tensorflow.nn import leaky_relu\n",
    "import numpy as np\n",
    "from itertools import combinations\n",
    "from tensorflow.keras.utils import plot_model, Progbar\n",
    "import matplotlib.pyplot as plt\n",
    "from sklearn.model_selection import train_test_split\n",
    "import numpy as np\n",
    "\n",
    "# model architecture\n",
    "class RankNet(Model):\n",
    "    def __init__(self):\n",
    "        super().__init__()\n",
    "        self.dense = [layers.Dense(16, activation=leaky_relu), layers.Dense(8, activation=leaky_relu)]\n",
    "        self.o = layers.Dense(1, activation='linear')\n",
    "        self.oi_minus_oj = layers.Subtract()\n",
    "    \n",
    "    def call(self, inputs):\n",
    "        xi, xj = inputs\n",
    "        densei = self.dense[0](xi)\n",
    "        densej = self.dense[0](xj)\n",
    "        for dense in self.dense[1:]:\n",
    "            densei = dense(densei)\n",
    "            densej = dense(densej)\n",
    "        oi = self.o(densei)\n",
    "        oj= self.o(densej)\n",
    "        oij = self.oi_minus_oj([oi, oj])\n",
    "        output = layers.Activation('sigmoid')(oij)\n",
    "        return output\n",
    "    \n",
    "    def build_graph(self):\n",
    "        x = [Input(shape=(200)), Input(shape=(200))]\n",
    "        return Model(inputs=x, outputs=self.call(x))"
   ]
  },
  {
   "cell_type": "code",
   "execution_count": 33,
   "id": "afda4540",
   "metadata": {},
   "outputs": [],
   "source": [
    "\n",
    "def get_label(label_data, qid, pid):\n",
    "    if (qid, pid) in label_data:\n",
    "        return 1\n",
    "    else:\n",
    "        return 0"
   ]
  },
  {
   "cell_type": "code",
   "execution_count": null,
   "id": "23c4fbba",
   "metadata": {},
   "outputs": [],
   "source": []
  },
  {
   "cell_type": "code",
   "execution_count": 34,
   "id": "c4cf788c",
   "metadata": {},
   "outputs": [
    {
     "name": "stdout",
     "output_type": "stream",
     "text": [
      "Prepare data finished\n"
     ]
    }
   ],
   "source": [
    "xi = []\n",
    "xj = []\n",
    "pij = []\n",
    "pair_id = []\n",
    "pair_query_id = []\n",
    "\n",
    "file = open(\"comb.tsv\")\n",
    "\n",
    "\n",
    "\n",
    "\n",
    "for line in array:\n",
    "    qid = line[0]\n",
    "    pid1 = line[1]\n",
    "    pid2 = line[2]\n",
    "        \n",
    "    xi.append(list(np.float_(feature.loc[feature.pid == int(pid1),'passage'].values[0].strip('][').split(', '))))\n",
    "        #list(np.float_(feature.loc[feature.pid == 1811 ,'Feature_Vector'].values[0].strip('][').split(', ')))\n",
    "    xj.append(list(np.float_(feature.loc[feature.pid == int(pid2),'passage'].values[0].strip('][').split(', '))))\n",
    "    pair_id.append([pid1, pid2])\n",
    "    pair_query_id.append(qid)\n",
    "    \n",
    "    \n",
    "    label_data = label_list\n",
    "    label_pid1 = get_label(label_data, qid, pid1)\n",
    "    label_pid2 = get_label(label_data, qid, pid2)\n",
    "    \n",
    "    if label_pid1 == label_pid2:\n",
    "        _pij = 0.5\n",
    "    elif label_pid1 > label_pid2:\n",
    "        _pij = 1\n",
    "    else: \n",
    "         _pij = 0\n",
    "    pij.append(_pij)\n",
    "\n",
    "        \n",
    "\n",
    "\n",
    "\n",
    "xi = np.array(xi)\n",
    "xj = np.array(xj)\n",
    "pij = np.array(pij)\n",
    "pair_query_id = np.array(pair_query_id)\n",
    "\n",
    "print('Prepare data finished')"
   ]
  },
  {
   "cell_type": "code",
   "execution_count": 37,
   "id": "d7717710",
   "metadata": {},
   "outputs": [
    {
     "name": "stdout",
     "output_type": "stream",
     "text": [
      "Epoch 1/10\n",
      "1125/1125 [==============================] - 1s 569us/step - loss: 0.7347 - val_loss: 0.6893\n",
      "Epoch 2/10\n",
      "1125/1125 [==============================] - 1s 513us/step - loss: 0.6853 - val_loss: 0.6826\n",
      "Epoch 3/10\n",
      "1125/1125 [==============================] - 1s 498us/step - loss: 0.6765 - val_loss: 0.6772\n",
      "Epoch 4/10\n",
      "1125/1125 [==============================] - 1s 503us/step - loss: 0.6697 - val_loss: 0.6718\n",
      "Epoch 5/10\n",
      "1125/1125 [==============================] - 1s 499us/step - loss: 0.6634 - val_loss: 0.6671\n",
      "Epoch 6/10\n",
      "1125/1125 [==============================] - 1s 500us/step - loss: 0.6584 - val_loss: 0.6636\n",
      "Epoch 7/10\n",
      "1125/1125 [==============================] - 1s 499us/step - loss: 0.6535 - val_loss: 0.6601\n",
      "Epoch 8/10\n",
      "1125/1125 [==============================] - 1s 500us/step - loss: 0.6496 - val_loss: 0.6572\n",
      "Epoch 9/10\n",
      "1125/1125 [==============================] - 1s 501us/step - loss: 0.6474 - val_loss: 0.6551\n",
      "Epoch 10/10\n",
      "1125/1125 [==============================] - 1s 499us/step - loss: 0.6449 - val_loss: 0.6533\n"
     ]
    }
   ],
   "source": [
    "# split data\n",
    "xi_train, xi_test, xj_train, xj_test, pij_train, pij_test, pair_id_train, pair_id_test= train_test_split(\n",
    "    xi, xj, pij, pair_id, test_size=0.2, stratify=pair_query_id)\n",
    "\n",
    "# train model using compile and fit\n",
    "ranknet = RankNet()\n",
    "ranknet.compile(optimizer='adam', loss='binary_crossentropy')\n",
    "history = ranknet.fit([xi_train, xj_train], pij_train, epochs = 10, validation_data=([xi_test, xj_test], pij_test))\n",
    "\n"
   ]
  },
  {
   "cell_type": "code",
   "execution_count": 38,
   "id": "7b420c31",
   "metadata": {},
   "outputs": [
    {
     "data": {
      "image/png": "[encoded data removed]",
      "text/plain": [
       "<Figure size 432x288 with 1 Axes>"
      ]
     },
     "metadata": {
      "needs_background": "light"
     },
     "output_type": "display_data"
    }
   ],
   "source": [
    "# function for plotting loss\n",
    "def plot_metrics(train_metric, val_metric=None, metric_name=None, title=None, ylim=5):\n",
    "    plt.title(title)\n",
    "    plt.ylim(0,ylim)\n",
    "    plt.plot(train_metric,color='blue',label=metric_name)\n",
    "    if val_metric is not None: plt.plot(val_metric,color='green',label='val_' + metric_name)\n",
    "    plt.legend(loc=\"upper right\")\n",
    "\n",
    "# plot loss history\n",
    "plot_metrics(history.history['loss'], history.history['val_loss'], \"Loss\", \"Loss\", ylim=1.0)\n"
   ]
  },
  {
   "cell_type": "code",
   "execution_count": 40,
   "id": "b14ef195",
   "metadata": {},
   "outputs": [
    {
     "data": {
      "text/plain": [
       "array([[ 1.76, -1.41,  0.7 , ..., -1.83,  0.07, -1.21],\n",
       "       [ 1.51,  0.45,  0.17, ...,  1.2 ,  0.38,  0.74],\n",
       "       [ 1.55,  1.16,  2.12, ..., -1.07,  0.06, -0.83],\n",
       "       ...,\n",
       "       [-0.13, -1.82, -0.39, ...,  0.15,  2.33,  0.71],\n",
       "       [-1.18, -1.79, -1.03, ...,  0.51,  0.95, -2.42],\n",
       "       [-1.18, -1.79, -1.03, ...,  0.51,  0.95, -2.42]])"
      ]
     },
     "execution_count": 40,
     "metadata": {},
     "output_type": "execute_result"
    }
   ],
   "source": [
    "xj"
   ]
  },
  {
   "cell_type": "code",
   "execution_count": 193,
   "id": "37dbecc0",
   "metadata": {},
   "outputs": [
    {
     "data": {
      "text/plain": [
       "44982"
      ]
     },
     "execution_count": 193,
     "metadata": {},
     "output_type": "execute_result"
    }
   ],
   "source": [
    "len(xi)"
   ]
  },
  {
   "cell_type": "code",
   "execution_count": 45,
   "id": "cd2e5f54",
   "metadata": {},
   "outputs": [
    {
     "data": {
      "text/plain": [
       "array([0.5, 0.5, 0.5, ..., 0.5, 0.5, 0.5])"
      ]
     },
     "execution_count": 45,
     "metadata": {},
     "output_type": "execute_result"
    }
   ],
   "source": [
    "pij_train"
   ]
  },
  {
   "cell_type": "code",
   "execution_count": 49,
   "id": "33f1d0c4",
   "metadata": {},
   "outputs": [
    {
     "data": {
      "text/plain": [
       "['5451224', '8380598']"
      ]
     },
     "execution_count": 49,
     "metadata": {},
     "output_type": "execute_result"
    }
   ],
   "source": [
    "pair_id_train[35980]"
   ]
  },
  {
   "cell_type": "code",
   "execution_count": null,
   "id": "fa70a596",
   "metadata": {},
   "outputs": [],
   "source": [
    "test = []\n",
    "for i, k in enumerate(comb_test.keys()):\n",
    "    for i, j in enumerate(comb_test[k]):\n",
    "        #print(k, j[0], j[1])\n",
    "        test.append([k, j[0], j[1]])\n"
   ]
  },
  {
   "cell_type": "code",
   "execution_count": 58,
   "id": "81c88889",
   "metadata": {},
   "outputs": [],
   "source": [
    "test = make_pairs('triple_test.tsv', 2, 999)"
   ]
  },
  {
   "cell_type": "code",
   "execution_count": 59,
   "id": "a7ab8c37",
   "metadata": {},
   "outputs": [],
   "source": [
    "xi_eval = []\n",
    "xj_eval = []\n",
    "for item in test:\n",
    "    xi_eval.append(list(np.float_(feature.loc[feature.pid == int(item[1]),'passage'].values[0].strip('][').split(', '))))\n",
    "    xj_eval.append(list(np.float_(feature.loc[feature.pid == int(item[2]),'passage'].values[0].strip('][').split(', '))))\n",
    "\n",
    "xi_eval = np.array(xi_eval)\n",
    "xj_eval = np.array(xj_eval)"
   ]
  },
  {
   "cell_type": "code",
   "execution_count": 60,
   "id": "d2c3b9d2",
   "metadata": {},
   "outputs": [],
   "source": [
    "predict = ranknet.predict([xi_eval, xj_eval])"
   ]
  },
  {
   "cell_type": "code",
   "execution_count": 66,
   "id": "e322098b",
   "metadata": {},
   "outputs": [
    {
     "data": {
      "text/plain": [
       "array([[0.62528133],\n",
       "       [0.51356345],\n",
       "       [0.7171025 ],\n",
       "       ...,\n",
       "       [0.80144143],\n",
       "       [0.72061354],\n",
       "       [0.38987908]], dtype=float32)"
      ]
     },
     "execution_count": 66,
     "metadata": {},
     "output_type": "execute_result"
    }
   ],
   "source": [
    "predict"
   ]
  },
  {
   "cell_type": "code",
   "execution_count": null,
   "id": "5513e144",
   "metadata": {},
   "outputs": [],
   "source": [
    "float(predict[0])"
   ]
  },
  {
   "cell_type": "code",
   "execution_count": 61,
   "id": "7633b44c",
   "metadata": {},
   "outputs": [
    {
     "name": "stdout",
     "output_type": "stream",
     "text": [
      "(1998, 3)\n",
      "       qid      pid       score\n",
      "0  1047934  8167317  878.109045\n",
      "1  1047934  2512890  857.200131\n",
      "2  1047934  4396945  814.702825\n",
      "3  1047934  2667147  787.398122\n",
      "4  1047934  4344546  776.744467\n"
     ]
    }
   ],
   "source": [
    "# create ranking based on probability\n",
    "qp_rank = []\n",
    "#pair_id_eval\n",
    "\n",
    "\n",
    "index = 0\n",
    "for p in predict:\n",
    "    qp_rank.append([test[index][0], test[index][1], float(p)])\n",
    "    qp_rank.append([test[index][0], test[index][2], 1-float(p)])\n",
    "    \n",
    "    #print(index)\n",
    "    index += 1\n",
    "\n",
    "score_board = pd.DataFrame(qp_rank, columns=[\n",
    "    \"qid\", \"pid\", \"score\"]).groupby(['qid', 'pid']).agg({\"score\": \"sum\"}).sort_values(['qid','score'], ascending=False).reset_index()\n",
    "print(score_board.shape)\n",
    "print(score_board.head())"
   ]
  },
  {
   "cell_type": "code",
   "execution_count": 65,
   "id": "844fa584",
   "metadata": {},
   "outputs": [
    {
     "data": {
      "text/html": [
       "<div>\n",
       "<style scoped>\n",
       "    .dataframe tbody tr th:only-of-type {\n",
       "        vertical-align: middle;\n",
       "    }\n",
       "\n",
       "    .dataframe tbody tr th {\n",
       "        vertical-align: top;\n",
       "    }\n",
       "\n",
       "    .dataframe thead th {\n",
       "        text-align: right;\n",
       "    }\n",
       "</style>\n",
       "<table border=\"1\" class=\"dataframe\">\n",
       "  <thead>\n",
       "    <tr style=\"text-align: right;\">\n",
       "      <th></th>\n",
       "      <th>qid</th>\n",
       "      <th>pid</th>\n",
       "      <th>score</th>\n",
       "    </tr>\n",
       "  </thead>\n",
       "  <tbody>\n",
       "    <tr>\n",
       "      <th>35</th>\n",
       "      <td>1047934</td>\n",
       "      <td>4189606</td>\n",
       "      <td>691.390699</td>\n",
       "    </tr>\n",
       "  </tbody>\n",
       "</table>\n",
       "</div>"
      ],
      "text/plain": [
       "        qid      pid       score\n",
       "35  1047934  4189606  691.390699"
      ]
     },
     "execution_count": 65,
     "metadata": {},
     "output_type": "execute_result"
    }
   ],
   "source": [
    "score_board[score_board['pid'] == '4189606']"
   ]
  },
  {
   "cell_type": "code",
   "execution_count": null,
   "id": "92e9693c",
   "metadata": {},
   "outputs": [],
   "source": [
    "score_board[score_board['pid'] == '3712662']"
   ]
  },
  {
   "cell_type": "code",
   "execution_count": 71,
   "id": "ea60bdf6",
   "metadata": {},
   "outputs": [],
   "source": [
    "score_lines = score_board[['qid', 'pid']].to_numpy()"
   ]
  },
  {
   "cell_type": "code",
   "execution_count": 186,
   "id": "d8a6b506",
   "metadata": {},
   "outputs": [],
   "source": [
    "rank_score ={}\n",
    "for p in score_lines:\n",
    "    #print(p)\n",
    "    if p[0] not in rank_score:\n",
    "        rank_score[p[0]] = []\n",
    "    \n",
    "    if (p[0], p[1]) in label_list:\n",
    "        rank_score[p[0]].append(1)\n",
    "        #print(p[0], p[1])\n",
    "    else:\n",
    "        rank_score[p[0]].append(0)\n",
    "\n",
    "    "
   ]
  },
  {
   "cell_type": "code",
   "execution_count": 187,
   "id": "938f789c",
   "metadata": {},
   "outputs": [
    {
     "data": {
      "text/plain": [
       "dict_keys(['1047934', '1047605'])"
      ]
     },
     "execution_count": 187,
     "metadata": {},
     "output_type": "execute_result"
    }
   ],
   "source": [
    "rank_score.keys()"
   ]
  },
  {
   "cell_type": "code",
   "execution_count": 188,
   "id": "5515c2d1",
   "metadata": {},
   "outputs": [],
   "source": [
    "from sklearn.metrics import ndcg_score\n",
    "true_relevance = np.full(998, 0)\n",
    "true_relevance = np.concatenate(([1], true_relevance))\n"
   ]
  },
  {
   "cell_type": "code",
   "execution_count": 189,
   "id": "b2521bda",
   "metadata": {},
   "outputs": [
    {
     "data": {
      "text/plain": [
       "0.12223567551096183"
      ]
     },
     "execution_count": 189,
     "metadata": {},
     "output_type": "execute_result"
    }
   ],
   "source": [
    "ndcg_score([true_relevance], [rank_score['1047934']])"
   ]
  }
 ],
 "metadata": {
  "kernelspec": {
   "display_name": "Python 3 (ipykernel)",
   "language": "python",
   "name": "python3"
  },
  "language_info": {
   "codemirror_mode": {
    "name": "ipython",
    "version": 3
   },
   "file_extension": ".py",
   "mimetype": "text/x-python",
   "name": "python",
   "nbconvert_exporter": "python",
   "pygments_lexer": "ipython3",
   "version": "3.9.7"
  }
 },
 "nbformat": 4,
 "nbformat_minor": 5
}
